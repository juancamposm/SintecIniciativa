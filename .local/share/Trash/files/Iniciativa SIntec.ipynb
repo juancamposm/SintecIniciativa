{
 "cells": [
  {
   "cell_type": "markdown",
   "metadata": {},
   "source": [
    "<img src = \"Sintec_logo.JPG\" alt=\"drawing\" width=\"200\" align=\"left\">\n"
   ]
  },
  {
   "cell_type": "markdown",
   "metadata": {},
   "source": [
    "# Iniciativa Sintec\n"
   ]
  },
  {
   "cell_type": "code",
   "execution_count": 1,
   "metadata": {},
   "outputs": [
    {
     "ename": "ModuleNotFoundError",
     "evalue": "No module named 'sklearn'",
     "output_type": "error",
     "traceback": [
      "\u001b[0;31m---------------------------------------------------------------------------\u001b[0m",
      "\u001b[0;31mModuleNotFoundError\u001b[0m                       Traceback (most recent call last)",
      "\u001b[0;32m<ipython-input-1-0fa19da01e8a>\u001b[0m in \u001b[0;36m<module>\u001b[0;34m\u001b[0m\n\u001b[1;32m      9\u001b[0m \u001b[0;32mimport\u001b[0m \u001b[0mbqplot\u001b[0m\u001b[0;34m.\u001b[0m\u001b[0mpyplot\u001b[0m \u001b[0;32mas\u001b[0m \u001b[0mplt\u001b[0m\u001b[0;34m\u001b[0m\u001b[0;34m\u001b[0m\u001b[0m\n\u001b[1;32m     10\u001b[0m \u001b[0;34m\u001b[0m\u001b[0m\n\u001b[0;32m---> 11\u001b[0;31m \u001b[0;32mfrom\u001b[0m \u001b[0msklearn\u001b[0m\u001b[0;34m.\u001b[0m\u001b[0mcluster\u001b[0m \u001b[0;32mimport\u001b[0m \u001b[0mKMeans\u001b[0m\u001b[0;34m\u001b[0m\u001b[0;34m\u001b[0m\u001b[0m\n\u001b[0m\u001b[1;32m     12\u001b[0m \u001b[0;32mfrom\u001b[0m \u001b[0mIPython\u001b[0m\u001b[0;34m.\u001b[0m\u001b[0mdisplay\u001b[0m \u001b[0;32mimport\u001b[0m \u001b[0mHTML\u001b[0m\u001b[0;34m\u001b[0m\u001b[0;34m\u001b[0m\u001b[0m\n\u001b[1;32m     13\u001b[0m \u001b[0;34m\u001b[0m\u001b[0m\n",
      "\u001b[0;31mModuleNotFoundError\u001b[0m: No module named 'sklearn'"
     ]
    }
   ],
   "source": [
    "from time import sleep\n",
    "\n",
    "import numpy as np\n",
    "import pandas as pd\n",
    "\n",
    "from ipywidgets import *\n",
    "\n",
    "from bqplot import OrdinalColorScale, CATEGORY10\n",
    "import bqplot.pyplot as plt\n",
    "\n",
    "from sklearn.cluster import KMeans\n",
    "from IPython.display import HTML\n",
    "\n",
    "\n"
   ]
  },
  {
   "cell_type": "markdown",
   "metadata": {},
   "source": [
    "## Tabla de Contenidos\n",
    "* [Objetivo de este Notebook](#Objetivos)\n",
    "* [Qué es Machine Learning?](#whatIs)\n",
    "* [Segmentación de Clientes](#segmentacion)\n",
    "    * [Clusterización](#cluster)\n",
    "        * [Ejemplo](#ejemploCluster)\n",
    "            * [Edad vs Score](#EdadvsScore)\n",
    "            * [Edad vs Ingresos](#EdadvsIngresos)\n",
    "            * [Ingresos vs Score](#IngresosvsScore)\n",
    "    * [Clasificación](#clasificacion)\n",
    "        * [Ejemplo](#ejemploClasificacion)"
   ]
  },
  {
   "cell_type": "markdown",
   "metadata": {},
   "source": [
    "<a id = 'Objetivos'></a>\n",
    "### <font color = \"darkblue\">El Objetivo de este notebook</font>\n",
    "* Explicar que es Machine Learning\n",
    "* Explicar las razones de porqué una implenatación de modelos de Machine Learning permite mejorar procesos en la industria.\n",
    "*"
   ]
  },
  {
   "cell_type": "markdown",
   "metadata": {},
   "source": [
    "<a id = 'whatIs'></a>\n",
    "## <font color = \"darkblue\">¿Qué es Machine Learning?</font>\n",
    "\n",
    "Tal vez la gran mayoría de las personas no lo sepan pero, gran parte de las herramientas tecnológicas que poseen usan Machine Learning. ¿Pero qué es Machine Learning? En el prologo del libro “Machine Learning: The Art and Science of Algorithms that Make Sense of Data” se define este concepto como; ‘Machine Learning es el estudio sistemático de algoritmos y sistemas que mejoran su conocimiento o rendimiento con experiencia”, tal vez esta definición no es tan intuitiva, o más bien, no permite conocer que utilidad puede tener un modelo de Machine Learning. Una respuesta más sencilla, podría ser: Los modelos analiticos de Machine Learning permiten, a través de información(datos), resolver problemas que no son intuitivos de resolver. Debido a esto, este campo tiene y está obteniendo una gran popularidad en diversos campos de la industria, ya que permite mejorar ciertos aspectos a través de información (o Experiencia).\n",
    "\n",
    "#### Ventajas de usar Machine Learning en la industria\n",
    "* Segmentación del mercado  \n",
    "* Clasificación de clientes\n",
    "* Entendimiento de variables\n",
    "\n",
    "\n"
   ]
  },
  {
   "cell_type": "markdown",
   "metadata": {},
   "source": [
    "<a id = 'segmentacion'></a>\n",
    "## <font color = \"darkblue\">Segmentación de clientes</font>\n",
    "En la industria uno de los objetivos de gran parte de los compañías que ofrecen un servicio o un producto a sus clientes, desean segmentar a sus consumidores debido a diversas razones, entre ellas se encuentra:\n",
    "* Ofrecer productos personalizados, hace más felices a los clientes\n",
    "* Permite conocer que productos son los que se deben ofrecer\n",
    "* Permite conocer mejor a sus clientes\n",
    "\n",
    "Debido a esto, hay diversos algoritmos de Machine Learning que permiten encontrar estos grupos con base a los datos que se tengan de los consumidores, dentro de ellos se encuentra:\n",
    "\n",
    "* Modelos de Clusterización\n",
    "* Modelos de Clasificación\n",
    "* Modelos de Social Network Analysis"
   ]
  },
  {
   "cell_type": "markdown",
   "metadata": {},
   "source": [
    "<a id = 'cluster'></a>\n",
    "### <font color = \"darkblue\">Clusterización</font>\n",
    "Clusterización es uno de los métodos más populares de Machine Learning, en donde se realizan divisiones de unos datos establecidos en grupos diferente permitiendo encontrar características similares que no son perceptibles fácilmente. Esto permite entender mejor los datos, y encontrar relaciones sobre los mismos. Uno de los casos más utilizados, es en la segmentación de clientes, ya que permite encontrar grupos de consumidores con caracteristícas similares y así ofrecerle diferentes beneficios segementados por estos grupos, ya que esto permite generar mayor fidelidad de los clientes al recibir productos o servicios \"personalizados\".\n",
    "<br>\n",
    "<br>\n",
    "<br>\n",
    "<br>\n",
    "![GIF](Cluster.GIF)\n"
   ]
  },
  {
   "cell_type": "markdown",
   "metadata": {},
   "source": [
    "<a id = 'ejemploCluster'></a>\n",
    "#### Ejemplo\n",
    "Suponga que un centro comercial crea una base de datos[2] de sus clientes, en donde utiliza información como la edad y el salario para entender que caracteristicas componen las personas que visitan las diferentes tiendas. Adicionalmente, tambien asigna un puntaje a cada uno de los datos de que tan propensa es la persona para gastar en las tiendas.\n",
    "<br>\n",
    "<br>\n",
    "<br>\n",
    "<img src = \"bokeh-background-shopping-center-with-lights_1203-1543.jpg\" alt=\"drawing\" width=\"500\" align=\"center\">"
   ]
  },
  {
   "cell_type": "markdown",
   "metadata": {},
   "source": [
    "A continuación se muestra como se compone la base que creo este centro comercial:"
   ]
  },
  {
   "cell_type": "code",
   "execution_count": null,
   "metadata": {},
   "outputs": [],
   "source": [
    "# Dataset\n",
    "df2 = pd.read_csv('Mall_Customers.csv')\n",
    "\n",
    "X1 = pd.DataFrame()\n",
    "X1['Age'] = df2['Age']\n",
    "X1['Spending Score (1-100)'] = df2['Spending Score (1-100)']\n",
    "X1 = X1.values\n",
    "\n",
    "X2 = pd.DataFrame()\n",
    "X2['Age']=df2['Age']\n",
    "X2['Annual Income (k$)']=df2['Annual Income (k$)']\n",
    "X2 = X2.values\n",
    "\n",
    "X3 = pd.DataFrame()\n",
    "X3['Annual Income (k$)'] = df2['Annual Income (k$)']\n",
    "X3['Spending Score (1-100)'] = df2['Spending Score (1-100)']\n",
    "X3 = X3.values\n",
    "\n",
    "df2.head()"
   ]
  },
  {
   "cell_type": "markdown",
   "metadata": {},
   "source": [
    "Para este centro comercial es muy importante poder segmentar sus clientes para poder ofrecerle ofertas a cierto tipo de personas, y adicional le permite conocer quien es su público objetivo. A continuación se presentan tres ejemplos de segmentación:"
   ]
  },
  {
   "cell_type": "markdown",
   "metadata": {},
   "source": [
    "<a id = 'EdadvsScore'></a>\n",
    "### <font color = \"darkred\">Edad vs Score</font>\n",
    "\n",
    "Segmentar grupos teniendo en cuenta la edad como una variable descriptiva, es muy útil porque esta permite entender facilmente las características de las personas. En este caso permite saber:\n",
    "* Qué segmentos de edad son los que tienen mejor Score.\n",
    "* Cómo se concentran las edades que van al centro comercial.\n",
    "* Qué productos ofrecer y en qué cantidad dependiendo hacia que grupo se enfoque."
   ]
  },
  {
   "cell_type": "code",
   "execution_count": null,
   "metadata": {},
   "outputs": [],
   "source": [
    "\n",
    "k_slider1 = IntSlider(description='Núm. Clusters', value=3, min=1, max=10)\n",
    "cluster_std_slider1 = FloatSlider(description='cluster std', value=.8, min=.5, max=3)\n",
    "\n",
    "iter_label_tmpl1 = 'Iterations: {}'\n",
    "iter_label1 = Label(value=iter_label_tmpl1.format(''))\n",
    "iter_label1.layout.width = '300px'\n",
    "\n",
    "fig1 = plt.figure(title='K-means clustering', animation_duration=1000, layout=Layout(width = '700px', height = '700px') )\n",
    "\n",
    "plt.scales(scales={'color': OrdinalColorScale(colors=CATEGORY10)})\n",
    "\n",
    "axes_options1 = {'x': {'label': 'Edad'}, 'y': {'label': 'Ingresos '}, 'color': {'visible': False}}\n",
    "\n",
    "# scatter of 1D features\n",
    "points_scat1 = plt.scatter([], [], color=[], stroke='black', axes_options=axes_options1)\n",
    "\n",
    "# scatter of centroids\n",
    "centroid_scat1 = plt.scatter([], [], color=[], stroke_width=3, stroke='black',\n",
    "                           default_size=400, axes_options=axes_options1)\n",
    "\n",
    "points1 = Button(description='Graficar', button_style='success', layout=Layout(width='80px'))\n",
    "go_btn1 = Button(description='Iniciar', button_style='success', layout=Layout(width='80px'))\n",
    "go_btn1.disabled = True\n",
    "def graph1():\n",
    "    global X1\n",
    "    points1.disabled = True\n",
    "    go_btn1.disabled = False\n",
    "    with points_scat1.hold_sync():\n",
    "    #plot the points on a scatter chart\n",
    "        points_scat1.x = X1[:, 0]\n",
    "        points_scat1.y = X1[:, 1]\n",
    "\n",
    "\n",
    "def start_animation1(generate_points=True):\n",
    "    global X1\n",
    "    go_btn1.disabled = True\n",
    "    \n",
    "    # get the values of parameters from sliders\n",
    "    K1 = k_slider1.value\n",
    "    \n",
    "    # randomly pick K data points to be centroids\n",
    "    random_indices1 = np.random.choice(np.arange(len(X1)), size=K1, replace=False)\n",
    "    centroids1 = X1[random_indices1]\n",
    "    \n",
    "    i = 0\n",
    "    \n",
    "    # try for 10 iterations\n",
    "    while i < 10:\n",
    "        iter_label1.value = iter_label_tmpl1.format(i + 1)\n",
    "        \n",
    "        with centroid_scat1.hold_sync():\n",
    "            centroid_scat1.x = centroids1[:, 0]\n",
    "            centroid_scat1.y = centroids1[:, 1]\n",
    "            centroid_scat1.color = np.arange(K1)\n",
    "        \n",
    "        # assaign clusters to points based on the closest centroid\n",
    "        clusters1 = np.argmin(np.linalg.norm(X1.reshape(len(X1), 1 , 2)-centroids1, axis=2), axis=1)\n",
    "        \n",
    "        # color code the points by their clusters\n",
    "        points_scat1.color = clusters1\n",
    "        \n",
    "        # compute new centroids from the clusters\n",
    "        new_centroids1 = np.array([X1[clusters1 == k].mean(axis=0) for k in range(K1)])\n",
    "        \n",
    "        if np.all(centroids1 == new_centroids1):\n",
    "            # if centroids don't change we are done\n",
    "            break\n",
    "        else:\n",
    "            #update the centroids and repeat\n",
    "            centroids1 = new_centroids1\n",
    "            i = i + 1\n",
    "            sleep(1)\n",
    "            \n",
    "    go_btn1.disabled = False\n",
    "    \n",
    "points1.on_click(lambda btn: graph1())\n",
    "go_btn1.on_click(lambda btn: start_animation1())\n",
    "\n",
    "\n",
    "controls_layout1 = VBox([k_slider1, cluster_std_slider1, HBox([points1, go_btn1]), iter_label1])\n",
    "controls_layout1.layout.margin = '60px 0px 0px 0px'\n",
    "\n",
    "Box1 = HBox([VBox([fig1]), controls_layout1])\n",
    "Box1 "
   ]
  },
  {
   "cell_type": "markdown",
   "metadata": {},
   "source": [
    "<a id = 'EdadvsIngresos'></a>\n",
    "### <font color = \"darkred\">Edad vs Ingresos</font>\n",
    "\n",
    "Edad vs ingresos, permite conocer el perfil de los clientes con base a su edad ya que el ingreso permite dar un contexto de los consumidores."
   ]
  },
  {
   "cell_type": "code",
   "execution_count": null,
   "metadata": {
    "scrolled": false
   },
   "outputs": [],
   "source": [
    "\n",
    "k_slider2 = IntSlider(description='Núm. Clusters', value=3, min=2, max=10)\n",
    "cluster_std_slider2 = FloatSlider(description='cluster std', value=.8, min=.5, max=3)\n",
    "\n",
    "iter_label_tmpl2 = 'Iterations: {}'\n",
    "iter_label2 = Label(value=iter_label_tmpl2.format(''))\n",
    "iter_label2.layout.width = '300px'\n",
    "\n",
    "fig2 = plt.figure(title='K-means clustering', animation_duration=1000, layout=Layout(width = '700px', height = '700px') )\n",
    "\n",
    "plt.scales(scales={'color': OrdinalColorScale(colors=CATEGORY10)})\n",
    "\n",
    "axes_options2 = {'x': {'label': 'Edad'}, 'y': {'label': 'Ingresos '}, 'color': {'visible': False}}\n",
    "\n",
    "# scatter of 2D features\n",
    "points_scat2 = plt.scatter([], [], color=[], stroke='black', axes_options=axes_options2)\n",
    "\n",
    "# scatter of centroids\n",
    "centroid_scat2 = plt.scatter([], [], color=[], stroke_width=3, stroke='black',\n",
    "                           default_size=400, axes_options=axes_options2)\n",
    "\n",
    "points2 = Button(description='Graficar', button_style='success', layout=Layout(width='80px'))\n",
    "go_btn2 = Button(description='Iniciar', button_style='success', layout=Layout(width='80px'))\n",
    "go_btn2.disabled = True\n",
    "def graph2():\n",
    "    global X2\n",
    "    points2.disabled = True\n",
    "    go_btn2.disabled = False\n",
    "    with points_scat2.hold_sync():\n",
    "    #plot the points on a scatter chart\n",
    "        points_scat2.x = X2[:, 0]\n",
    "        points_scat2.y = X2[:, 1]\n",
    "\n",
    "\n",
    "def start_animation2(generate_points=True):\n",
    "    global X2\n",
    "    go_btn2.disabled = True\n",
    "    \n",
    "    # get the values of parameters from sliders\n",
    "    K2 = k_slider2.value\n",
    "    \n",
    "    # randomly pick K data points to be centroids\n",
    "    random_indices2 = np.random.choice(np.arange(len(X2)), size=K2, replace=False)\n",
    "    centroids2 = X2[random_indices2]\n",
    "    \n",
    "    i = 0\n",
    "    \n",
    "    # try for 10 iterations\n",
    "    while i < 20:\n",
    "        iter_label2.value = iter_label_tmpl2.format(i + 1)\n",
    "        \n",
    "        with centroid_scat2.hold_sync():\n",
    "            centroid_scat2.x = centroids2[:, 0]\n",
    "            centroid_scat2.y = centroids2[:, 1]\n",
    "            centroid_scat2.color = np.arange(K2)\n",
    "        \n",
    "        # assaign clusters to points based on the closest centroid\n",
    "        clusters2 = np.argmin(np.linalg.norm(X2.reshape(len(X2), 1 , 2)-centroids2, axis=2), axis=1)\n",
    "        \n",
    "        # color code the points by their clusters\n",
    "        points_scat2.color = clusters2\n",
    "        \n",
    "        # compute new centroids from the clusters\n",
    "        new_centroids2 = np.array([X2[clusters2 == k].mean(axis=0) for k in range(K2)])\n",
    "        \n",
    "        if np.all(centroids2 == new_centroids2):\n",
    "            # if centroids don't change we are done\n",
    "            break\n",
    "        else:\n",
    "            #update the centroids and repeat\n",
    "            centroids2 = new_centroids2\n",
    "            i = i + 1\n",
    "            sleep(1)\n",
    "            \n",
    "    go_btn2.disabled = False\n",
    "    \n",
    "points2.on_click(lambda btn: graph2())\n",
    "go_btn2.on_click(lambda btn: start_animation2())\n",
    "\n",
    "\n",
    "controls_layout2 = VBox([k_slider2, cluster_std_slider2, HBox([points2, go_btn2]), iter_label2])\n",
    "controls_layout2.layout.margin = '60px 0px 0px 0px'\n",
    "\n",
    "Box2 = HBox([VBox([fig2]), controls_layout2])\n",
    "Box2 "
   ]
  },
  {
   "cell_type": "markdown",
   "metadata": {},
   "source": [
    "<a id = 'IngresosvsScore'></a>\n",
    "### <font color = \"darkred\">Ingresos vs Score</font>\n",
    "Finalmente, Ingresos vs Score, permite saber que personas están dispuestas a gastar más y cuanto."
   ]
  },
  {
   "cell_type": "code",
   "execution_count": null,
   "metadata": {
    "scrolled": true
   },
   "outputs": [],
   "source": [
    "\n",
    "k_slider3 = IntSlider(description='Núm. Clusters', value=3, min=2, max=10)\n",
    "cluster_std_slider3 = FloatSlider(description='cluster std', value=.8, min=.5, max=3)\n",
    "\n",
    "iter_label_tmpl3 = 'Iterations: {}'\n",
    "iter_label3 = Label(value=iter_label_tmpl3.format(''))\n",
    "iter_label3.layout.width = '300px'\n",
    "\n",
    "fig3 = plt.figure(title='K-means clustering', animation_duration=1000, layout=Layout(width = '700px', height = '700px') )\n",
    "\n",
    "\n",
    "plt.scales(scales={'color': OrdinalColorScale(colors=CATEGORY10)})\n",
    "\n",
    "axes_options3 = {'x': {'label': 'Ingresos'}, 'y': {'label': 'Score '}, 'color': {'visible': False}}\n",
    "\n",
    "# scatter of 2D features\n",
    "points_scat3 = plt.scatter([], [], color=[], stroke='black', axes_options=axes_options3)\n",
    "\n",
    "# scatter of centroids\n",
    "centroid_scat3 = plt.scatter([], [], color=[], stroke_width=3, stroke='black',\n",
    "                           default_size=400, axes_options=axes_options3)\n",
    "\n",
    "points3 = Button(description='Graficar', button_style='success', layout=Layout(width='80px'))\n",
    "go_btn3 = Button(description='Iniciar', button_style='success', layout=Layout(width='80px'))\n",
    "go_btn3.disabled = True\n",
    "def graph3():\n",
    "\n",
    "    global X3\n",
    "    points3.disabled = True\n",
    "    go_btn3.disabled = False\n",
    "    with points_scat3.hold_sync():\n",
    "    #plot the points on a scatter chart\n",
    "        points_scat3.x = X3[:, 0]\n",
    "        points_scat3.y = X3[:, 1]\n",
    "\n",
    "\n",
    "def start_animation3(generate_points=True):\n",
    "    global X3\n",
    "    go_btn3.disabled = True\n",
    "    \n",
    "    # get the values of parameters from sliders\n",
    "    K3 = k_slider3.value\n",
    "    \n",
    "    # randomly pick K data points to be centroids\n",
    "    random_indices3 = np.random.choice(np.arange(len(X3)), size=K3, replace=False)\n",
    "    centroids3 = X3[random_indices3]\n",
    "    \n",
    "    i = 0\n",
    "    \n",
    "    # try for 10 iterations\n",
    "    while i < 40:\n",
    "        iter_label3.value = iter_label_tmpl3.format(i + 1)\n",
    "        \n",
    "        with centroid_scat3.hold_sync():\n",
    "            centroid_scat3.x = centroids3[:, 0]\n",
    "            centroid_scat3.y = centroids3[:, 1]\n",
    "            centroid_scat3.color = np.arange(K3)\n",
    "        \n",
    "        # assaign clusters to points based on the closest centroid\n",
    "        clusters3 = np.argmin(np.linalg.norm(X3.reshape(len(X3), 1 , 2)-centroids3, axis=2), axis=1)\n",
    "        \n",
    "        # color code the points by their clusters\n",
    "        points_scat3.color = clusters3\n",
    "\n",
    "        # compute new centroids from the clusters\n",
    "        new_centroids3 = np.array([X3[clusters3 == k].mean(axis=0) for k in range(K3)])\n",
    "        \n",
    "        if np.all(centroids3 == new_centroids3):\n",
    "            # if centroids don't change we are done\n",
    "            break\n",
    "        else:\n",
    "            #update the centroids and repeat\n",
    "            centroids3 = new_centroids3\n",
    "            i = i + 1\n",
    "            sleep(1)\n",
    "            \n",
    "    go_btn3.disabled = False\n",
    "    \n",
    "points3.on_click(lambda btn: graph3())\n",
    "go_btn3.on_click(lambda btn: start_animation3())\n",
    "\n",
    "\n",
    "controls_layout3 = VBox([k_slider3, cluster_std_slider3, HBox([points3, go_btn3]), iter_label3])\n",
    "controls_layout3.layout.margin = '60px 0px 0px 0px'\n",
    "\n",
    "Box3 = HBox([fig3, controls_layout3])\n",
    "Box3"
   ]
  },
  {
   "cell_type": "code",
   "execution_count": null,
   "metadata": {},
   "outputs": [],
   "source": [
    "HTML('''<script>\n",
    "code_show=true; \n",
    "function code_toggle() {\n",
    " if (code_show){\n",
    " $('div.input').hide();\n",
    " } else {\n",
    " $('div.input').show();\n",
    " }\n",
    " code_show = !code_show\n",
    "} \n",
    "$( document ).ready(code_toggle);\n",
    "</script>\n",
    "<form action=\"javascript:code_toggle()\"><input type=\"submit\" value=\"Mostrar Código\"></form>''')"
   ]
  },
  {
   "cell_type": "code",
   "execution_count": null,
   "metadata": {},
   "outputs": [],
   "source": [
    "from __future__ import absolute_import, division, print_function, unicode_literals\n",
    "import re\n",
    "\n",
    "import scipy as sp\n",
    "from sklearn.model_selection import train_test_split\n",
    "from IPython.display import clear_output\n",
    "\n",
    "import os\n",
    "os.environ['TF_CPP_MIN_LOG_LEVEL'] = '3' \n",
    "import tensorflow as tf\n",
    "tf.random.set_seed(123)\n",
    "import logging\n",
    "tf.get_logger().setLevel(logging.ERROR)\n"
   ]
  },
  {
   "cell_type": "markdown",
   "metadata": {},
   "source": [
    "<a id = 'clasificacion'></a>\n",
    "### <font color = \"darkblue\">Clasificación</font>\n",
    "Los modelos de clasificación son probablemente los modelos de aprendizaje supervisado más populares que hay, y esto se debe a su gran utilidad en diversos campos de diferentes aplicaciones. Este tipo de modelos permiten \"enseñarle\" a un modelo las caracteristícas claves para poder determinar una clase."
   ]
  },
  {
   "cell_type": "markdown",
   "metadata": {},
   "source": [
    "<a id = 'ejemploClasificacion'></a>\n",
    "#### Ejemplo\n",
    "Suponga que un banco quiere determinar en una base de datos [3] que clientes van a aplicar a un prestamo o subsidio para comprar una vivienda, para ello desean entrenar un modelo de clasificación utilizando datos de personas que ya han tomado una decisión con base a esta variable.\n",
    "<br>\n",
    "<br>\n",
    "<br>\n",
    "<img src = \"istockphoto-626702872-612x612.jpg\" alt=\"drawing\" width=\"500\" align=\"center\">\n",
    "<br>\n",
    "<br>\n",
    "<br>\n",
    "A continuación se presenta como se ven los datos:"
   ]
  },
  {
   "cell_type": "code",
   "execution_count": null,
   "metadata": {
    "scrolled": true
   },
   "outputs": [],
   "source": [
    "df = pd.read_csv('bank-full.csv', delimiter=';')\n",
    "df['y'] = np.where(df['y']=='yes',1,0)\n",
    "dftrain, dfeval = train_test_split(df, test_size=0.2)\n",
    "dftrain=dftrain.reset_index()\n",
    "dftrain = dftrain.drop('index',1)\n",
    "dftrain = dftrain.drop('day',1)\n",
    "dftrain = dftrain.drop('month',1)\n",
    "dftrain = dftrain.drop('duration',1)\n",
    "dftrain = dftrain.drop('campaign',1)\n",
    "dftrain = dftrain.drop('pdays',1)\n",
    "dftrain = dftrain.drop('previous',1)\n",
    "\n",
    "\n",
    "dfeval=dfeval.reset_index()\n",
    "dfeval = dfeval.drop('index',1)\n",
    "dfeval = dfeval.drop('day',1)\n",
    "dfeval = dfeval.drop('month',1)\n",
    "dfeval = dfeval.drop('duration',1)\n",
    "dfeval = dfeval.drop('campaign',1)\n",
    "dfeval = dfeval.drop('pdays',1)\n",
    "dfeval = dfeval.drop('previous',1)\n",
    "\n",
    "y_train = dftrain.pop('y')\n",
    "y_eval = dfeval.pop('y')\n",
    "\n",
    "df.head()"
   ]
  },
  {
   "cell_type": "code",
   "execution_count": null,
   "metadata": {
    "scrolled": true
   },
   "outputs": [],
   "source": [
    "dftrain.describe()"
   ]
  },
  {
   "cell_type": "code",
   "execution_count": null,
   "metadata": {
    "scrolled": false
   },
   "outputs": [],
   "source": [
    "fc = tf.feature_column\n",
    "CATEGORICAL_COLUMNS = ['job', 'marital', 'education', 'default', 'housing',\n",
    "                       'loan', 'contact', 'poutcome']\n",
    "NUMERIC_COLUMNS = ['age', 'balance']\n",
    "\n",
    "def one_hot_cat_column(feature_name, vocab):\n",
    "  return tf.feature_column.indicator_column(\n",
    "      tf.feature_column.categorical_column_with_vocabulary_list(feature_name,\n",
    "                                                 vocab))\n",
    "feature_columns = []\n",
    "for feature_name in CATEGORICAL_COLUMNS:\n",
    "  # Need to one-hot encode categorical features.\n",
    "  vocabulary = dftrain[feature_name].unique()\n",
    "  feature_columns.append(one_hot_cat_column(feature_name, vocabulary))\n",
    "\n",
    "for feature_name in NUMERIC_COLUMNS:\n",
    "  feature_columns.append(tf.feature_column.numeric_column(feature_name,\n",
    "                                           dtype=tf.float32))\n",
    "\n",
    "# Use entire batch since this is such a small dataset.\n",
    "NUM_EXAMPLES = len(y_train)\n",
    "\n",
    "def make_input_fn(X, y, n_epochs=None, shuffle=True):\n",
    "  def input_fn():\n",
    "    dataset = tf.data.Dataset.from_tensor_slices((dict(X), y))\n",
    "    if shuffle:\n",
    "      dataset = dataset.shuffle(NUM_EXAMPLES)\n",
    "    # For training, cycle thru dataset as many times as need (n_epochs=None).\n",
    "    dataset = dataset.repeat(n_epochs)\n",
    "    # In memory training doesn't use batching.\n",
    "    dataset = dataset.batch(NUM_EXAMPLES)\n",
    "    return dataset\n",
    "  return input_fn\n",
    "\n",
    "# Training and evaluation input functions.\n",
    "train_input_fn = make_input_fn(dftrain, y_train)\n",
    "eval_input_fn = make_input_fn(dfeval, y_eval, shuffle=False, n_epochs=1)\n",
    "\n",
    "# Since data fits into memory, use entire dataset per layer. It will be faster.\n",
    "# Above one batch is defined as the entire dataset.\n",
    "n_batches = 1\n",
    "est = tf.estimator.BoostedTreesClassifier(feature_columns,\n",
    "                                          n_batches_per_layer=n_batches)\n",
    "\n",
    "# The model will stop training once the specified number of trees is built, not\n",
    "# based on the number of steps.\n",
    "est.train(train_input_fn, max_steps=100)\n",
    "\n",
    "# Eval.\n",
    "result = est.evaluate(eval_input_fn)\n",
    "\n",
    "print(pd.Series(result))"
   ]
  },
  {
   "cell_type": "markdown",
   "metadata": {},
   "source": [
    "A continuación se presenta el resultado de un modelo entrenado:"
   ]
  },
  {
   "cell_type": "code",
   "execution_count": null,
   "metadata": {},
   "outputs": [],
   "source": [
    "age_slider = IntSlider(description='Edad', value=18, min=18, max=100)\n",
    "job_selector = Dropdown(options=['admin.','blue-collar','entrepreneur','housemaid', 'management','retired', 'self-employed', 'services','student','technician','unemployed','unknown'], description='Empleo (en inglés):')\n",
    "marital_selector = Dropdown(options = ['divorced', 'married','single'], description = 'Estado Civil (en inglés):')\n",
    "education_selector = Dropdown(options = ['primary', 'secondary', 'tertiary'], description = 'Educación [en inglés]:')\n",
    "default_credit = Checkbox (value = False, description = '¿Tiene crédito en mora?')\n",
    "balance_text = IntSlider(description = 'Saldo (k€):', value=0, min=0,max=100000,step = 100)\n",
    "housing_checkbox = Checkbox(value = False, description = '¿Préstamo de vivienda?')\n",
    "loan_checkbox = Checkbox(value = False, description = '¿Prestamos?')\n",
    "contact_selector = Dropdown(options = ['unknown', 'telephone','cellular'], description = 'Contacto (en inglés):')\n",
    "poutcome = Dropdown(options = ['unknown', 'other','failure', 'success'], description = 'Campaña Marketing (en inglés):')\n",
    "datosBox = VBox([age_slider, job_selector, marital_selector, education_selector, default_credit, balance_text, housing_checkbox, loan_checkbox, contact_selector, poutcome])\n",
    "\n",
    "pred_btn = Button(description='Predecir', button_style='success', layout=Layout(width='80px'))\n",
    "prediccion_temp = 'Predicción: {}'\n",
    "prediccion = Label(value=prediccion_temp.format(''))\n",
    "prediccion.layout.width = '300px'\n",
    "\n",
    "def predecir():\n",
    "    pred_btn.disabled = True\n",
    "    datos_prueba = {'age': [age_slider.value],\n",
    "      'job': [job_selector.value],\n",
    "      'marital': [marital_selector.value],\n",
    "      'education': [education_selector.value], \n",
    "      'default': [str(np.where(default_credit.value==False, 'no','yes'))],\n",
    "      'balance': [balance_text.value],\n",
    "      'housing': [str(np.where(housing_checkbox.value==False, 'no', 'yes'))],\n",
    "      'loan': [str(np.where(loan_checkbox.value==False, 'no', 'yes'))],\n",
    "      'contact': [contact_selector.value],\n",
    "      'poutcome': [poutcome.value],\n",
    "                    'y':[0]\n",
    "     }\n",
    "    datos_prueba_frame = pd.DataFrame(data=datos_prueba)\n",
    "    y_prueba = datos_prueba_frame.pop('y')\n",
    "    prueba_fn = make_input_fn(datos_prueba,y_prueba)\n",
    "    h = est.predict(prueba_fn)\n",
    "    h2 = next(h)[\"class_ids\"]\n",
    "    h2[0]\n",
    "    prediccion.value = prediccion_temp.format(str(np.where(h2[0]==1,'Sí lo va a tomar','No lo va a tomar')))\n",
    "    pred_btn.disabled = False\n",
    "\n",
    "pred_btn.on_click(lambda btn: predecir())\n",
    "\n",
    "HBox([datosBox, VBox([pred_btn,prediccion])])"
   ]
  },
  {
   "cell_type": "markdown",
   "metadata": {},
   "source": [
    "# Referencias\n",
    "* [1] http://actualidadempresa.com/cluster-definicion-objetivo-beneficios-y-desarrollo/\n",
    "* [2] https://www.kaggle.com/vjchoudhary7/customer-segmentation-tutorial-in-python\n",
    "* [3] https://archive.ics.uci.edu/ml/datasets/bank+marketinghttps://www.kaggle.com/vjchoudhary7/customer-segmentation-tutorial-in-python"
   ]
  },
  {
   "cell_type": "markdown",
   "metadata": {},
   "source": [
    "# Créditos\n",
    "Notebook hecho para Sintec por Juan Felipe Campos "
   ]
  },
  {
   "cell_type": "code",
   "execution_count": null,
   "metadata": {},
   "outputs": [],
   "source": []
  }
 ],
 "metadata": {
  "kernelspec": {
   "display_name": "Python 3",
   "language": "python",
   "name": "python3"
  },
  "language_info": {
   "codemirror_mode": {
    "name": "ipython",
    "version": 3
   },
   "file_extension": ".py",
   "mimetype": "text/x-python",
   "name": "python",
   "nbconvert_exporter": "python",
   "pygments_lexer": "ipython3",
   "version": "3.7.3"
  },
  "widgets": {
   "application/vnd.jupyter.widget-state+json": {
    "state": {
     "0022e818b9ae4d2fb51f3b7d4bdc0b19": {
      "model_module": "@jupyter-widgets/controls",
      "model_module_version": "1.5.0",
      "model_name": "SliderStyleModel",
      "state": {
       "description_width": ""
      }
     },
     "008f71ea36a64c5aa794ae2029ef1deb": {
      "model_module": "@jupyter-widgets/controls",
      "model_module_version": "1.5.0",
      "model_name": "FloatSliderModel",
      "state": {
       "description": "cluster std",
       "layout": "IPY_MODEL_ae8fd3ca66eb4fc2a584077dd4cd774c",
       "max": 3,
       "min": 0.5,
       "step": 0.1,
       "style": "IPY_MODEL_a196a050456a4570842115a823d9fe5d",
       "value": 0.8
      }
     },
     "009f08b6d252451fa4adb4a6b375c99c": {
      "model_module": "@jupyter-widgets/controls",
      "model_module_version": "1.5.0",
      "model_name": "HBoxModel",
      "state": {
       "children": [
        "IPY_MODEL_503c29c965094e6fa026c16be4067d6e",
        "IPY_MODEL_3bf45a9d00964e0380d11c2966606e22"
       ],
       "layout": "IPY_MODEL_83d3bd512c734228b7eac57566d59edd"
      }
     },
     "00f7892d97e14eeabe5bb4171c8564b2": {
      "model_module": "bqplot",
      "model_module_version": "^0.5.0",
      "model_name": "ColorAxisModel",
      "state": {
       "scale": "IPY_MODEL_a08c42dbf182450cb4f1dc9ce01d78bc",
       "side": "bottom",
       "tick_values": null,
       "visible": false
      }
     },
     "0141288597b942c3858a144a6acef4cd": {
      "model_module": "@jupyter-widgets/controls",
      "model_module_version": "1.5.0",
      "model_name": "ButtonModel",
      "state": {
       "button_style": "success",
       "description": "Graficar",
       "layout": "IPY_MODEL_259c70a97ddb491f9df732eb31b8a3f7",
       "style": "IPY_MODEL_3de8a151a8ba40f090f6d2b04d3ad146"
      }
     },
     "01a7fa0e24af415fbd99000dc449d6e4": {
      "model_module": "@jupyter-widgets/controls",
      "model_module_version": "1.5.0",
      "model_name": "SliderStyleModel",
      "state": {
       "description_width": ""
      }
     },
     "01fd88487d3e428082c9c523953c21cf": {
      "buffers": [
       {
        "data": "AAAAAAIAAAABAAAAAgAAAAAAAAACAAAAAQAAAAIAAAABAAAAAgAAAAEAAAACAAAAAQAAAAIAAAABAAAAAgAAAAAAAAACAAAAAQAAAAIAAAAAAAAAAgAAAAEAAAACAAAAAQAAAAIAAAAAAAAAAAAAAAEAAAACAAAAAQAAAAIAAAABAAAAAgAAAAEAAAACAAAAAQAAAAIAAAABAAAAAgAAAAAAAAACAAAAAAAAAAAAAAABAAAAAgAAAAAAAAAAAAAAAAAAAAAAAAAAAAAAAAAAAAAAAAAAAAAAAAAAAAAAAAAAAAAAAAAAAAAAAAAAAAAAAAAAAAAAAAAAAAAAAAAAAAAAAAACAAAAAAAAAAAAAAACAAAAAAAAAAAAAAAAAAAAAAAAAAAAAAAAAAAAAAAAAAAAAAAAAAAAAAAAAAAAAAAAAAAAAAAAAAAAAAAAAAAAAAAAAAAAAAAAAAAAAAAAAAAAAAAAAAAAAAAAAAAAAAAAAAAAAAAAAAAAAAAAAAAAAAAAAAAAAAAAAAAAAAAAAAAAAAAAAAAAAAAAAAAAAAAAAAAAAAAAAAAAAAAAAAAAAAAAAAAAAAAAAAAAAAAAAAAAAAAAAAAAAAAAAAAAAAAAAAAAAAAAAAAAAAAAAAAAAAAAAAAAAAAAAAAAAgAAAAEAAAACAAAAAAAAAAIAAAABAAAAAgAAAAEAAAACAAAAAAAAAAIAAAABAAAAAgAAAAEAAAACAAAAAQAAAAIAAAABAAAAAgAAAAAAAAACAAAAAQAAAAIAAAAAAAAAAgAAAAEAAAACAAAAAQAAAAIAAAABAAAAAgAAAAEAAAACAAAAAQAAAAIAAAABAAAAAgAAAAAAAAACAAAAAQAAAAIAAAABAAAAAgAAAAEAAAACAAAAAQAAAAIAAAABAAAAAgAAAAEAAAACAAAAAQAAAAIAAAABAAAAAgAAAAEAAAACAAAAAAAAAAIAAAABAAAAAgAAAAAAAAACAAAAAQAAAAIAAAABAAAAAgAAAAEAAAACAAAAAQAAAAIAAAABAAAAAgAAAAEAAAACAAAAAQAAAAIAAAA=",
        "encoding": "base64",
        "path": [
         "color",
         "value"
        ]
       },
       {
        "data": "AAAAAAAA8D8=",
        "encoding": "base64",
        "path": [
         "default_opacities",
         "value"
        ]
       },
       {
        "data": "EwAAABUAAAAUAAAAFwAAAB8AAAAWAAAAIwAAABcAAABAAAAAHgAAAEMAAAAjAAAAOgAAABgAAAAlAAAAFgAAACMAAAAUAAAANAAAACMAAAAjAAAAGQAAAC4AAAAfAAAANgAAAB0AAAAtAAAAIwAAACgAAAAXAAAAPAAAABUAAAA1AAAAEgAAADEAAAAVAAAAKgAAAB4AAAAkAAAAFAAAAEEAAAAYAAAAMAAAAB8AAAAxAAAAGAAAADIAAAAbAAAAHQAAAB8AAAAxAAAAIQAAAB8AAAA7AAAAMgAAAC8AAAAzAAAARQAAABsAAAA1AAAARgAAABMAAABDAAAANgAAAD8AAAASAAAAKwAAAEQAAAATAAAAIAAAAEYAAAAvAAAAPAAAADwAAAA7AAAAGgAAAC0AAAAoAAAAFwAAADEAAAA5AAAAJgAAAEMAAAAuAAAAFQAAADAAAAA3AAAAFgAAACIAAAAyAAAARAAAABIAAAAwAAAAKAAAACAAAAAYAAAALwAAABsAAAAwAAAAFAAAABcAAAAxAAAAQwAAABoAAAAxAAAAFQAAAEIAAAA2AAAARAAAAEIAAABBAAAAEwAAACYAAAATAAAAEgAAABMAAAA/AAAAMQAAADMAAAAyAAAAGwAAACYAAAAoAAAAJwAAABcAAAAfAAAAKwAAACgAAAA7AAAAJgAAAC8AAAAnAAAAGQAAAB8AAAAUAAAAHQAAACwAAAAgAAAAEwAAACMAAAA5AAAAIAAAABwAAAAgAAAAGQAAABwAAAAwAAAAIAAAACIAAAAiAAAAKwAAACcAAAAsAAAAJgAAAC8AAAAbAAAAJQAAAB4AAAAiAAAAHgAAADgAAAAdAAAAEwAAAB8AAAAyAAAAJAAAACoAAAAhAAAAJAAAACAAAAAoAAAAHAAAACQAAAAkAAAANAAAAB4AAAA6AAAAGwAAADsAAAAjAAAAJQAAACAAAAAuAAAAHQAAACkAAAAeAAAANgAAABwAAAApAAAAJAAAACIAAAAgAAAAIQAAACYAAAAvAAAAIwAAAC0AAAAgAAAAIAAAAB4AAAA=",
        "encoding": "base64",
        "path": [
         "x",
         "value"
        ]
       },
       {
        "data": "JwAAAFEAAAAGAAAATQAAACgAAABMAAAABgAAAF4AAAADAAAASAAAAA4AAABjAAAADwAAAE0AAAANAAAATwAAACMAAABCAAAAHQAAAGIAAAAjAAAASQAAAAUAAABJAAAADgAAAFIAAAAgAAAAPQAAAB8AAABXAAAABAAAAEkAAAAEAAAAXAAAAA4AAABRAAAAEQAAAEkAAAAaAAAASwAAACMAAABcAAAAJAAAAD0AAAAcAAAAQQAAADcAAAAvAAAAKgAAACoAAAA0AAAAPAAAADYAAAA8AAAALQAAACkAAAAyAAAALgAAADMAAAAuAAAAOAAAADcAAAA0AAAAOwAAADMAAAA7AAAAMgAAADAAAAA7AAAALwAAADcAAAAqAAAAMQAAADgAAAAvAAAANgAAADUAAAAwAAAANAAAACoAAAAzAAAANwAAACkAAAAsAAAAOQAAAC4AAAA6AAAANwAAADwAAAAuAAAANwAAACkAAAAxAAAAKAAAACoAAAA0AAAALwAAADIAAAAqAAAAMQAAACkAAAAwAAAAOwAAADcAAAA4AAAAKgAAADIAAAAuAAAAKwAAADAAAAA0AAAANgAAACoAAAAuAAAAMAAAADIAAAArAAAAOwAAACsAAAA5AAAAOAAAACgAAAA6AAAAWwAAAB0AAABNAAAAIwAAAF8AAAALAAAASwAAAAkAAABLAAAAIgAAAEcAAAAFAAAAWAAAAAcAAABJAAAACgAAAEgAAAAFAAAAXQAAACgAAABXAAAADAAAAGEAAAAkAAAASgAAABYAAABaAAAAEQAAAFgAAAAUAAAATAAAABAAAABZAAAAAQAAAE4AAAABAAAASQAAACMAAABTAAAABQAAAF0AAAAaAAAASwAAABQAAABfAAAAGwAAAD8AAAANAAAASwAAAAoAAABcAAAADQAAAFYAAAAPAAAARQAAAA4AAABaAAAAIAAAAFYAAAAPAAAAWAAAACcAAABhAAAAGAAAAEQAAAARAAAAVQAAABcAAABFAAAACAAAAFsAAAAQAAAATwAAABwAAABKAAAAEgAAAFMAAAA=",
        "encoding": "base64",
        "path": [
         "y",
         "value"
        ]
       }
      ],
      "model_module": "bqplot",
      "model_module_version": "^0.5.0",
      "model_name": "ScatterModel",
      "state": {
       "color": {
        "dtype": "int32",
        "shape": [
         200
        ],
        "type": null,
        "value": {}
       },
       "default_opacities": {
        "dtype": "float64",
        "shape": [
         1
        ],
        "type": null,
        "value": {}
       },
       "names": null,
       "scales": {
        "color": "IPY_MODEL_155c6d9c401245a9bf3632cd3da77ae0",
        "x": "IPY_MODEL_bcf8661d70ee4891b0ac577638ac93c9",
        "y": "IPY_MODEL_4465b9dbb84e458caf28f388728e27ed"
       },
       "scales_metadata": {
        "color": {
         "dimension": "color"
        },
        "opacity": {
         "dimension": "opacity"
        },
        "rotation": {
         "dimension": "rotation"
        },
        "size": {
         "dimension": "size"
        },
        "skew": {
         "dimension": "skew"
        },
        "x": {
         "dimension": "x",
         "orientation": "horizontal"
        },
        "y": {
         "dimension": "y",
         "orientation": "vertical"
        }
       },
       "stroke": "black",
       "x": {
        "dtype": "int32",
        "shape": [
         200
        ],
        "type": null,
        "value": {}
       },
       "y": {
        "dtype": "int32",
        "shape": [
         200
        ],
        "type": null,
        "value": {}
       }
      }
     },
     "0356746f528f4b979bc5a894fe57e9f7": {
      "model_module": "@jupyter-widgets/controls",
      "model_module_version": "1.5.0",
      "model_name": "HBoxModel",
      "state": {
       "children": [
        "IPY_MODEL_0ed1977c85744eb48835c9818b35a418",
        "IPY_MODEL_119557c897d4455792a32b86f8119b0b"
       ],
       "layout": "IPY_MODEL_23a7a42f6fb84d32bdd9b8bc58e8b4c4"
      }
     },
     "0391f7e73c084250b0a41519176ebe81": {
      "model_module": "@jupyter-widgets/controls",
      "model_module_version": "1.5.0",
      "model_name": "SliderStyleModel",
      "state": {
       "description_width": ""
      }
     },
     "03e90132a57c444c8423bb410aa4270b": {
      "model_module": "@jupyter-widgets/base",
      "model_module_version": "1.2.0",
      "model_name": "LayoutModel",
      "state": {
       "height": "700px",
       "width": "700px"
      }
     },
     "046621ef88bc422ba2b53e84087b2dfd": {
      "model_module": "@jupyter-widgets/base",
      "model_module_version": "1.2.0",
      "model_name": "LayoutModel",
      "state": {}
     },
     "05a9c37bfc9247a4923c63f4e0dc165f": {
      "model_module": "@jupyter-widgets/controls",
      "model_module_version": "1.5.0",
      "model_name": "VBoxModel",
      "state": {
       "children": [
        "IPY_MODEL_f447dc0b37864edda0d824c4f1250614",
        "IPY_MODEL_8a0555d7892548f698773762aa09b48b",
        "IPY_MODEL_0de10bead4f04041ac6f816bb8802d4f",
        "IPY_MODEL_80353170733e4e6b9a3084096ed4f681"
       ],
       "layout": "IPY_MODEL_116e47a2c0d741cc9b5bea12449cdeca"
      }
     },
     "066bc0dc346749ba8c07376e858fee54": {
      "model_module": "@jupyter-widgets/controls",
      "model_module_version": "1.5.0",
      "model_name": "ButtonModel",
      "state": {
       "button_style": "success",
       "description": "Graficar",
       "disabled": true,
       "layout": "IPY_MODEL_520852b10b8746db941ca3ffab2759a3",
       "style": "IPY_MODEL_5bfe734bd9a1422fb6e6395855fb4c42"
      }
     },
     "0685afd3fc7c404d9aca6c62d4523c5f": {
      "model_module": "@jupyter-widgets/base",
      "model_module_version": "1.2.0",
      "model_name": "LayoutModel",
      "state": {}
     },
     "06fa5827c17140be9f245118c610c318": {
      "model_module": "@jupyter-widgets/base",
      "model_module_version": "1.2.0",
      "model_name": "LayoutModel",
      "state": {
       "width": "80px"
      }
     },
     "07c3287048e140a181fe795eb668f4c1": {
      "model_module": "bqplot",
      "model_module_version": "^0.5.0",
      "model_name": "ColorAxisModel",
      "state": {
       "scale": "IPY_MODEL_a8926e42da6c4de2a758f77868210592",
       "side": "bottom",
       "tick_values": null,
       "visible": false
      }
     },
     "0835c70e026e41dcadab28d2bda8ff6f": {
      "model_module": "bqplot",
      "model_module_version": "^0.5.0",
      "model_name": "ColorAxisModel",
      "state": {
       "scale": "IPY_MODEL_c023fa6a804b4f72a2128d8ea8afab84",
       "side": "bottom",
       "tick_values": null,
       "visible": false
      }
     },
     "08b5c72ff8dd425d94b3850e9d03abd2": {
      "model_module": "@jupyter-widgets/controls",
      "model_module_version": "1.5.0",
      "model_name": "SliderStyleModel",
      "state": {
       "description_width": ""
      }
     },
     "09b35173230c4b728e73863c633e3185": {
      "model_module": "@jupyter-widgets/controls",
      "model_module_version": "1.5.0",
      "model_name": "IntSliderModel",
      "state": {
       "description": "Núm. Clusters",
       "layout": "IPY_MODEL_58d4619b48a14992bf06f1a680d75b4d",
       "max": 10,
       "min": 2,
       "style": "IPY_MODEL_ff3e17d96e7043f8952c229fba4628ed",
       "value": 3
      }
     },
     "0b69434092254037a3c010cdc5433c5a": {
      "model_module": "bqplot",
      "model_module_version": "^0.5.0",
      "model_name": "LinearScaleModel",
      "state": {
       "stabilized": false
      }
     },
     "0b8cd6fda5ae4639a56687af992e78a2": {
      "model_module": "bqplot",
      "model_module_version": "^0.5.0",
      "model_name": "LinearScaleModel",
      "state": {
       "allow_padding": false,
       "max": 1,
       "min": 0,
       "stabilized": false
      }
     },
     "0bde0b67d3f047c492a4a2ed6665e320": {
      "model_module": "bqplot",
      "model_module_version": "^0.5.0",
      "model_name": "LinearScaleModel",
      "state": {
       "stabilized": false
      }
     },
     "0c3a155bdfe34e47823ba09091f894aa": {
      "model_module": "bqplot",
      "model_module_version": "^0.5.0",
      "model_name": "ColorAxisModel",
      "state": {
       "scale": "IPY_MODEL_1df7330851e84216b1809503ade604c2",
       "side": "bottom",
       "tick_values": null,
       "visible": false
      }
     },
     "0c9eb73fa9bb44418d043f3c39d2f293": {
      "model_module": "bqplot",
      "model_module_version": "^0.5.0",
      "model_name": "LinearScaleModel",
      "state": {
       "allow_padding": false,
       "max": 1,
       "min": 0,
       "stabilized": false
      }
     },
     "0d3dd11aeae34fa983b27a0df747b981": {
      "model_module": "@jupyter-widgets/base",
      "model_module_version": "1.2.0",
      "model_name": "LayoutModel",
      "state": {
       "width": "300px"
      }
     },
     "0ddf18f193ea4e2da0a602122e532acd": {
      "model_module": "@jupyter-widgets/controls",
      "model_module_version": "1.5.0",
      "model_name": "ButtonModel",
      "state": {
       "button_style": "success",
       "description": "Graficar",
       "disabled": true,
       "layout": "IPY_MODEL_44461864bf4e4417b3bcc815c997ffda",
       "style": "IPY_MODEL_d32865b4667d4e6eb6029d4db9d3f380"
      }
     },
     "0de10bead4f04041ac6f816bb8802d4f": {
      "model_module": "@jupyter-widgets/controls",
      "model_module_version": "1.5.0",
      "model_name": "HBoxModel",
      "state": {
       "children": [
        "IPY_MODEL_78fd58ed351e4f8daa121ad2113642a0",
        "IPY_MODEL_202dcea7e3ff4a068aca3f7aeab1a4c6"
       ],
       "layout": "IPY_MODEL_a677ed11da6e4b9eac486b06df30d49c"
      }
     },
     "0dea7fa3ed9642a8b5716f2c674010f1": {
      "model_module": "@jupyter-widgets/controls",
      "model_module_version": "1.5.0",
      "model_name": "ButtonStyleModel",
      "state": {}
     },
     "0e9c526fe5334f5eb8479f086f639170": {
      "model_module": "@jupyter-widgets/base",
      "model_module_version": "1.2.0",
      "model_name": "LayoutModel",
      "state": {
       "width": "80px"
      }
     },
     "0ed1977c85744eb48835c9818b35a418": {
      "model_module": "@jupyter-widgets/controls",
      "model_module_version": "1.5.0",
      "model_name": "ButtonModel",
      "state": {
       "button_style": "success",
       "description": "Graficar",
       "disabled": true,
       "layout": "IPY_MODEL_dd822c89fd8c4b66ac0925dbac856d0f",
       "style": "IPY_MODEL_d0bbadea533041c68ca9e7a7be2b7db3"
      }
     },
     "0efe6612828148a2981355494f82c0f7": {
      "model_module": "@jupyter-widgets/controls",
      "model_module_version": "1.5.0",
      "model_name": "ButtonModel",
      "state": {
       "button_style": "success",
       "description": "Iniciar",
       "layout": "IPY_MODEL_82b098d72915406e804f527c728422c6",
       "style": "IPY_MODEL_b8165d3736074a289b4d45f1cc6f34e7"
      }
     },
     "0fccf39252af4fb88250805bf0f24ecd": {
      "model_module": "@jupyter-widgets/base",
      "model_module_version": "1.2.0",
      "model_name": "LayoutModel",
      "state": {}
     },
     "0ff35b5501f64a8e9a673bbb861a25ed": {
      "buffers": [
       {
        "data": "",
        "encoding": "base64",
        "path": [
         "color",
         "value"
        ]
       },
       {
        "data": "AAAAAAAA8D8=",
        "encoding": "base64",
        "path": [
         "default_opacities",
         "value"
        ]
       },
       {
        "data": "",
        "encoding": "base64",
        "path": [
         "x",
         "value"
        ]
       },
       {
        "data": "",
        "encoding": "base64",
        "path": [
         "y",
         "value"
        ]
       }
      ],
      "model_module": "bqplot",
      "model_module_version": "^0.5.0",
      "model_name": "ScatterModel",
      "state": {
       "color": {
        "dtype": "float64",
        "shape": [
         0
        ],
        "type": null,
        "value": {}
       },
       "default_opacities": {
        "dtype": "float64",
        "shape": [
         1
        ],
        "type": null,
        "value": {}
       },
       "default_size": 400,
       "names": null,
       "scales": {
        "color": "IPY_MODEL_20e1e7a9fc394a728bf644335bd797bc",
        "x": "IPY_MODEL_582365361829400aad4799f7e4bce656",
        "y": "IPY_MODEL_219b74f3619448d283da4cdf9213c613"
       },
       "scales_metadata": {
        "color": {
         "dimension": "color"
        },
        "opacity": {
         "dimension": "opacity"
        },
        "rotation": {
         "dimension": "rotation"
        },
        "size": {
         "dimension": "size"
        },
        "skew": {
         "dimension": "skew"
        },
        "x": {
         "dimension": "x",
         "orientation": "horizontal"
        },
        "y": {
         "dimension": "y",
         "orientation": "vertical"
        }
       },
       "stroke": "black",
       "stroke_width": 3,
       "x": {
        "dtype": "float64",
        "shape": [
         0
        ],
        "type": null,
        "value": {}
       },
       "y": {
        "dtype": "float64",
        "shape": [
         0
        ],
        "type": null,
        "value": {}
       }
      }
     },
     "10568bfed01f48198ad255ce147d19bc": {
      "buffers": [
       {
        "data": "",
        "encoding": "base64",
        "path": [
         "color",
         "value"
        ]
       },
       {
        "data": "AAAAAAAA8D8=",
        "encoding": "base64",
        "path": [
         "default_opacities",
         "value"
        ]
       },
       {
        "data": "EwAAABUAAAAUAAAAFwAAAB8AAAAWAAAAIwAAABcAAABAAAAAHgAAAEMAAAAjAAAAOgAAABgAAAAlAAAAFgAAACMAAAAUAAAANAAAACMAAAAjAAAAGQAAAC4AAAAfAAAANgAAAB0AAAAtAAAAIwAAACgAAAAXAAAAPAAAABUAAAA1AAAAEgAAADEAAAAVAAAAKgAAAB4AAAAkAAAAFAAAAEEAAAAYAAAAMAAAAB8AAAAxAAAAGAAAADIAAAAbAAAAHQAAAB8AAAAxAAAAIQAAAB8AAAA7AAAAMgAAAC8AAAAzAAAARQAAABsAAAA1AAAARgAAABMAAABDAAAANgAAAD8AAAASAAAAKwAAAEQAAAATAAAAIAAAAEYAAAAvAAAAPAAAADwAAAA7AAAAGgAAAC0AAAAoAAAAFwAAADEAAAA5AAAAJgAAAEMAAAAuAAAAFQAAADAAAAA3AAAAFgAAACIAAAAyAAAARAAAABIAAAAwAAAAKAAAACAAAAAYAAAALwAAABsAAAAwAAAAFAAAABcAAAAxAAAAQwAAABoAAAAxAAAAFQAAAEIAAAA2AAAARAAAAEIAAABBAAAAEwAAACYAAAATAAAAEgAAABMAAAA/AAAAMQAAADMAAAAyAAAAGwAAACYAAAAoAAAAJwAAABcAAAAfAAAAKwAAACgAAAA7AAAAJgAAAC8AAAAnAAAAGQAAAB8AAAAUAAAAHQAAACwAAAAgAAAAEwAAACMAAAA5AAAAIAAAABwAAAAgAAAAGQAAABwAAAAwAAAAIAAAACIAAAAiAAAAKwAAACcAAAAsAAAAJgAAAC8AAAAbAAAAJQAAAB4AAAAiAAAAHgAAADgAAAAdAAAAEwAAAB8AAAAyAAAAJAAAACoAAAAhAAAAJAAAACAAAAAoAAAAHAAAACQAAAAkAAAANAAAAB4AAAA6AAAAGwAAADsAAAAjAAAAJQAAACAAAAAuAAAAHQAAACkAAAAeAAAANgAAABwAAAApAAAAJAAAACIAAAAgAAAAIQAAACYAAAAvAAAAIwAAAC0AAAAgAAAAIAAAAB4AAAA=",
        "encoding": "base64",
        "path": [
         "x",
         "value"
        ]
       },
       {
        "data": "JwAAAFEAAAAGAAAATQAAACgAAABMAAAABgAAAF4AAAADAAAASAAAAA4AAABjAAAADwAAAE0AAAANAAAATwAAACMAAABCAAAAHQAAAGIAAAAjAAAASQAAAAUAAABJAAAADgAAAFIAAAAgAAAAPQAAAB8AAABXAAAABAAAAEkAAAAEAAAAXAAAAA4AAABRAAAAEQAAAEkAAAAaAAAASwAAACMAAABcAAAAJAAAAD0AAAAcAAAAQQAAADcAAAAvAAAAKgAAACoAAAA0AAAAPAAAADYAAAA8AAAALQAAACkAAAAyAAAALgAAADMAAAAuAAAAOAAAADcAAAA0AAAAOwAAADMAAAA7AAAAMgAAADAAAAA7AAAALwAAADcAAAAqAAAAMQAAADgAAAAvAAAANgAAADUAAAAwAAAANAAAACoAAAAzAAAANwAAACkAAAAsAAAAOQAAAC4AAAA6AAAANwAAADwAAAAuAAAANwAAACkAAAAxAAAAKAAAACoAAAA0AAAALwAAADIAAAAqAAAAMQAAACkAAAAwAAAAOwAAADcAAAA4AAAAKgAAADIAAAAuAAAAKwAAADAAAAA0AAAANgAAACoAAAAuAAAAMAAAADIAAAArAAAAOwAAACsAAAA5AAAAOAAAACgAAAA6AAAAWwAAAB0AAABNAAAAIwAAAF8AAAALAAAASwAAAAkAAABLAAAAIgAAAEcAAAAFAAAAWAAAAAcAAABJAAAACgAAAEgAAAAFAAAAXQAAACgAAABXAAAADAAAAGEAAAAkAAAASgAAABYAAABaAAAAEQAAAFgAAAAUAAAATAAAABAAAABZAAAAAQAAAE4AAAABAAAASQAAACMAAABTAAAABQAAAF0AAAAaAAAASwAAABQAAABfAAAAGwAAAD8AAAANAAAASwAAAAoAAABcAAAADQAAAFYAAAAPAAAARQAAAA4AAABaAAAAIAAAAFYAAAAPAAAAWAAAACcAAABhAAAAGAAAAEQAAAARAAAAVQAAABcAAABFAAAACAAAAFsAAAAQAAAATwAAABwAAABKAAAAEgAAAFMAAAA=",
        "encoding": "base64",
        "path": [
         "y",
         "value"
        ]
       }
      ],
      "model_module": "bqplot",
      "model_module_version": "^0.5.0",
      "model_name": "ScatterModel",
      "state": {
       "color": {
        "dtype": "float64",
        "shape": [
         0
        ],
        "type": null,
        "value": {}
       },
       "default_opacities": {
        "dtype": "float64",
        "shape": [
         1
        ],
        "type": null,
        "value": {}
       },
       "names": null,
       "scales": {
        "color": "IPY_MODEL_a8926e42da6c4de2a758f77868210592",
        "x": "IPY_MODEL_8c4fa5f57e2846ada9959e551ebc83e7",
        "y": "IPY_MODEL_0b69434092254037a3c010cdc5433c5a"
       },
       "scales_metadata": {
        "color": {
         "dimension": "color"
        },
        "opacity": {
         "dimension": "opacity"
        },
        "rotation": {
         "dimension": "rotation"
        },
        "size": {
         "dimension": "size"
        },
        "skew": {
         "dimension": "skew"
        },
        "x": {
         "dimension": "x",
         "orientation": "horizontal"
        },
        "y": {
         "dimension": "y",
         "orientation": "vertical"
        }
       },
       "stroke": "black",
       "x": {
        "dtype": "int32",
        "shape": [
         200
        ],
        "type": null,
        "value": {}
       },
       "y": {
        "dtype": "int32",
        "shape": [
         200
        ],
        "type": null,
        "value": {}
       }
      }
     },
     "116e47a2c0d741cc9b5bea12449cdeca": {
      "model_module": "@jupyter-widgets/base",
      "model_module_version": "1.2.0",
      "model_name": "LayoutModel",
      "state": {
       "margin": "60px 0px 0px 0px"
      }
     },
     "119557c897d4455792a32b86f8119b0b": {
      "model_module": "@jupyter-widgets/controls",
      "model_module_version": "1.5.0",
      "model_name": "ButtonModel",
      "state": {
       "button_style": "success",
       "description": "Iniciar",
       "layout": "IPY_MODEL_361a108b4d2b46b29c165882538864d5",
       "style": "IPY_MODEL_6ce286e47c904374910c44dfb5267ccd"
      }
     },
     "1249b1b3390142ae98ce8e8c20392094": {
      "model_module": "@jupyter-widgets/controls",
      "model_module_version": "1.5.0",
      "model_name": "DescriptionStyleModel",
      "state": {
       "description_width": ""
      }
     },
     "12d708ea9e394959a1be750bfda1c83e": {
      "model_module": "@jupyter-widgets/controls",
      "model_module_version": "1.5.0",
      "model_name": "ButtonModel",
      "state": {
       "button_style": "success",
       "description": "Iniciar",
       "layout": "IPY_MODEL_434a5d27c33d4884949377cff8f08e42",
       "style": "IPY_MODEL_84d49021fcf84ade9318d0e19b77e5ff"
      }
     },
     "1332daa66f0a400298dfd79f8997afff": {
      "model_module": "@jupyter-widgets/base",
      "model_module_version": "1.2.0",
      "model_name": "LayoutModel",
      "state": {
       "width": "300px"
      }
     },
     "136f9d0a8f364a059abca90b30b3b549": {
      "model_module": "@jupyter-widgets/base",
      "model_module_version": "1.2.0",
      "model_name": "LayoutModel",
      "state": {
       "width": "80px"
      }
     },
     "13b3879abd324711a18e9008f6265700": {
      "model_module": "bqplot",
      "model_module_version": "^0.5.0",
      "model_name": "FigureModel",
      "state": {
       "_dom_classes": [],
       "animation_duration": 1000,
       "axes": [
        "IPY_MODEL_8b9e653820c24c2da44f2514093a31c8",
        "IPY_MODEL_8967916847624529acd5a4d740a9f086",
        "IPY_MODEL_795292613b7c45979f9db8d7e744b437"
       ],
       "layout": "IPY_MODEL_f6f73e7d6f464458acdbb2fd4c6a941b",
       "marks": [
        "IPY_MODEL_a0c051ce4c7443bbae0f9ba20aa481f4",
        "IPY_MODEL_7de9c2c6cc854333834fe7d6c4f11418"
       ],
       "scale_x": "IPY_MODEL_53e1ca959a9a441eab6fa49d1c79f61b",
       "scale_y": "IPY_MODEL_86a156c24b874b00823cf154f30489b0",
       "title": "K-means clustering"
      }
     },
     "142d8e30f3d74074bcb0f8079de3aa0e": {
      "buffers": [
       {
        "data": "AAAAAAEAAAACAAAAAwAAAAQAAAA=",
        "encoding": "base64",
        "path": [
         "color",
         "value"
        ]
       },
       {
        "data": "AAAAAAAA8D8=",
        "encoding": "base64",
        "path": [
         "default_opacities",
         "value"
        ]
       },
       {
        "data": "uuiiiy66OUD1pje96U06QCd2Yid2olVAAAAAAADwVUAzMzMzM4tLQA==",
        "encoding": "base64",
        "path": [
         "x",
         "value"
        ]
       },
       {
        "data": "F1100UXXU0Df9KY3vek0QIM0SIM0iFRAVVVVVVWVMUAzMzMzM9tIQA==",
        "encoding": "base64",
        "path": [
         "y",
         "value"
        ]
       }
      ],
      "model_module": "bqplot",
      "model_module_version": "^0.5.0",
      "model_name": "ScatterModel",
      "state": {
       "color": {
        "dtype": "int32",
        "shape": [
         5
        ],
        "type": null,
        "value": {}
       },
       "default_opacities": {
        "dtype": "float64",
        "shape": [
         1
        ],
        "type": null,
        "value": {}
       },
       "default_size": 400,
       "names": null,
       "scales": {
        "color": "IPY_MODEL_b41fb7ddfb82493a962361519c5c68c9",
        "x": "IPY_MODEL_fec947c8f82242f8b2871003bb55437b",
        "y": "IPY_MODEL_c052a634aea940bb9a36efbd16cb9986"
       },
       "scales_metadata": {
        "color": {
         "dimension": "color"
        },
        "opacity": {
         "dimension": "opacity"
        },
        "rotation": {
         "dimension": "rotation"
        },
        "size": {
         "dimension": "size"
        },
        "skew": {
         "dimension": "skew"
        },
        "x": {
         "dimension": "x",
         "orientation": "horizontal"
        },
        "y": {
         "dimension": "y",
         "orientation": "vertical"
        }
       },
       "stroke": "black",
       "stroke_width": 3,
       "x": {
        "dtype": "float64",
        "shape": [
         5
        ],
        "type": null,
        "value": {}
       },
       "y": {
        "dtype": "float64",
        "shape": [
         5
        ],
        "type": null,
        "value": {}
       }
      }
     },
     "14cbfe0d629f4181bfe0120ecdee0f94": {
      "model_module": "bqplot",
      "model_module_version": "^0.5.0",
      "model_name": "LinearScaleModel",
      "state": {
       "allow_padding": false,
       "max": 1,
       "min": 0,
       "stabilized": false
      }
     },
     "155c6d9c401245a9bf3632cd3da77ae0": {
      "model_module": "bqplot",
      "model_module_version": "^0.5.0",
      "model_name": "ColorScaleModel",
      "state": {
       "colors": [],
       "scale_type": "linear"
      }
     },
     "1578ca4abc5e42ed8804d712a9ee5345": {
      "model_module": "bqplot",
      "model_module_version": "^0.5.0",
      "model_name": "LinearScaleModel",
      "state": {
       "allow_padding": false,
       "max": 1,
       "min": 0,
       "stabilized": false
      }
     },
     "1702bcf7058046c2a624cb292e8decfa": {
      "model_module": "@jupyter-widgets/base",
      "model_module_version": "1.2.0",
      "model_name": "LayoutModel",
      "state": {}
     },
     "173c0f46b0684a8fab6d5d6c90ef6bd5": {
      "model_module": "bqplot",
      "model_module_version": "^0.5.0",
      "model_name": "OrdinalScaleModel",
      "state": {
       "_view_name": "OrdinalColorScale",
       "colors": [
        "#1f77b4",
        "#ff7f0e",
        "#2ca02c",
        "#d62728",
        "#9467bd",
        "#8c564b",
        "#e377c2",
        "#7f7f7f",
        "#bcbd22",
        "#17becf"
       ],
       "extrapolation": "constant",
       "max": null,
       "mid": null,
       "min": null,
       "scale_type": "linear",
       "scheme": "RdYlGn"
      }
     },
     "177154b8122b4207b69035b2ba6361e0": {
      "model_module": "bqplot",
      "model_module_version": "^0.5.0",
      "model_name": "LinearScaleModel",
      "state": {
       "stabilized": false
      }
     },
     "17d7baaf01534060a8993460f2adbbb1": {
      "model_module": "@jupyter-widgets/controls",
      "model_module_version": "1.5.0",
      "model_name": "FloatSliderModel",
      "state": {
       "description": "cluster std",
       "layout": "IPY_MODEL_525c0f5a31e94e7c8c9108cffd164949",
       "max": 3,
       "min": 0.5,
       "step": 0.1,
       "style": "IPY_MODEL_cfec0bf7fa3c4711a83f56fc2dd50408",
       "value": 0.8
      }
     },
     "17e4b583146a4ca6816e196800dceb08": {
      "model_module": "bqplot",
      "model_module_version": "^0.5.0",
      "model_name": "OrdinalScaleModel",
      "state": {
       "_view_name": "OrdinalColorScale",
       "colors": [
        "#1f77b4",
        "#ff7f0e",
        "#2ca02c",
        "#d62728",
        "#9467bd",
        "#8c564b",
        "#e377c2",
        "#7f7f7f",
        "#bcbd22",
        "#17becf"
       ],
       "extrapolation": "constant",
       "max": null,
       "mid": null,
       "min": null,
       "scale_type": "linear",
       "scheme": "RdYlGn"
      }
     },
     "18f85f201f164788a50d1110525546cd": {
      "model_module": "@jupyter-widgets/base",
      "model_module_version": "1.2.0",
      "model_name": "LayoutModel",
      "state": {
       "margin": "60px 0px 0px 0px"
      }
     },
     "19c8d7ded85740dd88ea9301cf84b6ae": {
      "model_module": "@jupyter-widgets/controls",
      "model_module_version": "1.5.0",
      "model_name": "ButtonStyleModel",
      "state": {}
     },
     "1a033e7f80f147dca2c3e9eed7f3fb90": {
      "model_module": "bqplot",
      "model_module_version": "^0.5.0",
      "model_name": "LinearScaleModel",
      "state": {
       "allow_padding": false,
       "max": 1,
       "min": 0,
       "stabilized": false
      }
     },
     "1a267ba9d71d4115a682933c01299881": {
      "model_module": "@jupyter-widgets/controls",
      "model_module_version": "1.5.0",
      "model_name": "VBoxModel",
      "state": {
       "children": [
        "IPY_MODEL_6389100b6f184c57a9a370b782265e75",
        "IPY_MODEL_dc53c59677894a03a2b0209967bf82fe",
        "IPY_MODEL_7957afe1eae241d5b7239d67d17643aa",
        "IPY_MODEL_d0afabd4eb794c88944427469055b69d"
       ],
       "layout": "IPY_MODEL_18f85f201f164788a50d1110525546cd"
      }
     },
     "1ab75d6fb84047868dc5ec1e2af624a6": {
      "model_module": "@jupyter-widgets/base",
      "model_module_version": "1.2.0",
      "model_name": "LayoutModel",
      "state": {}
     },
     "1abc71188b734d7d8ae14e6bcf580633": {
      "model_module": "@jupyter-widgets/base",
      "model_module_version": "1.2.0",
      "model_name": "LayoutModel",
      "state": {
       "width": "80px"
      }
     },
     "1bfd9d576cef40bcb41873bea38bad4c": {
      "buffers": [
       {
        "data": "",
        "encoding": "base64",
        "path": [
         "color",
         "value"
        ]
       },
       {
        "data": "AAAAAAAA8D8=",
        "encoding": "base64",
        "path": [
         "default_opacities",
         "value"
        ]
       },
       {
        "data": "",
        "encoding": "base64",
        "path": [
         "x",
         "value"
        ]
       },
       {
        "data": "",
        "encoding": "base64",
        "path": [
         "y",
         "value"
        ]
       }
      ],
      "model_module": "bqplot",
      "model_module_version": "^0.5.0",
      "model_name": "ScatterModel",
      "state": {
       "color": {
        "dtype": "float64",
        "shape": [
         0
        ],
        "type": null,
        "value": {}
       },
       "default_opacities": {
        "dtype": "float64",
        "shape": [
         1
        ],
        "type": null,
        "value": {}
       },
       "names": null,
       "scales": {
        "color": "IPY_MODEL_17e4b583146a4ca6816e196800dceb08",
        "x": "IPY_MODEL_9f1c45a646c844b58fbdc3be5d1c2512",
        "y": "IPY_MODEL_177154b8122b4207b69035b2ba6361e0"
       },
       "scales_metadata": {
        "color": {
         "dimension": "color"
        },
        "opacity": {
         "dimension": "opacity"
        },
        "rotation": {
         "dimension": "rotation"
        },
        "size": {
         "dimension": "size"
        },
        "skew": {
         "dimension": "skew"
        },
        "x": {
         "dimension": "x",
         "orientation": "horizontal"
        },
        "y": {
         "dimension": "y",
         "orientation": "vertical"
        }
       },
       "stroke": "black",
       "x": {
        "dtype": "float64",
        "shape": [
         0
        ],
        "type": null,
        "value": {}
       },
       "y": {
        "dtype": "float64",
        "shape": [
         0
        ],
        "type": null,
        "value": {}
       }
      }
     },
     "1c964cf92a31471c9469b26d1d12a279": {
      "model_module": "bqplot",
      "model_module_version": "^0.5.0",
      "model_name": "FigureModel",
      "state": {
       "_dom_classes": [],
       "animation_duration": 1000,
       "axes": [
        "IPY_MODEL_386be9dba0164b86a63b92a3f416419b",
        "IPY_MODEL_88b8198ee8f44cd59192447d3a8876d3",
        "IPY_MODEL_a5efc01fa1ca472a9c60c3f45b2456f1"
       ],
       "layout": "IPY_MODEL_3daf535da588427d85ed2f010065550b",
       "marks": [
        "IPY_MODEL_71ecf4803f9b47bb86dd026002aea09d",
        "IPY_MODEL_784f3707675b4f508e9726e8fb571575"
       ],
       "scale_x": "IPY_MODEL_8535588032c648b193f250eca18043fe",
       "scale_y": "IPY_MODEL_d1283fcf9f2f407cac87c8302160949c",
       "title": "K-means clustering"
      }
     },
     "1d522a439dda4d75849685e95222f1f5": {
      "model_module": "@jupyter-widgets/controls",
      "model_module_version": "1.5.0",
      "model_name": "ButtonModel",
      "state": {
       "button_style": "success",
       "description": "Graficar",
       "layout": "IPY_MODEL_999b389f869d47e5ad10a896bd958bfa",
       "style": "IPY_MODEL_2531045359164016a1615902b5129500"
      }
     },
     "1df7330851e84216b1809503ade604c2": {
      "model_module": "bqplot",
      "model_module_version": "^0.5.0",
      "model_name": "ColorScaleModel",
      "state": {
       "colors": [],
       "scale_type": "linear"
      }
     },
     "1e0d66cbf6d342d89f1e063f233d9a76": {
      "model_module": "bqplot",
      "model_module_version": "^0.5.0",
      "model_name": "AxisModel",
      "state": {
       "label": "Ingresos",
       "scale": "IPY_MODEL_fec947c8f82242f8b2871003bb55437b",
       "side": "bottom",
       "tick_values": null
      }
     },
     "1f2a09feda904bcd814ccc9180563434": {
      "model_module": "bqplot",
      "model_module_version": "^0.5.0",
      "model_name": "LinearScaleModel",
      "state": {
       "allow_padding": false,
       "max": 1,
       "min": 0,
       "stabilized": false
      }
     },
     "202dcea7e3ff4a068aca3f7aeab1a4c6": {
      "model_module": "@jupyter-widgets/controls",
      "model_module_version": "1.5.0",
      "model_name": "ButtonModel",
      "state": {
       "button_style": "success",
       "description": "Iniciar",
       "disabled": true,
       "layout": "IPY_MODEL_06fa5827c17140be9f245118c610c318",
       "style": "IPY_MODEL_e519528962bd4681a459611867269a0d"
      }
     },
     "20e1e7a9fc394a728bf644335bd797bc": {
      "model_module": "bqplot",
      "model_module_version": "^0.5.0",
      "model_name": "OrdinalScaleModel",
      "state": {
       "_view_name": "OrdinalColorScale",
       "colors": [
        "#1f77b4",
        "#ff7f0e",
        "#2ca02c",
        "#d62728",
        "#9467bd",
        "#8c564b",
        "#e377c2",
        "#7f7f7f",
        "#bcbd22",
        "#17becf"
       ],
       "extrapolation": "constant",
       "max": null,
       "mid": null,
       "min": null,
       "scale_type": "linear",
       "scheme": "RdYlGn"
      }
     },
     "219b74f3619448d283da4cdf9213c613": {
      "model_module": "bqplot",
      "model_module_version": "^0.5.0",
      "model_name": "LinearScaleModel",
      "state": {
       "stabilized": false
      }
     },
     "223748be18c24624ac398c124286d007": {
      "model_module": "bqplot",
      "model_module_version": "^0.5.0",
      "model_name": "LinearScaleModel",
      "state": {
       "stabilized": false
      }
     },
     "235f9b3d12594f79902e5527eb7f9c3c": {
      "model_module": "@jupyter-widgets/controls",
      "model_module_version": "1.5.0",
      "model_name": "FloatSliderModel",
      "state": {
       "description": "cluster std",
       "layout": "IPY_MODEL_b50fc122bd0044c293d929b253a0bb7e",
       "max": 3,
       "min": 0.5,
       "step": 0.1,
       "style": "IPY_MODEL_0022e818b9ae4d2fb51f3b7d4bdc0b19",
       "value": 0.8
      }
     },
     "23a52f217fc244bd909dd32b91670f4c": {
      "model_module": "@jupyter-widgets/base",
      "model_module_version": "1.2.0",
      "model_name": "LayoutModel",
      "state": {
       "width": "80px"
      }
     },
     "23a7a42f6fb84d32bdd9b8bc58e8b4c4": {
      "model_module": "@jupyter-widgets/base",
      "model_module_version": "1.2.0",
      "model_name": "LayoutModel",
      "state": {}
     },
     "23e084dd074548e19eea7473621c4992": {
      "model_module": "bqplot",
      "model_module_version": "^0.5.0",
      "model_name": "LinearScaleModel",
      "state": {
       "allow_padding": false,
       "max": 1,
       "min": 0,
       "stabilized": false
      }
     },
     "240840175dc0485699c0811c6b8f20df": {
      "model_module": "@jupyter-widgets/controls",
      "model_module_version": "1.5.0",
      "model_name": "HTMLModel",
      "state": {
       "layout": "IPY_MODEL_d4a143d5616546e68ef4ff478470c2d5",
       "style": "IPY_MODEL_a757efd9f3c8449a95bdef4144eb9481",
       "value": "<script>\ncode_show=true; \nfunction code_toggle() {\n if (code_show){\n $('div.input').hide();\n } else {\n $('div.input').show();\n }\n code_show = !code_show\n} \n$( document ).ready(code_toggle);\n</script>\n<form action=\"javascript:code_toggle()\"><input type=\"submit\" value=\"Click here to toggle on/off the raw code.\"></form>"
      }
     },
     "2409f43dc2e3416d8f2858ab492b9385": {
      "model_module": "bqplot",
      "model_module_version": "^0.5.0",
      "model_name": "LinearScaleModel",
      "state": {
       "allow_padding": false,
       "max": 1,
       "min": 0,
       "stabilized": false
      }
     },
     "241f012562e248ec950d4d1987f29646": {
      "model_module": "bqplot",
      "model_module_version": "^0.5.0",
      "model_name": "LinearScaleModel",
      "state": {
       "allow_padding": false,
       "max": 1,
       "min": 0,
       "stabilized": false
      }
     },
     "24ed17fd781a488289eb03614a5bff26": {
      "model_module": "@jupyter-widgets/base",
      "model_module_version": "1.2.0",
      "model_name": "LayoutModel",
      "state": {}
     },
     "2531045359164016a1615902b5129500": {
      "model_module": "@jupyter-widgets/controls",
      "model_module_version": "1.5.0",
      "model_name": "ButtonStyleModel",
      "state": {}
     },
     "259c70a97ddb491f9df732eb31b8a3f7": {
      "model_module": "@jupyter-widgets/base",
      "model_module_version": "1.2.0",
      "model_name": "LayoutModel",
      "state": {
       "width": "80px"
      }
     },
     "25c05043ae854b0fbb711136d02b6dd6": {
      "buffers": [
       {
        "data": "",
        "encoding": "base64",
        "path": [
         "color",
         "value"
        ]
       },
       {
        "data": "AAAAAAAA8D8=",
        "encoding": "base64",
        "path": [
         "default_opacities",
         "value"
        ]
       },
       {
        "data": "",
        "encoding": "base64",
        "path": [
         "x",
         "value"
        ]
       },
       {
        "data": "",
        "encoding": "base64",
        "path": [
         "y",
         "value"
        ]
       }
      ],
      "model_module": "bqplot",
      "model_module_version": "^0.5.0",
      "model_name": "ScatterModel",
      "state": {
       "color": {
        "dtype": "float64",
        "shape": [
         0
        ],
        "type": null,
        "value": {}
       },
       "default_opacities": {
        "dtype": "float64",
        "shape": [
         1
        ],
        "type": null,
        "value": {}
       },
       "default_size": 400,
       "names": null,
       "scales": {
        "color": "IPY_MODEL_17e4b583146a4ca6816e196800dceb08",
        "x": "IPY_MODEL_9f1c45a646c844b58fbdc3be5d1c2512",
        "y": "IPY_MODEL_177154b8122b4207b69035b2ba6361e0"
       },
       "scales_metadata": {
        "color": {
         "dimension": "color"
        },
        "opacity": {
         "dimension": "opacity"
        },
        "rotation": {
         "dimension": "rotation"
        },
        "size": {
         "dimension": "size"
        },
        "skew": {
         "dimension": "skew"
        },
        "x": {
         "dimension": "x",
         "orientation": "horizontal"
        },
        "y": {
         "dimension": "y",
         "orientation": "vertical"
        }
       },
       "stroke": "black",
       "stroke_width": 3,
       "x": {
        "dtype": "float64",
        "shape": [
         0
        ],
        "type": null,
        "value": {}
       },
       "y": {
        "dtype": "float64",
        "shape": [
         0
        ],
        "type": null,
        "value": {}
       }
      }
     },
     "260a4f6e1be84059b20dd10d9a6ddc82": {
      "buffers": [
       {
        "data": "AAAAAAEAAAACAAAA",
        "encoding": "base64",
        "path": [
         "color",
         "value"
        ]
       },
       {
        "data": "AAAAAAAA8D8=",
        "encoding": "base64",
        "path": [
         "default_opacities",
         "value"
        ]
       },
       {
        "data": "ZCELWciCRUBkIQtZyIJFQBFCCCGEkD1A",
        "encoding": "base64",
        "path": [
         "x",
         "value"
        ]
       },
       {
        "data": "OL3pTW96LEBDFrKQhcxHQO+99957L1RA",
        "encoding": "base64",
        "path": [
         "y",
         "value"
        ]
       }
      ],
      "model_module": "bqplot",
      "model_module_version": "^0.5.0",
      "model_name": "ScatterModel",
      "state": {
       "color": {
        "dtype": "int32",
        "shape": [
         3
        ],
        "type": null,
        "value": {}
       },
       "default_opacities": {
        "dtype": "float64",
        "shape": [
         1
        ],
        "type": null,
        "value": {}
       },
       "default_size": 400,
       "names": null,
       "scales": {
        "color": "IPY_MODEL_1df7330851e84216b1809503ade604c2",
        "x": "IPY_MODEL_0bde0b67d3f047c492a4a2ed6665e320",
        "y": "IPY_MODEL_7d5ea1ca4e9e426aad9f8a3621158427"
       },
       "scales_metadata": {
        "color": {
         "dimension": "color"
        },
        "opacity": {
         "dimension": "opacity"
        },
        "rotation": {
         "dimension": "rotation"
        },
        "size": {
         "dimension": "size"
        },
        "skew": {
         "dimension": "skew"
        },
        "x": {
         "dimension": "x",
         "orientation": "horizontal"
        },
        "y": {
         "dimension": "y",
         "orientation": "vertical"
        }
       },
       "stroke": "black",
       "stroke_width": 3,
       "x": {
        "dtype": "float64",
        "shape": [
         3
        ],
        "type": null,
        "value": {}
       },
       "y": {
        "dtype": "float64",
        "shape": [
         3
        ],
        "type": null,
        "value": {}
       }
      }
     },
     "261d0791fec34994a97ebe8a325c0ae5": {
      "model_module": "@jupyter-widgets/base",
      "model_module_version": "1.2.0",
      "model_name": "LayoutModel",
      "state": {
       "width": "300px"
      }
     },
     "2703d0d31fa4419695012520cadfb31a": {
      "model_module": "@jupyter-widgets/controls",
      "model_module_version": "1.5.0",
      "model_name": "HBoxModel",
      "state": {
       "children": [
        "IPY_MODEL_e0abe734a1a04633bb42c28468fa3241",
        "IPY_MODEL_83ec24f3beb049c2a819dd154ed1ccf6"
       ],
       "layout": "IPY_MODEL_db9bfcc866c6430ca3be7871fbb3a55b"
      }
     },
     "274fe1a5051a4b5d9d7a71d3566f7f56": {
      "model_module": "@jupyter-widgets/base",
      "model_module_version": "1.2.0",
      "model_name": "LayoutModel",
      "state": {}
     },
     "2796710051d84a8d80e66ca26f9c3824": {
      "model_module": "@jupyter-widgets/base",
      "model_module_version": "1.2.0",
      "model_name": "LayoutModel",
      "state": {}
     },
     "2825cdb7e85c4c8ab92e2915cb68ac00": {
      "model_module": "@jupyter-widgets/controls",
      "model_module_version": "1.5.0",
      "model_name": "FloatSliderModel",
      "state": {
       "description": "cluster std",
       "layout": "IPY_MODEL_96b5614a5cda4185baa426fbe9c83fb8",
       "max": 3,
       "min": 0.5,
       "step": 0.1,
       "style": "IPY_MODEL_fb49f79e276c4345bf2e90e46a9cef4c",
       "value": 0.8
      }
     },
     "28dffb2ebd764898a305889e3d42ef6c": {
      "model_module": "@jupyter-widgets/controls",
      "model_module_version": "1.5.0",
      "model_name": "HBoxModel",
      "state": {
       "children": [
        "IPY_MODEL_b2119c48fd914b5bb2150913406fd6f6",
        "IPY_MODEL_4ca52c2daff6468f94c4a7a527afb4c9"
       ],
       "layout": "IPY_MODEL_31e1e91fd86541c9b5f72b80f6861705"
      }
     },
     "294e3f1b720643069ecc80382b57f8b6": {
      "model_module": "bqplot",
      "model_module_version": "^0.5.0",
      "model_name": "LinearScaleModel",
      "state": {
       "stabilized": false
      }
     },
     "29d38ece647b4897b14bb499dfde03ee": {
      "model_module": "bqplot",
      "model_module_version": "^0.5.0",
      "model_name": "LinearScaleModel",
      "state": {
       "allow_padding": false,
       "max": 1,
       "min": 0,
       "stabilized": false
      }
     },
     "29e1aa64fe834d63a4782a7b4c6ae036": {
      "model_module": "@jupyter-widgets/base",
      "model_module_version": "1.2.0",
      "model_name": "LayoutModel",
      "state": {
       "height": "700px",
       "width": "700px"
      }
     },
     "29ffee3a9ccf460b96653fbe6157b992": {
      "model_module": "@jupyter-widgets/controls",
      "model_module_version": "1.5.0",
      "model_name": "DescriptionStyleModel",
      "state": {
       "description_width": ""
      }
     },
     "2b2560b1a01f4e9aad561b457cf7608d": {
      "model_module": "@jupyter-widgets/base",
      "model_module_version": "1.2.0",
      "model_name": "LayoutModel",
      "state": {
       "width": "80px"
      }
     },
     "2bc5989cdf6f4696ae84187b210779f8": {
      "model_module": "@jupyter-widgets/controls",
      "model_module_version": "1.5.0",
      "model_name": "HBoxModel",
      "state": {
       "children": [
        "IPY_MODEL_8e20462b44c94cebbfefcb17b2d4ec51",
        "IPY_MODEL_faa0460ac40d4a9395109221f89837d0"
       ],
       "layout": "IPY_MODEL_db346f0c57474dcc911250b8a152a028"
      }
     },
     "2cb2fbaca75a47fe8df9084a10f8cfd4": {
      "model_module": "@jupyter-widgets/controls",
      "model_module_version": "1.5.0",
      "model_name": "VBoxModel",
      "state": {
       "children": [
        "IPY_MODEL_ad576be8a588479e8d4ca21331b5506a",
        "IPY_MODEL_235f9b3d12594f79902e5527eb7f9c3c",
        "IPY_MODEL_88df0fbf06bf49b1889d906f38af925f",
        "IPY_MODEL_3f0f2e947b344c03802659141a3cc86e"
       ],
       "layout": "IPY_MODEL_f7f89de86cb64396bc354cde00c36b9b"
      }
     },
     "2cd3cbb611e546c78696fb2cb4bb9fa9": {
      "model_module": "@jupyter-widgets/controls",
      "model_module_version": "1.5.0",
      "model_name": "HBoxModel",
      "state": {
       "children": [
        "IPY_MODEL_f8c65cccf2fe4f2fbf94971803a92adc",
        "IPY_MODEL_9f92b26299c04f3b83f1c6d54b26fcaa"
       ],
       "layout": "IPY_MODEL_623d8d613693486d805c1df48cafeaaf"
      }
     },
     "2d4d8d48814f47bcb4636f236cea9798": {
      "model_module": "@jupyter-widgets/controls",
      "model_module_version": "1.5.0",
      "model_name": "ButtonModel",
      "state": {
       "button_style": "success",
       "description": "Iniciar",
       "layout": "IPY_MODEL_a7d9894992ef4908b2043451f0fe034a",
       "style": "IPY_MODEL_46484f3d9eab4170a941e63f7d72e497"
      }
     },
     "2d67196f35e249adb429e43871bc87ca": {
      "model_module": "@jupyter-widgets/controls",
      "model_module_version": "1.5.0",
      "model_name": "HBoxModel",
      "state": {
       "children": [
        "IPY_MODEL_0141288597b942c3858a144a6acef4cd",
        "IPY_MODEL_12d708ea9e394959a1be750bfda1c83e"
       ],
       "layout": "IPY_MODEL_f1139cd7158b4e45ae1155bae00a1118"
      }
     },
     "2dba03f87f734d38b4036bef41cd921e": {
      "model_module": "bqplot",
      "model_module_version": "^0.5.0",
      "model_name": "AxisModel",
      "state": {
       "label": "Score ",
       "orientation": "vertical",
       "scale": "IPY_MODEL_740d1eec29be4ae3b85ecbe285d729a2",
       "side": "left",
       "tick_values": null
      }
     },
     "2e6d4468cd4c4825af2cc6d40ff1d08b": {
      "model_module": "bqplot",
      "model_module_version": "^0.5.0",
      "model_name": "OrdinalScaleModel",
      "state": {
       "_view_name": "OrdinalColorScale",
       "colors": [
        "#1f77b4",
        "#ff7f0e",
        "#2ca02c",
        "#d62728",
        "#9467bd",
        "#8c564b",
        "#e377c2",
        "#7f7f7f",
        "#bcbd22",
        "#17becf"
       ],
       "extrapolation": "constant",
       "max": null,
       "mid": null,
       "min": null,
       "scale_type": "linear",
       "scheme": "RdYlGn"
      }
     },
     "2f42bd8569a444138bc45e9bf51b8744": {
      "model_module": "@jupyter-widgets/base",
      "model_module_version": "1.2.0",
      "model_name": "LayoutModel",
      "state": {}
     },
     "2ff47f0f46aa4037a61385bb0b873a23": {
      "model_module": "@jupyter-widgets/controls",
      "model_module_version": "1.5.0",
      "model_name": "HBoxModel",
      "state": {
       "children": [
        "IPY_MODEL_31023da9b7074d998df8dab8188d7e62",
        "IPY_MODEL_81c24db4c22e4beb8e24b6c5cefe1df1"
       ],
       "layout": "IPY_MODEL_274fe1a5051a4b5d9d7a71d3566f7f56"
      }
     },
     "30acba2f88304b8aacc417fdb06d1a2c": {
      "model_module": "@jupyter-widgets/controls",
      "model_module_version": "1.5.0",
      "model_name": "IntSliderModel",
      "state": {
       "description": "Núm. Clusters",
       "layout": "IPY_MODEL_69ece4a20e3549a0814e44cf140e4c2a",
       "max": 10,
       "min": 2,
       "style": "IPY_MODEL_822b40211a884683b55611035b0c36b2",
       "value": 3
      }
     },
     "30c6cce57229411d96a3fefed3468dc9": {
      "model_module": "bqplot",
      "model_module_version": "^0.5.0",
      "model_name": "AxisModel",
      "state": {
       "label": "Score ",
       "orientation": "vertical",
       "scale": "IPY_MODEL_4465b9dbb84e458caf28f388728e27ed",
       "side": "left",
       "tick_values": null
      }
     },
     "30fbee71e6a946389d9fb8d7a9205667": {
      "model_module": "@jupyter-widgets/controls",
      "model_module_version": "1.5.0",
      "model_name": "LabelModel",
      "state": {
       "layout": "IPY_MODEL_fe38ce1c96d649bca77916d8adf4f79a",
       "style": "IPY_MODEL_5b4a8110bb4548be966cbe5d91d9ba22",
       "value": "Iterations: 4"
      }
     },
     "31023da9b7074d998df8dab8188d7e62": {
      "model_module": "@jupyter-widgets/controls",
      "model_module_version": "1.5.0",
      "model_name": "ButtonModel",
      "state": {
       "button_style": "success",
       "description": "Graficar",
       "layout": "IPY_MODEL_53f7d5a8e587455fbcdb3b2e1fb954da",
       "style": "IPY_MODEL_6a0db6606cbd4909bfdb7c7d1628ec7f"
      }
     },
     "31198519e3cb446db1267916fba5ab44": {
      "model_module": "@jupyter-widgets/controls",
      "model_module_version": "1.5.0",
      "model_name": "HBoxModel",
      "state": {
       "children": [
        "IPY_MODEL_aa26150400a9404e885febfc114a37b3",
        "IPY_MODEL_05a9c37bfc9247a4923c63f4e0dc165f"
       ],
       "layout": "IPY_MODEL_e3d79ddb907d45c5a48a84f25a3953b5"
      }
     },
     "3158502e34c2422eb94e5122d0f892fc": {
      "model_module": "@jupyter-widgets/controls",
      "model_module_version": "1.5.0",
      "model_name": "ButtonModel",
      "state": {
       "button_style": "success",
       "description": "Graficar",
       "disabled": true,
       "layout": "IPY_MODEL_c38d5778c02f42a59bc26017009a1e83",
       "style": "IPY_MODEL_aa4e4a83863042aa8c85fdf87a93499c"
      }
     },
     "3172013a94124a139f60568e3e7258a3": {
      "model_module": "@jupyter-widgets/base",
      "model_module_version": "1.2.0",
      "model_name": "LayoutModel",
      "state": {}
     },
     "31e1e91fd86541c9b5f72b80f6861705": {
      "model_module": "@jupyter-widgets/base",
      "model_module_version": "1.2.0",
      "model_name": "LayoutModel",
      "state": {}
     },
     "344e1cca414e4e4e9e1a6f289e2ce3e6": {
      "model_module": "bqplot",
      "model_module_version": "^0.5.0",
      "model_name": "LinearScaleModel",
      "state": {
       "allow_padding": false,
       "max": 1,
       "min": 0,
       "stabilized": false
      }
     },
     "348429b6caf54ebf80121632d96e27bb": {
      "model_module": "bqplot",
      "model_module_version": "^0.5.0",
      "model_name": "AxisModel",
      "state": {
       "label": "Edad",
       "scale": "IPY_MODEL_60358897d390447dbd56fd9330e38cdd",
       "side": "bottom",
       "tick_values": null
      }
     },
     "350396d815754b1093693092b4da17a7": {
      "model_module": "@jupyter-widgets/controls",
      "model_module_version": "1.5.0",
      "model_name": "HBoxModel",
      "state": {
       "children": [
        "IPY_MODEL_666427cd948c406e9508ca70938dc6fa",
        "IPY_MODEL_402727774d4542ab8aff3873782799ec"
       ],
       "layout": "IPY_MODEL_74c3171ac414415c812eedba6c6709a0"
      }
     },
     "35816636ffd74a5cb0e2de40683d4478": {
      "model_module": "bqplot",
      "model_module_version": "^0.5.0",
      "model_name": "ColorAxisModel",
      "state": {
       "scale": "IPY_MODEL_6069388738534ad0aecfe473086930e0",
       "side": "bottom",
       "tick_values": null,
       "visible": false
      }
     },
     "35eb87d0c9a6447f9921bab4a4518458": {
      "model_module": "bqplot",
      "model_module_version": "^0.5.0",
      "model_name": "LinearScaleModel",
      "state": {
       "allow_padding": false,
       "max": 1,
       "min": 0,
       "stabilized": false
      }
     },
     "361a108b4d2b46b29c165882538864d5": {
      "model_module": "@jupyter-widgets/base",
      "model_module_version": "1.2.0",
      "model_name": "LayoutModel",
      "state": {
       "width": "80px"
      }
     },
     "36dd69200947464ab272a3b3699468ce": {
      "model_module": "@jupyter-widgets/controls",
      "model_module_version": "1.5.0",
      "model_name": "VBoxModel",
      "state": {
       "children": [
        "IPY_MODEL_09b35173230c4b728e73863c633e3185",
        "IPY_MODEL_17d7baaf01534060a8993460f2adbbb1",
        "IPY_MODEL_d45f2771606448eda69041a40bf58544",
        "IPY_MODEL_86390978658844718c19dd193b1b71f0"
       ],
       "layout": "IPY_MODEL_9997825fe2c444708dfe2819570f9a75"
      }
     },
     "37763fd9c58640d6bd01593e4ffe69e9": {
      "model_module": "bqplot",
      "model_module_version": "^0.5.0",
      "model_name": "LinearScaleModel",
      "state": {
       "stabilized": false
      }
     },
     "37e571f49ef341da858738b4e6287365": {
      "model_module": "@jupyter-widgets/base",
      "model_module_version": "1.2.0",
      "model_name": "LayoutModel",
      "state": {
       "margin": "60px 0px 0px 0px"
      }
     },
     "3813ee47029f49a6bb1bf3372be5ab6b": {
      "buffers": [
       {
        "data": "",
        "encoding": "base64",
        "path": [
         "color",
         "value"
        ]
       },
       {
        "data": "AAAAAAAA8D8=",
        "encoding": "base64",
        "path": [
         "default_opacities",
         "value"
        ]
       },
       {
        "data": "EwAAABUAAAAUAAAAFwAAAB8AAAAWAAAAIwAAABcAAABAAAAAHgAAAEMAAAAjAAAAOgAAABgAAAAlAAAAFgAAACMAAAAUAAAANAAAACMAAAAjAAAAGQAAAC4AAAAfAAAANgAAAB0AAAAtAAAAIwAAACgAAAAXAAAAPAAAABUAAAA1AAAAEgAAADEAAAAVAAAAKgAAAB4AAAAkAAAAFAAAAEEAAAAYAAAAMAAAAB8AAAAxAAAAGAAAADIAAAAbAAAAHQAAAB8AAAAxAAAAIQAAAB8AAAA7AAAAMgAAAC8AAAAzAAAARQAAABsAAAA1AAAARgAAABMAAABDAAAANgAAAD8AAAASAAAAKwAAAEQAAAATAAAAIAAAAEYAAAAvAAAAPAAAADwAAAA7AAAAGgAAAC0AAAAoAAAAFwAAADEAAAA5AAAAJgAAAEMAAAAuAAAAFQAAADAAAAA3AAAAFgAAACIAAAAyAAAARAAAABIAAAAwAAAAKAAAACAAAAAYAAAALwAAABsAAAAwAAAAFAAAABcAAAAxAAAAQwAAABoAAAAxAAAAFQAAAEIAAAA2AAAARAAAAEIAAABBAAAAEwAAACYAAAATAAAAEgAAABMAAAA/AAAAMQAAADMAAAAyAAAAGwAAACYAAAAoAAAAJwAAABcAAAAfAAAAKwAAACgAAAA7AAAAJgAAAC8AAAAnAAAAGQAAAB8AAAAUAAAAHQAAACwAAAAgAAAAEwAAACMAAAA5AAAAIAAAABwAAAAgAAAAGQAAABwAAAAwAAAAIAAAACIAAAAiAAAAKwAAACcAAAAsAAAAJgAAAC8AAAAbAAAAJQAAAB4AAAAiAAAAHgAAADgAAAAdAAAAEwAAAB8AAAAyAAAAJAAAACoAAAAhAAAAJAAAACAAAAAoAAAAHAAAACQAAAAkAAAANAAAAB4AAAA6AAAAGwAAADsAAAAjAAAAJQAAACAAAAAuAAAAHQAAACkAAAAeAAAANgAAABwAAAApAAAAJAAAACIAAAAgAAAAIQAAACYAAAAvAAAAIwAAAC0AAAAgAAAAIAAAAB4AAAA=",
        "encoding": "base64",
        "path": [
         "x",
         "value"
        ]
       },
       {
        "data": "DwAAAA8AAAAQAAAAEAAAABEAAAARAAAAEgAAABIAAAATAAAAEwAAABMAAAATAAAAFAAAABQAAAAUAAAAFAAAABUAAAAVAAAAFwAAABcAAAAYAAAAGAAAABkAAAAZAAAAHAAAABwAAAAcAAAAHAAAAB0AAAAdAAAAHgAAAB4AAAAhAAAAIQAAACEAAAAhAAAAIgAAACIAAAAlAAAAJQAAACYAAAAmAAAAJwAAACcAAAAnAAAAJwAAACgAAAAoAAAAKAAAACgAAAAqAAAAKgAAACsAAAArAAAAKwAAACsAAAAsAAAALAAAAC4AAAAuAAAALgAAAC4AAAAvAAAALwAAADAAAAAwAAAAMAAAADAAAAAwAAAAMAAAADEAAAAxAAAAMgAAADIAAAA2AAAANgAAADYAAAA2AAAANgAAADYAAAA2AAAANgAAADYAAAA2AAAANgAAADYAAAA5AAAAOQAAADoAAAA6AAAAOwAAADsAAAA8AAAAPAAAADwAAAA8AAAAPAAAADwAAAA9AAAAPQAAAD4AAAA+AAAAPgAAAD4AAAA+AAAAPgAAAD8AAAA/AAAAPwAAAD8AAAA/AAAAPwAAAEAAAABAAAAAQQAAAEEAAABBAAAAQQAAAEMAAABDAAAAQwAAAEMAAABFAAAARQAAAEYAAABGAAAARwAAAEcAAABHAAAARwAAAEcAAABHAAAASAAAAEgAAABJAAAASQAAAEkAAABJAAAASgAAAEoAAABLAAAASwAAAEwAAABMAAAATQAAAE0AAABNAAAATQAAAE4AAABOAAAATgAAAE4AAABOAAAATgAAAE4AAABOAAAATgAAAE4AAABOAAAATgAAAE8AAABPAAAAUQAAAFEAAABVAAAAVQAAAFYAAABWAAAAVwAAAFcAAABXAAAAVwAAAFcAAABXAAAAWAAAAFgAAABYAAAAWAAAAF0AAABdAAAAYQAAAGEAAABiAAAAYgAAAGMAAABjAAAAZQAAAGUAAABnAAAAZwAAAGcAAABnAAAAcQAAAHEAAAB4AAAAeAAAAH4AAAB+AAAAiQAAAIkAAAA=",
        "encoding": "base64",
        "path": [
         "y",
         "value"
        ]
       }
      ],
      "model_module": "bqplot",
      "model_module_version": "^0.5.0",
      "model_name": "ScatterModel",
      "state": {
       "color": {
        "dtype": "float64",
        "shape": [
         0
        ],
        "type": null,
        "value": {}
       },
       "default_opacities": {
        "dtype": "float64",
        "shape": [
         1
        ],
        "type": null,
        "value": {}
       },
       "names": null,
       "scales": {
        "color": "IPY_MODEL_e4dec3403a8f4bafb80c59e1c0337a92",
        "x": "IPY_MODEL_6bb3553caf004f29ab705b2397cc8b51",
        "y": "IPY_MODEL_f5150e9e542f4c849c396a526b79b354"
       },
       "scales_metadata": {
        "color": {
         "dimension": "color"
        },
        "opacity": {
         "dimension": "opacity"
        },
        "rotation": {
         "dimension": "rotation"
        },
        "size": {
         "dimension": "size"
        },
        "skew": {
         "dimension": "skew"
        },
        "x": {
         "dimension": "x",
         "orientation": "horizontal"
        },
        "y": {
         "dimension": "y",
         "orientation": "vertical"
        }
       },
       "stroke": "black",
       "x": {
        "dtype": "int32",
        "shape": [
         200
        ],
        "type": null,
        "value": {}
       },
       "y": {
        "dtype": "int32",
        "shape": [
         200
        ],
        "type": null,
        "value": {}
       }
      }
     },
     "386a9bb0915b48e995c24de3e970a3a7": {
      "model_module": "@jupyter-widgets/base",
      "model_module_version": "1.2.0",
      "model_name": "LayoutModel",
      "state": {}
     },
     "386be9dba0164b86a63b92a3f416419b": {
      "model_module": "bqplot",
      "model_module_version": "^0.5.0",
      "model_name": "ColorAxisModel",
      "state": {
       "scale": "IPY_MODEL_d8aa3d1ca0794eb8b8db07052da2f355",
       "side": "bottom",
       "tick_values": null,
       "visible": false
      }
     },
     "38f5912e9d404901b755e68f4f61ff3f": {
      "model_module": "bqplot",
      "model_module_version": "^0.5.0",
      "model_name": "ColorAxisModel",
      "state": {
       "scale": "IPY_MODEL_df01f1092bba4cd898e185638fb76d3c",
       "side": "bottom",
       "tick_values": null,
       "visible": false
      }
     },
     "397340e7367f4d69b64d62043cc3abc1": {
      "model_module": "@jupyter-widgets/controls",
      "model_module_version": "1.5.0",
      "model_name": "ButtonModel",
      "state": {
       "button_style": "success",
       "description": "Iniciar",
       "layout": "IPY_MODEL_0e9c526fe5334f5eb8479f086f639170",
       "style": "IPY_MODEL_6de222b2ce2f45779873281ecf43fd47"
      }
     },
     "39d6015888134629b6fbc124fac00bb5": {
      "buffers": [
       {
        "data": "",
        "encoding": "base64",
        "path": [
         "color",
         "value"
        ]
       },
       {
        "data": "AAAAAAAA8D8=",
        "encoding": "base64",
        "path": [
         "default_opacities",
         "value"
        ]
       },
       {
        "data": "",
        "encoding": "base64",
        "path": [
         "x",
         "value"
        ]
       },
       {
        "data": "",
        "encoding": "base64",
        "path": [
         "y",
         "value"
        ]
       }
      ],
      "model_module": "bqplot",
      "model_module_version": "^0.5.0",
      "model_name": "ScatterModel",
      "state": {
       "color": {
        "dtype": "float64",
        "shape": [
         0
        ],
        "type": null,
        "value": {}
       },
       "default_opacities": {
        "dtype": "float64",
        "shape": [
         1
        ],
        "type": null,
        "value": {}
       },
       "default_size": 400,
       "names": null,
       "scales": {
        "color": "IPY_MODEL_a8926e42da6c4de2a758f77868210592",
        "x": "IPY_MODEL_8c4fa5f57e2846ada9959e551ebc83e7",
        "y": "IPY_MODEL_0b69434092254037a3c010cdc5433c5a"
       },
       "scales_metadata": {
        "color": {
         "dimension": "color"
        },
        "opacity": {
         "dimension": "opacity"
        },
        "rotation": {
         "dimension": "rotation"
        },
        "size": {
         "dimension": "size"
        },
        "skew": {
         "dimension": "skew"
        },
        "x": {
         "dimension": "x",
         "orientation": "horizontal"
        },
        "y": {
         "dimension": "y",
         "orientation": "vertical"
        }
       },
       "stroke": "black",
       "stroke_width": 3,
       "x": {
        "dtype": "float64",
        "shape": [
         0
        ],
        "type": null,
        "value": {}
       },
       "y": {
        "dtype": "float64",
        "shape": [
         0
        ],
        "type": null,
        "value": {}
       }
      }
     },
     "3a40fa80e2254d0ba55a50d1e4dc81b3": {
      "model_module": "@jupyter-widgets/controls",
      "model_module_version": "1.5.0",
      "model_name": "HBoxModel",
      "state": {
       "children": [
        "IPY_MODEL_bde16ed250d44a5bb18ca4d7639d8826",
        "IPY_MODEL_9bede410dd8f4e33a19c3300547c63ed"
       ],
       "layout": "IPY_MODEL_4569ec75f0714219ade2019186e7b00e"
      }
     },
     "3ab1263ddb38409f8705ddfc764e6301": {
      "model_module": "@jupyter-widgets/controls",
      "model_module_version": "1.5.0",
      "model_name": "SliderStyleModel",
      "state": {
       "description_width": ""
      }
     },
     "3acc402d5acd427fbb8621bd136b5105": {
      "model_module": "bqplot",
      "model_module_version": "^0.5.0",
      "model_name": "OrdinalScaleModel",
      "state": {
       "_view_name": "OrdinalColorScale",
       "colors": [
        "#1f77b4",
        "#ff7f0e",
        "#2ca02c",
        "#d62728",
        "#9467bd",
        "#8c564b",
        "#e377c2",
        "#7f7f7f",
        "#bcbd22",
        "#17becf"
       ],
       "extrapolation": "constant",
       "max": null,
       "mid": null,
       "min": null,
       "scale_type": "linear",
       "scheme": "RdYlGn"
      }
     },
     "3aea1953bb75440e8daf466bb14c7fab": {
      "model_module": "@jupyter-widgets/controls",
      "model_module_version": "1.5.0",
      "model_name": "ButtonStyleModel",
      "state": {}
     },
     "3b02c938890f4337a7ef8cb0d2c73d7f": {
      "model_module": "bqplot",
      "model_module_version": "^0.5.0",
      "model_name": "OrdinalScaleModel",
      "state": {
       "_view_name": "OrdinalColorScale",
       "colors": [
        "#1f77b4",
        "#ff7f0e",
        "#2ca02c",
        "#d62728",
        "#9467bd",
        "#8c564b",
        "#e377c2",
        "#7f7f7f",
        "#bcbd22",
        "#17becf"
       ],
       "extrapolation": "constant",
       "max": null,
       "mid": null,
       "min": null,
       "scale_type": "linear",
       "scheme": "RdYlGn"
      }
     },
     "3bf45a9d00964e0380d11c2966606e22": {
      "model_module": "@jupyter-widgets/controls",
      "model_module_version": "1.5.0",
      "model_name": "VBoxModel",
      "state": {
       "children": [
        "IPY_MODEL_96caef2efdc5457ab19f120f9ea7b5f6",
        "IPY_MODEL_cb6aac4d40ba448a80bcff3982ad231a",
        "IPY_MODEL_0356746f528f4b979bc5a894fe57e9f7",
        "IPY_MODEL_3d7ffe0d01434257bb076838300b337e"
       ],
       "layout": "IPY_MODEL_935e39df250648c989684203dccde1bb"
      }
     },
     "3c093b3764fd4eb9963ffd8c3db6de42": {
      "model_module": "bqplot",
      "model_module_version": "^0.5.0",
      "model_name": "LinearScaleModel",
      "state": {
       "allow_padding": false,
       "max": 1,
       "min": 0,
       "stabilized": false
      }
     },
     "3c125fac278945aa8535f6c6bfbdae83": {
      "model_module": "@jupyter-widgets/controls",
      "model_module_version": "1.5.0",
      "model_name": "IntSliderModel",
      "state": {
       "description": "Núm. Clusters",
       "layout": "IPY_MODEL_e9b0228dcf724fdfa7fe67f9b5b60ff2",
       "max": 10,
       "min": 2,
       "style": "IPY_MODEL_08b5c72ff8dd425d94b3850e9d03abd2",
       "value": 3
      }
     },
     "3ca17029fb6a43548eac7966821bf6af": {
      "model_module": "@jupyter-widgets/base",
      "model_module_version": "1.2.0",
      "model_name": "LayoutModel",
      "state": {}
     },
     "3cd2c517760b4b9ebf54360fcec80a87": {
      "model_module": "bqplot",
      "model_module_version": "^0.5.0",
      "model_name": "LinearScaleModel",
      "state": {
       "allow_padding": false,
       "max": 1,
       "min": 0,
       "stabilized": false
      }
     },
     "3cf7d99d65a644438170a6d408be88a4": {
      "model_module": "@jupyter-widgets/controls",
      "model_module_version": "1.5.0",
      "model_name": "ButtonModel",
      "state": {
       "button_style": "success",
       "description": "Iniciar",
       "layout": "IPY_MODEL_cffd660f0c0b4948a6756a03f0d9c380",
       "style": "IPY_MODEL_875a80379ae94d04994108c2fdc7fd2a"
      }
     },
     "3d668ada448f4d03aa986d9851c2d889": {
      "model_module": "bqplot",
      "model_module_version": "^0.5.0",
      "model_name": "ColorAxisModel",
      "state": {
       "scale": "IPY_MODEL_17e4b583146a4ca6816e196800dceb08",
       "side": "bottom",
       "tick_values": null,
       "visible": false
      }
     },
     "3d7ffe0d01434257bb076838300b337e": {
      "model_module": "@jupyter-widgets/controls",
      "model_module_version": "1.5.0",
      "model_name": "LabelModel",
      "state": {
       "layout": "IPY_MODEL_60d081019f4a4855b2a0412a98b575f8",
       "style": "IPY_MODEL_461fc8b5737a42aa8133fe5786a8ff0b",
       "value": "Iterations: 12"
      }
     },
     "3daf535da588427d85ed2f010065550b": {
      "model_module": "@jupyter-widgets/base",
      "model_module_version": "1.2.0",
      "model_name": "LayoutModel",
      "state": {
       "height": "700px",
       "width": "700px"
      }
     },
     "3de8a151a8ba40f090f6d2b04d3ad146": {
      "model_module": "@jupyter-widgets/controls",
      "model_module_version": "1.5.0",
      "model_name": "ButtonStyleModel",
      "state": {}
     },
     "3f0f2e947b344c03802659141a3cc86e": {
      "model_module": "@jupyter-widgets/controls",
      "model_module_version": "1.5.0",
      "model_name": "LabelModel",
      "state": {
       "layout": "IPY_MODEL_acee8ac6ad3a4841aabd6f1e22283e79",
       "style": "IPY_MODEL_ac4b966ef1074d47916fdf554ef5eeb8",
       "value": "Iterations: "
      }
     },
     "3f9c4e76ceff4ba49f2865e6a9bdc683": {
      "model_module": "@jupyter-widgets/base",
      "model_module_version": "1.2.0",
      "model_name": "LayoutModel",
      "state": {}
     },
     "3fb72bf09cab4d10a36b6b2b92c9b063": {
      "model_module": "@jupyter-widgets/controls",
      "model_module_version": "1.5.0",
      "model_name": "SliderStyleModel",
      "state": {
       "description_width": ""
      }
     },
     "401a5570482540be90a66e5a13b7c0ad": {
      "model_module": "bqplot",
      "model_module_version": "^0.5.0",
      "model_name": "ColorAxisModel",
      "state": {
       "scale": "IPY_MODEL_155c6d9c401245a9bf3632cd3da77ae0",
       "side": "bottom",
       "tick_values": null,
       "visible": false
      }
     },
     "402727774d4542ab8aff3873782799ec": {
      "model_module": "@jupyter-widgets/controls",
      "model_module_version": "1.5.0",
      "model_name": "ButtonModel",
      "state": {
       "button_style": "success",
       "description": "Iniciar",
       "layout": "IPY_MODEL_7ab6e702d790493384192eeeb31c60c3",
       "style": "IPY_MODEL_e4e563594cf34218aaebb54aec275abf"
      }
     },
     "41f52d1b35cd4ae1854f8d28190e1b25": {
      "model_module": "bqplot",
      "model_module_version": "^0.5.0",
      "model_name": "LinearScaleModel",
      "state": {
       "allow_padding": false,
       "max": 1,
       "min": 0,
       "stabilized": false
      }
     },
     "42680ed0432740fe94d7170ce2137047": {
      "model_module": "@jupyter-widgets/base",
      "model_module_version": "1.2.0",
      "model_name": "LayoutModel",
      "state": {}
     },
     "42993545644b4cd69c150165ca9f2c49": {
      "model_module": "bqplot",
      "model_module_version": "^0.5.0",
      "model_name": "LinearScaleModel",
      "state": {
       "allow_padding": false,
       "max": 1,
       "min": 0,
       "stabilized": false
      }
     },
     "42ee6e9d84384c9e9b04e554d10498c0": {
      "model_module": "bqplot",
      "model_module_version": "^0.5.0",
      "model_name": "LinearScaleModel",
      "state": {
       "stabilized": false
      }
     },
     "434a5d27c33d4884949377cff8f08e42": {
      "model_module": "@jupyter-widgets/base",
      "model_module_version": "1.2.0",
      "model_name": "LayoutModel",
      "state": {
       "width": "80px"
      }
     },
     "439684f1931b42a0b2e821c69fb939e6": {
      "model_module": "@jupyter-widgets/base",
      "model_module_version": "1.2.0",
      "model_name": "LayoutModel",
      "state": {
       "height": "700px",
       "width": "700px"
      }
     },
     "43ef34817041499e9a874ba7a91efeec": {
      "model_module": "@jupyter-widgets/base",
      "model_module_version": "1.2.0",
      "model_name": "LayoutModel",
      "state": {}
     },
     "44461864bf4e4417b3bcc815c997ffda": {
      "model_module": "@jupyter-widgets/base",
      "model_module_version": "1.2.0",
      "model_name": "LayoutModel",
      "state": {
       "width": "80px"
      }
     },
     "4465b9dbb84e458caf28f388728e27ed": {
      "model_module": "bqplot",
      "model_module_version": "^0.5.0",
      "model_name": "LinearScaleModel",
      "state": {
       "stabilized": false
      }
     },
     "4569ec75f0714219ade2019186e7b00e": {
      "model_module": "@jupyter-widgets/base",
      "model_module_version": "1.2.0",
      "model_name": "LayoutModel",
      "state": {}
     },
     "45aa84dfef8a490c9f99580a7b582bfa": {
      "buffers": [
       {
        "data": "AQAAAAIAAAAAAAAAAgAAAAEAAAACAAAAAAAAAAIAAAAAAAAAAgAAAAAAAAACAAAAAAAAAAIAAAAAAAAAAgAAAAEAAAACAAAAAAAAAAIAAAABAAAAAgAAAAAAAAACAAAAAAAAAAIAAAABAAAAAQAAAAEAAAACAAAAAAAAAAIAAAAAAAAAAgAAAAAAAAACAAAAAAAAAAIAAAAAAAAAAgAAAAEAAAACAAAAAQAAAAEAAAAAAAAAAgAAAAEAAAABAAAAAQAAAAEAAAABAAAAAQAAAAEAAAABAAAAAQAAAAEAAAABAAAAAQAAAAEAAAABAAAAAQAAAAEAAAABAAAAAQAAAAEAAAACAAAAAQAAAAEAAAACAAAAAQAAAAEAAAABAAAAAQAAAAEAAAABAAAAAQAAAAEAAAABAAAAAQAAAAEAAAABAAAAAQAAAAEAAAABAAAAAQAAAAEAAAABAAAAAQAAAAEAAAABAAAAAQAAAAEAAAABAAAAAQAAAAEAAAABAAAAAQAAAAEAAAABAAAAAQAAAAEAAAABAAAAAQAAAAEAAAABAAAAAQAAAAEAAAABAAAAAQAAAAEAAAABAAAAAQAAAAEAAAABAAAAAQAAAAEAAAABAAAAAQAAAAEAAAABAAAAAQAAAAEAAAABAAAAAgAAAAAAAAACAAAAAQAAAAIAAAAAAAAAAgAAAAAAAAACAAAAAQAAAAIAAAAAAAAAAgAAAAAAAAACAAAAAAAAAAIAAAAAAAAAAgAAAAEAAAACAAAAAAAAAAIAAAABAAAAAgAAAAAAAAACAAAAAAAAAAIAAAAAAAAAAgAAAAAAAAACAAAAAAAAAAIAAAAAAAAAAgAAAAEAAAACAAAAAAAAAAIAAAAAAAAAAgAAAAAAAAACAAAAAAAAAAIAAAAAAAAAAgAAAAAAAAACAAAAAAAAAAIAAAAAAAAAAgAAAAAAAAACAAAAAQAAAAIAAAAAAAAAAgAAAAEAAAACAAAAAAAAAAIAAAAAAAAAAgAAAAAAAAACAAAAAAAAAAIAAAAAAAAAAgAAAAAAAAACAAAAAAAAAAIAAAA=",
        "encoding": "base64",
        "path": [
         "color",
         "value"
        ]
       },
       {
        "data": "AAAAAAAA8D8=",
        "encoding": "base64",
        "path": [
         "default_opacities",
         "value"
        ]
       },
       {
        "data": "EwAAABUAAAAUAAAAFwAAAB8AAAAWAAAAIwAAABcAAABAAAAAHgAAAEMAAAAjAAAAOgAAABgAAAAlAAAAFgAAACMAAAAUAAAANAAAACMAAAAjAAAAGQAAAC4AAAAfAAAANgAAAB0AAAAtAAAAIwAAACgAAAAXAAAAPAAAABUAAAA1AAAAEgAAADEAAAAVAAAAKgAAAB4AAAAkAAAAFAAAAEEAAAAYAAAAMAAAAB8AAAAxAAAAGAAAADIAAAAbAAAAHQAAAB8AAAAxAAAAIQAAAB8AAAA7AAAAMgAAAC8AAAAzAAAARQAAABsAAAA1AAAARgAAABMAAABDAAAANgAAAD8AAAASAAAAKwAAAEQAAAATAAAAIAAAAEYAAAAvAAAAPAAAADwAAAA7AAAAGgAAAC0AAAAoAAAAFwAAADEAAAA5AAAAJgAAAEMAAAAuAAAAFQAAADAAAAA3AAAAFgAAACIAAAAyAAAARAAAABIAAAAwAAAAKAAAACAAAAAYAAAALwAAABsAAAAwAAAAFAAAABcAAAAxAAAAQwAAABoAAAAxAAAAFQAAAEIAAAA2AAAARAAAAEIAAABBAAAAEwAAACYAAAATAAAAEgAAABMAAAA/AAAAMQAAADMAAAAyAAAAGwAAACYAAAAoAAAAJwAAABcAAAAfAAAAKwAAACgAAAA7AAAAJgAAAC8AAAAnAAAAGQAAAB8AAAAUAAAAHQAAACwAAAAgAAAAEwAAACMAAAA5AAAAIAAAABwAAAAgAAAAGQAAABwAAAAwAAAAIAAAACIAAAAiAAAAKwAAACcAAAAsAAAAJgAAAC8AAAAbAAAAJQAAAB4AAAAiAAAAHgAAADgAAAAdAAAAEwAAAB8AAAAyAAAAJAAAACoAAAAhAAAAJAAAACAAAAAoAAAAHAAAACQAAAAkAAAANAAAAB4AAAA6AAAAGwAAADsAAAAjAAAAJQAAACAAAAAuAAAAHQAAACkAAAAeAAAANgAAABwAAAApAAAAJAAAACIAAAAgAAAAIQAAACYAAAAvAAAAIwAAAC0AAAAgAAAAIAAAAB4AAAA=",
        "encoding": "base64",
        "path": [
         "x",
         "value"
        ]
       },
       {
        "data": "JwAAAFEAAAAGAAAATQAAACgAAABMAAAABgAAAF4AAAADAAAASAAAAA4AAABjAAAADwAAAE0AAAANAAAATwAAACMAAABCAAAAHQAAAGIAAAAjAAAASQAAAAUAAABJAAAADgAAAFIAAAAgAAAAPQAAAB8AAABXAAAABAAAAEkAAAAEAAAAXAAAAA4AAABRAAAAEQAAAEkAAAAaAAAASwAAACMAAABcAAAAJAAAAD0AAAAcAAAAQQAAADcAAAAvAAAAKgAAACoAAAA0AAAAPAAAADYAAAA8AAAALQAAACkAAAAyAAAALgAAADMAAAAuAAAAOAAAADcAAAA0AAAAOwAAADMAAAA7AAAAMgAAADAAAAA7AAAALwAAADcAAAAqAAAAMQAAADgAAAAvAAAANgAAADUAAAAwAAAANAAAACoAAAAzAAAANwAAACkAAAAsAAAAOQAAAC4AAAA6AAAANwAAADwAAAAuAAAANwAAACkAAAAxAAAAKAAAACoAAAA0AAAALwAAADIAAAAqAAAAMQAAACkAAAAwAAAAOwAAADcAAAA4AAAAKgAAADIAAAAuAAAAKwAAADAAAAA0AAAANgAAACoAAAAuAAAAMAAAADIAAAArAAAAOwAAACsAAAA5AAAAOAAAACgAAAA6AAAAWwAAAB0AAABNAAAAIwAAAF8AAAALAAAASwAAAAkAAABLAAAAIgAAAEcAAAAFAAAAWAAAAAcAAABJAAAACgAAAEgAAAAFAAAAXQAAACgAAABXAAAADAAAAGEAAAAkAAAASgAAABYAAABaAAAAEQAAAFgAAAAUAAAATAAAABAAAABZAAAAAQAAAE4AAAABAAAASQAAACMAAABTAAAABQAAAF0AAAAaAAAASwAAABQAAABfAAAAGwAAAD8AAAANAAAASwAAAAoAAABcAAAADQAAAFYAAAAPAAAARQAAAA4AAABaAAAAIAAAAFYAAAAPAAAAWAAAACcAAABhAAAAGAAAAEQAAAARAAAAVQAAABcAAABFAAAACAAAAFsAAAAQAAAATwAAABwAAABKAAAAEgAAAFMAAAA=",
        "encoding": "base64",
        "path": [
         "y",
         "value"
        ]
       }
      ],
      "model_module": "bqplot",
      "model_module_version": "^0.5.0",
      "model_name": "ScatterModel",
      "state": {
       "color": {
        "dtype": "int32",
        "shape": [
         200
        ],
        "type": null,
        "value": {}
       },
       "default_opacities": {
        "dtype": "float64",
        "shape": [
         1
        ],
        "type": null,
        "value": {}
       },
       "names": null,
       "scales": {
        "color": "IPY_MODEL_1df7330851e84216b1809503ade604c2",
        "x": "IPY_MODEL_0bde0b67d3f047c492a4a2ed6665e320",
        "y": "IPY_MODEL_7d5ea1ca4e9e426aad9f8a3621158427"
       },
       "scales_metadata": {
        "color": {
         "dimension": "color"
        },
        "opacity": {
         "dimension": "opacity"
        },
        "rotation": {
         "dimension": "rotation"
        },
        "size": {
         "dimension": "size"
        },
        "skew": {
         "dimension": "skew"
        },
        "x": {
         "dimension": "x",
         "orientation": "horizontal"
        },
        "y": {
         "dimension": "y",
         "orientation": "vertical"
        }
       },
       "stroke": "black",
       "x": {
        "dtype": "int32",
        "shape": [
         200
        ],
        "type": null,
        "value": {}
       },
       "y": {
        "dtype": "int32",
        "shape": [
         200
        ],
        "type": null,
        "value": {}
       }
      }
     },
     "45b68754da7a4dbd823c0de688fa2808": {
      "model_module": "@jupyter-widgets/controls",
      "model_module_version": "1.5.0",
      "model_name": "DescriptionStyleModel",
      "state": {
       "description_width": ""
      }
     },
     "461fc8b5737a42aa8133fe5786a8ff0b": {
      "model_module": "@jupyter-widgets/controls",
      "model_module_version": "1.5.0",
      "model_name": "DescriptionStyleModel",
      "state": {
       "description_width": ""
      }
     },
     "46484f3d9eab4170a941e63f7d72e497": {
      "model_module": "@jupyter-widgets/controls",
      "model_module_version": "1.5.0",
      "model_name": "ButtonStyleModel",
      "state": {}
     },
     "46b57c95c9df4e7ea217d63614a1d8b3": {
      "model_module": "@jupyter-widgets/base",
      "model_module_version": "1.2.0",
      "model_name": "LayoutModel",
      "state": {}
     },
     "46de3292cca04c0f8ec40c90d4e60887": {
      "buffers": [
       {
        "data": "",
        "encoding": "base64",
        "path": [
         "color",
         "value"
        ]
       },
       {
        "data": "AAAAAAAA8D8=",
        "encoding": "base64",
        "path": [
         "default_opacities",
         "value"
        ]
       },
       {
        "data": "",
        "encoding": "base64",
        "path": [
         "x",
         "value"
        ]
       },
       {
        "data": "",
        "encoding": "base64",
        "path": [
         "y",
         "value"
        ]
       }
      ],
      "model_module": "bqplot",
      "model_module_version": "^0.5.0",
      "model_name": "ScatterModel",
      "state": {
       "color": {
        "dtype": "float64",
        "shape": [
         0
        ],
        "type": null,
        "value": {}
       },
       "default_opacities": {
        "dtype": "float64",
        "shape": [
         1
        ],
        "type": null,
        "value": {}
       },
       "default_size": 400,
       "names": null,
       "scales": {
        "color": "IPY_MODEL_e4dec3403a8f4bafb80c59e1c0337a92",
        "x": "IPY_MODEL_6bb3553caf004f29ab705b2397cc8b51",
        "y": "IPY_MODEL_f5150e9e542f4c849c396a526b79b354"
       },
       "scales_metadata": {
        "color": {
         "dimension": "color"
        },
        "opacity": {
         "dimension": "opacity"
        },
        "rotation": {
         "dimension": "rotation"
        },
        "size": {
         "dimension": "size"
        },
        "skew": {
         "dimension": "skew"
        },
        "x": {
         "dimension": "x",
         "orientation": "horizontal"
        },
        "y": {
         "dimension": "y",
         "orientation": "vertical"
        }
       },
       "stroke": "black",
       "stroke_width": 3,
       "x": {
        "dtype": "float64",
        "shape": [
         0
        ],
        "type": null,
        "value": {}
       },
       "y": {
        "dtype": "float64",
        "shape": [
         0
        ],
        "type": null,
        "value": {}
       }
      }
     },
     "480ac13df0df4480a0748add701549a6": {
      "model_module": "@jupyter-widgets/controls",
      "model_module_version": "1.5.0",
      "model_name": "DescriptionStyleModel",
      "state": {
       "description_width": ""
      }
     },
     "48933eb69b204ad5acbb1836036b958b": {
      "model_module": "@jupyter-widgets/controls",
      "model_module_version": "1.5.0",
      "model_name": "ButtonModel",
      "state": {
       "button_style": "success",
       "description": "Iniciar",
       "layout": "IPY_MODEL_7162206ce5d441639f56e8977477e1a9",
       "style": "IPY_MODEL_d2bf28ecc31345e1bd2f4b4438d7d305"
      }
     },
     "48956fdd8a104645aa3fbdb2fbf8deb2": {
      "buffers": [
       {
        "data": "",
        "encoding": "base64",
        "path": [
         "color",
         "value"
        ]
       },
       {
        "data": "AAAAAAAA8D8=",
        "encoding": "base64",
        "path": [
         "default_opacities",
         "value"
        ]
       },
       {
        "data": "",
        "encoding": "base64",
        "path": [
         "x",
         "value"
        ]
       },
       {
        "data": "",
        "encoding": "base64",
        "path": [
         "y",
         "value"
        ]
       }
      ],
      "model_module": "bqplot",
      "model_module_version": "^0.5.0",
      "model_name": "ScatterModel",
      "state": {
       "color": {
        "dtype": "float64",
        "shape": [
         0
        ],
        "type": null,
        "value": {}
       },
       "default_opacities": {
        "dtype": "float64",
        "shape": [
         1
        ],
        "type": null,
        "value": {}
       },
       "default_size": 400,
       "names": null,
       "scales": {
        "color": "IPY_MODEL_6069388738534ad0aecfe473086930e0",
        "x": "IPY_MODEL_865813cfc9bf4aef9ecd53625f45678c",
        "y": "IPY_MODEL_695b4eb232b44c3bbb55e3163f8f494e"
       },
       "scales_metadata": {
        "color": {
         "dimension": "color"
        },
        "opacity": {
         "dimension": "opacity"
        },
        "rotation": {
         "dimension": "rotation"
        },
        "size": {
         "dimension": "size"
        },
        "skew": {
         "dimension": "skew"
        },
        "x": {
         "dimension": "x",
         "orientation": "horizontal"
        },
        "y": {
         "dimension": "y",
         "orientation": "vertical"
        }
       },
       "stroke": "black",
       "stroke_width": 3,
       "x": {
        "dtype": "float64",
        "shape": [
         0
        ],
        "type": null,
        "value": {}
       },
       "y": {
        "dtype": "float64",
        "shape": [
         0
        ],
        "type": null,
        "value": {}
       }
      }
     },
     "49829f1cf98240cfb71a2fe404a6bfac": {
      "model_module": "@jupyter-widgets/controls",
      "model_module_version": "1.5.0",
      "model_name": "ButtonStyleModel",
      "state": {}
     },
     "4a192664023d4576aa3f49f930ae452e": {
      "model_module": "@jupyter-widgets/controls",
      "model_module_version": "1.5.0",
      "model_name": "DescriptionStyleModel",
      "state": {
       "description_width": ""
      }
     },
     "4bd42f734e42405385b9686d1639b634": {
      "model_module": "bqplot",
      "model_module_version": "^0.5.0",
      "model_name": "AxisModel",
      "state": {
       "label": "Ingresos ",
       "orientation": "vertical",
       "scale": "IPY_MODEL_8b68b0c10d27477ca36fe8d2cdaebeea",
       "side": "left",
       "tick_values": null
      }
     },
     "4c2d65c9aca54545b6cfaa0739d5e037": {
      "model_module": "@jupyter-widgets/base",
      "model_module_version": "1.2.0",
      "model_name": "LayoutModel",
      "state": {
       "width": "300px"
      }
     },
     "4c904d06e3c941e892d535599feccb46": {
      "model_module": "bqplot",
      "model_module_version": "^0.5.0",
      "model_name": "LinearScaleModel",
      "state": {
       "allow_padding": false,
       "max": 1,
       "min": 0,
       "stabilized": false
      }
     },
     "4ca52c2daff6468f94c4a7a527afb4c9": {
      "model_module": "@jupyter-widgets/controls",
      "model_module_version": "1.5.0",
      "model_name": "ButtonModel",
      "state": {
       "button_style": "success",
       "description": "Iniciar",
       "layout": "IPY_MODEL_1abc71188b734d7d8ae14e6bcf580633",
       "style": "IPY_MODEL_3aea1953bb75440e8daf466bb14c7fab"
      }
     },
     "4d4f12f7cb5f45679383ae962e5da927": {
      "model_module": "@jupyter-widgets/controls",
      "model_module_version": "1.5.0",
      "model_name": "FloatSliderModel",
      "state": {
       "description": "cluster std",
       "layout": "IPY_MODEL_386a9bb0915b48e995c24de3e970a3a7",
       "max": 3,
       "min": 0.5,
       "step": 0.1,
       "style": "IPY_MODEL_d941eda892de4597abe1c7b140558ae5",
       "value": 0.8
      }
     },
     "4df3b132144b4f0ba0a1e0302db57228": {
      "model_module": "bqplot",
      "model_module_version": "^0.5.0",
      "model_name": "FigureModel",
      "state": {
       "_dom_classes": [],
       "animation_duration": 1000,
       "axes": [
        "IPY_MODEL_38f5912e9d404901b755e68f4f61ff3f",
        "IPY_MODEL_5ce9d797e20a41a781c46f889f7e3b76",
        "IPY_MODEL_e9fe36c23f5f4c5188b7db5089b069ec"
       ],
       "layout": "IPY_MODEL_e67463c197dd480dab7fd75d43a68ee5",
       "marks": [
        "IPY_MODEL_f677638d556f4b75b5dbbe52f51a2c4b",
        "IPY_MODEL_622dd83f8da14991b606b1ca299fc85b"
       ],
       "scale_x": "IPY_MODEL_344e1cca414e4e4e9e1a6f289e2ce3e6",
       "scale_y": "IPY_MODEL_58316f4e9e6e4f0783eacd779b063a76",
       "title": "K-means clustering"
      }
     },
     "4df6e98af4c14c98a657b9307e1c0129": {
      "model_module": "bqplot",
      "model_module_version": "^0.5.0",
      "model_name": "AxisModel",
      "state": {
       "label": "Ingresos ",
       "orientation": "vertical",
       "scale": "IPY_MODEL_219b74f3619448d283da4cdf9213c613",
       "side": "left",
       "tick_values": null
      }
     },
     "4e38282dbe89490b854252f2b7355082": {
      "model_module": "@jupyter-widgets/controls",
      "model_module_version": "1.5.0",
      "model_name": "LabelModel",
      "state": {
       "layout": "IPY_MODEL_e4fac45383c242c5b7847bce096aee9b",
       "style": "IPY_MODEL_c0957e57d7b5405f986939f920226374",
       "value": "Iterations: "
      }
     },
     "4e83c866812446948894f7e899a867ba": {
      "model_module": "@jupyter-widgets/controls",
      "model_module_version": "1.5.0",
      "model_name": "SliderStyleModel",
      "state": {
       "description_width": ""
      }
     },
     "4ec7c53ee046464ba949fcff58d18e15": {
      "model_module": "bqplot",
      "model_module_version": "^0.5.0",
      "model_name": "AxisModel",
      "state": {
       "label": "Score ",
       "orientation": "vertical",
       "scale": "IPY_MODEL_294e3f1b720643069ecc80382b57f8b6",
       "side": "left",
       "tick_values": null
      }
     },
     "503c29c965094e6fa026c16be4067d6e": {
      "model_module": "bqplot",
      "model_module_version": "^0.5.0",
      "model_name": "FigureModel",
      "state": {
       "_dom_classes": [],
       "animation_duration": 1000,
       "axes": [
        "IPY_MODEL_401a5570482540be90a66e5a13b7c0ad",
        "IPY_MODEL_5d4310db6a804b66a689daaa3b9ff300",
        "IPY_MODEL_30c6cce57229411d96a3fefed3468dc9"
       ],
       "layout": "IPY_MODEL_9feacc92c85144f68e36089b8a2331b3",
       "marks": [
        "IPY_MODEL_01fd88487d3e428082c9c523953c21cf",
        "IPY_MODEL_76979e0ecf064ed292ee28c04d5e0562"
       ],
       "scale_x": "IPY_MODEL_0b8cd6fda5ae4639a56687af992e78a2",
       "scale_y": "IPY_MODEL_1578ca4abc5e42ed8804d712a9ee5345",
       "title": "K-means clustering"
      }
     },
     "5080ff29ef6845a6906390cfe3d57ab8": {
      "model_module": "@jupyter-widgets/controls",
      "model_module_version": "1.5.0",
      "model_name": "HBoxModel",
      "state": {
       "children": [
        "IPY_MODEL_994d328150ba4a5f96ba9fe1f92e07a9",
        "IPY_MODEL_badbd4c347844a6eb9c0a0f61a820aad"
       ],
       "layout": "IPY_MODEL_eb32c5f0f2c243908c1f1ed35d7e34ad"
      }
     },
     "50bc75b8a2474c12b5747a4e75c32463": {
      "model_module": "bqplot",
      "model_module_version": "^0.5.0",
      "model_name": "AxisModel",
      "state": {
       "label": "Edad",
       "scale": "IPY_MODEL_865813cfc9bf4aef9ecd53625f45678c",
       "side": "bottom",
       "tick_values": null
      }
     },
     "51c1c3f8704447c688730d354bce8f98": {
      "model_module": "@jupyter-widgets/base",
      "model_module_version": "1.2.0",
      "model_name": "LayoutModel",
      "state": {
       "height": "700px",
       "width": "700px"
      }
     },
     "5200f76246ba4657850fd93e05cf5288": {
      "model_module": "bqplot",
      "model_module_version": "^0.5.0",
      "model_name": "AxisModel",
      "state": {
       "label": "Edad",
       "scale": "IPY_MODEL_83745a85927f4d5dac815cd11de7649d",
       "side": "bottom",
       "tick_values": null
      }
     },
     "520852b10b8746db941ca3ffab2759a3": {
      "model_module": "@jupyter-widgets/base",
      "model_module_version": "1.2.0",
      "model_name": "LayoutModel",
      "state": {
       "width": "80px"
      }
     },
     "525c0f5a31e94e7c8c9108cffd164949": {
      "model_module": "@jupyter-widgets/base",
      "model_module_version": "1.2.0",
      "model_name": "LayoutModel",
      "state": {}
     },
     "527530ee080f460c9ce3521d8b5e797f": {
      "model_module": "@jupyter-widgets/controls",
      "model_module_version": "1.5.0",
      "model_name": "ButtonModel",
      "state": {
       "button_style": "success",
       "description": "Graficar",
       "layout": "IPY_MODEL_baeeaa205d284596ab142b706fc67e8b",
       "style": "IPY_MODEL_535eeb7d1090493caf049fb66cd666d3"
      }
     },
     "535eeb7d1090493caf049fb66cd666d3": {
      "model_module": "@jupyter-widgets/controls",
      "model_module_version": "1.5.0",
      "model_name": "ButtonStyleModel",
      "state": {}
     },
     "53e1ca959a9a441eab6fa49d1c79f61b": {
      "model_module": "bqplot",
      "model_module_version": "^0.5.0",
      "model_name": "LinearScaleModel",
      "state": {
       "allow_padding": false,
       "max": 1,
       "min": 0,
       "stabilized": false
      }
     },
     "53f7d5a8e587455fbcdb3b2e1fb954da": {
      "model_module": "@jupyter-widgets/base",
      "model_module_version": "1.2.0",
      "model_name": "LayoutModel",
      "state": {
       "width": "80px"
      }
     },
     "55805fe633984c599fe8cac3a044e825": {
      "model_module": "@jupyter-widgets/base",
      "model_module_version": "1.2.0",
      "model_name": "LayoutModel",
      "state": {
       "width": "300px"
      }
     },
     "55d8e3dbd7b34f10aebd4470683b70d9": {
      "model_module": "bqplot",
      "model_module_version": "^0.5.0",
      "model_name": "AxisModel",
      "state": {
       "label": "Score ",
       "orientation": "vertical",
       "scale": "IPY_MODEL_42ee6e9d84384c9e9b04e554d10498c0",
       "side": "left",
       "tick_values": null
      }
     },
     "55e4a0bdd364425b83efe5aab61070e3": {
      "model_module": "@jupyter-widgets/controls",
      "model_module_version": "1.5.0",
      "model_name": "VBoxModel",
      "state": {
       "children": [
        "IPY_MODEL_4df3b132144b4f0ba0a1e0302db57228"
       ],
       "layout": "IPY_MODEL_3f9c4e76ceff4ba49f2865e6a9bdc683"
      }
     },
     "56235139c25a418db430a37f99987624": {
      "model_module": "@jupyter-widgets/controls",
      "model_module_version": "1.5.0",
      "model_name": "LabelModel",
      "state": {
       "layout": "IPY_MODEL_c6ed1b48cda2404e910ad0e79bbc6475",
       "style": "IPY_MODEL_480ac13df0df4480a0748add701549a6",
       "value": "Iterations: 20"
      }
     },
     "57995a47bf5a494988e6589d57395f3c": {
      "model_module": "@jupyter-widgets/controls",
      "model_module_version": "1.5.0",
      "model_name": "SliderStyleModel",
      "state": {
       "description_width": ""
      }
     },
     "581f2f70c1e94a0eb49bdda7f4bb62ea": {
      "model_module": "@jupyter-widgets/controls",
      "model_module_version": "1.5.0",
      "model_name": "HBoxModel",
      "state": {
       "children": [
        "IPY_MODEL_13b3879abd324711a18e9008f6265700",
        "IPY_MODEL_36dd69200947464ab272a3b3699468ce"
       ],
       "layout": "IPY_MODEL_c5087932cb674744938fbc67591f7360"
      }
     },
     "582365361829400aad4799f7e4bce656": {
      "model_module": "bqplot",
      "model_module_version": "^0.5.0",
      "model_name": "LinearScaleModel",
      "state": {
       "stabilized": false
      }
     },
     "58316f4e9e6e4f0783eacd779b063a76": {
      "model_module": "bqplot",
      "model_module_version": "^0.5.0",
      "model_name": "LinearScaleModel",
      "state": {
       "allow_padding": false,
       "max": 1,
       "min": 0,
       "stabilized": false
      }
     },
     "58d4619b48a14992bf06f1a680d75b4d": {
      "model_module": "@jupyter-widgets/base",
      "model_module_version": "1.2.0",
      "model_name": "LayoutModel",
      "state": {}
     },
     "59feb4684b1f465ebe9b3dd62d2988a9": {
      "model_module": "@jupyter-widgets/controls",
      "model_module_version": "1.5.0",
      "model_name": "HBoxModel",
      "state": {
       "children": [
        "IPY_MODEL_da1bc06366d34f5c9eb86e2df2aa3a07",
        "IPY_MODEL_be968b899aba4ea3aa89f694c8f8be36"
       ],
       "layout": "IPY_MODEL_93f98d5d89254c6497ee15a7cd3f371d"
      }
     },
     "5a3c3d028b54436083e843a7798bbb85": {
      "model_module": "@jupyter-widgets/controls",
      "model_module_version": "1.5.0",
      "model_name": "SliderStyleModel",
      "state": {
       "description_width": ""
      }
     },
     "5b116dd0f27b41a9b3f8e9880a491d71": {
      "model_module": "@jupyter-widgets/controls",
      "model_module_version": "1.5.0",
      "model_name": "ButtonModel",
      "state": {
       "button_style": "success",
       "description": "Graficar",
       "layout": "IPY_MODEL_c7f557c00cf5401188afc3fda6a276ff",
       "style": "IPY_MODEL_5c2a7a5ef9434c7d8422e6e41f636a8a"
      }
     },
     "5b357bf1edce44a6ae05d30e49cc9fdc": {
      "model_module": "@jupyter-widgets/controls",
      "model_module_version": "1.5.0",
      "model_name": "SliderStyleModel",
      "state": {
       "description_width": ""
      }
     },
     "5b4a8110bb4548be966cbe5d91d9ba22": {
      "model_module": "@jupyter-widgets/controls",
      "model_module_version": "1.5.0",
      "model_name": "DescriptionStyleModel",
      "state": {
       "description_width": ""
      }
     },
     "5bfe734bd9a1422fb6e6395855fb4c42": {
      "model_module": "@jupyter-widgets/controls",
      "model_module_version": "1.5.0",
      "model_name": "ButtonStyleModel",
      "state": {}
     },
     "5c2a7a5ef9434c7d8422e6e41f636a8a": {
      "model_module": "@jupyter-widgets/controls",
      "model_module_version": "1.5.0",
      "model_name": "ButtonStyleModel",
      "state": {}
     },
     "5c89fbd5dd044568b2b0eece0c440bc0": {
      "model_module": "@jupyter-widgets/base",
      "model_module_version": "1.2.0",
      "model_name": "LayoutModel",
      "state": {
       "height": "700px",
       "width": "700px"
      }
     },
     "5ca26c5cc20d461cbadf42eacd4d682b": {
      "model_module": "@jupyter-widgets/controls",
      "model_module_version": "1.5.0",
      "model_name": "IntSliderModel",
      "state": {
       "description": "Núm. Clusters",
       "layout": "IPY_MODEL_7c0542bf301e42a2b44875c98b66b7d1",
       "max": 10,
       "min": 2,
       "style": "IPY_MODEL_70882ca702f744c0b032fe8150e0c6f6",
       "value": 5
      }
     },
     "5ce9d797e20a41a781c46f889f7e3b76": {
      "model_module": "bqplot",
      "model_module_version": "^0.5.0",
      "model_name": "AxisModel",
      "state": {
       "label": "Edad",
       "scale": "IPY_MODEL_b428ae6097a147568a3e641f7a2c6600",
       "side": "bottom",
       "tick_values": null
      }
     },
     "5d0518a6c84842bfa020dc2178eb4bc2": {
      "model_module": "@jupyter-widgets/controls",
      "model_module_version": "1.5.0",
      "model_name": "ButtonStyleModel",
      "state": {}
     },
     "5d4310db6a804b66a689daaa3b9ff300": {
      "model_module": "bqplot",
      "model_module_version": "^0.5.0",
      "model_name": "AxisModel",
      "state": {
       "label": "Edad",
       "scale": "IPY_MODEL_bcf8661d70ee4891b0ac577638ac93c9",
       "side": "bottom",
       "tick_values": null
      }
     },
     "5ded8aedb4be465ab422387c775dd750": {
      "model_module": "@jupyter-widgets/controls",
      "model_module_version": "1.5.0",
      "model_name": "SliderStyleModel",
      "state": {
       "description_width": ""
      }
     },
     "5ee9fd4ba87e4c96868ab98f9a5fb061": {
      "model_module": "@jupyter-widgets/base",
      "model_module_version": "1.2.0",
      "model_name": "LayoutModel",
      "state": {}
     },
     "5f8bcedf9f654206a402abb50b2da4d7": {
      "model_module": "@jupyter-widgets/controls",
      "model_module_version": "1.5.0",
      "model_name": "LabelModel",
      "state": {
       "layout": "IPY_MODEL_1332daa66f0a400298dfd79f8997afff",
       "style": "IPY_MODEL_ef16a84517d44b79896841de291a952f",
       "value": "Iterations: 5"
      }
     },
     "60358897d390447dbd56fd9330e38cdd": {
      "model_module": "bqplot",
      "model_module_version": "^0.5.0",
      "model_name": "LinearScaleModel",
      "state": {
       "stabilized": false
      }
     },
     "6069388738534ad0aecfe473086930e0": {
      "model_module": "bqplot",
      "model_module_version": "^0.5.0",
      "model_name": "ColorScaleModel",
      "state": {
       "colors": [],
       "scale_type": "linear"
      }
     },
     "60a25e13c97d4acf8edb86b4d3594eea": {
      "model_module": "@jupyter-widgets/base",
      "model_module_version": "1.2.0",
      "model_name": "LayoutModel",
      "state": {
       "width": "300px"
      }
     },
     "60d081019f4a4855b2a0412a98b575f8": {
      "model_module": "@jupyter-widgets/base",
      "model_module_version": "1.2.0",
      "model_name": "LayoutModel",
      "state": {
       "width": "300px"
      }
     },
     "618412e89b554e70a68fdaa8a67a5312": {
      "model_module": "bqplot",
      "model_module_version": "^0.5.0",
      "model_name": "AxisModel",
      "state": {
       "label": "Edad",
       "scale": "IPY_MODEL_8c4fa5f57e2846ada9959e551ebc83e7",
       "side": "bottom",
       "tick_values": null
      }
     },
     "622dd83f8da14991b606b1ca299fc85b": {
      "buffers": [
       {
        "data": "AAAAAAEAAAACAAAA",
        "encoding": "base64",
        "path": [
         "color",
         "value"
        ]
       },
       {
        "data": "AAAAAAAA8D8=",
        "encoding": "base64",
        "path": [
         "default_opacities",
         "value"
        ]
       },
       {
        "data": "q6qqqqrqQkDHcRzHcVxDQAAAAAAAwENA",
        "encoding": "base64",
        "path": [
         "x",
         "value"
        ]
       },
       {
        "data": "juM4juP4WEBbsAVbsMVQQOSzbjBFvkBA",
        "encoding": "base64",
        "path": [
         "y",
         "value"
        ]
       }
      ],
      "model_module": "bqplot",
      "model_module_version": "^0.5.0",
      "model_name": "ScatterModel",
      "state": {
       "color": {
        "dtype": "int32",
        "shape": [
         3
        ],
        "type": null,
        "value": {}
       },
       "default_opacities": {
        "dtype": "float64",
        "shape": [
         1
        ],
        "type": null,
        "value": {}
       },
       "default_size": 400,
       "names": null,
       "scales": {
        "color": "IPY_MODEL_df01f1092bba4cd898e185638fb76d3c",
        "x": "IPY_MODEL_b428ae6097a147568a3e641f7a2c6600",
        "y": "IPY_MODEL_223748be18c24624ac398c124286d007"
       },
       "scales_metadata": {
        "color": {
         "dimension": "color"
        },
        "opacity": {
         "dimension": "opacity"
        },
        "rotation": {
         "dimension": "rotation"
        },
        "size": {
         "dimension": "size"
        },
        "skew": {
         "dimension": "skew"
        },
        "x": {
         "dimension": "x",
         "orientation": "horizontal"
        },
        "y": {
         "dimension": "y",
         "orientation": "vertical"
        }
       },
       "stroke": "black",
       "stroke_width": 3,
       "x": {
        "dtype": "float64",
        "shape": [
         3
        ],
        "type": null,
        "value": {}
       },
       "y": {
        "dtype": "float64",
        "shape": [
         3
        ],
        "type": null,
        "value": {}
       }
      }
     },
     "623d8d613693486d805c1df48cafeaaf": {
      "model_module": "@jupyter-widgets/base",
      "model_module_version": "1.2.0",
      "model_name": "LayoutModel",
      "state": {}
     },
     "63300d0b46f1434e8a3e99d361c3d12b": {
      "model_module": "@jupyter-widgets/controls",
      "model_module_version": "1.5.0",
      "model_name": "DescriptionStyleModel",
      "state": {
       "description_width": ""
      }
     },
     "6389100b6f184c57a9a370b782265e75": {
      "model_module": "@jupyter-widgets/controls",
      "model_module_version": "1.5.0",
      "model_name": "IntSliderModel",
      "state": {
       "description": "Núm. Clusters",
       "layout": "IPY_MODEL_67234d1fe85f461bb01ae5514da23ee6",
       "max": 10,
       "min": 2,
       "style": "IPY_MODEL_4e83c866812446948894f7e899a867ba",
       "value": 3
      }
     },
     "646595cb49a04b58b06dd7313bd0f6bc": {
      "model_module": "@jupyter-widgets/base",
      "model_module_version": "1.2.0",
      "model_name": "LayoutModel",
      "state": {}
     },
     "64c2bb12aa4d44a8b1bab59d9613d337": {
      "model_module": "@jupyter-widgets/controls",
      "model_module_version": "1.5.0",
      "model_name": "ButtonStyleModel",
      "state": {}
     },
     "651259a3c04a4c2386f34647dc89e8f5": {
      "model_module": "@jupyter-widgets/base",
      "model_module_version": "1.2.0",
      "model_name": "LayoutModel",
      "state": {
       "height": "700px",
       "width": "700px"
      }
     },
     "6567493e48d342729bd254cef829b90f": {
      "model_module": "@jupyter-widgets/base",
      "model_module_version": "1.2.0",
      "model_name": "LayoutModel",
      "state": {
       "margin": "60px 0px 0px 0px"
      }
     },
     "65fe6d08537e40b3a7edba9c5d7dfdc4": {
      "buffers": [
       {
        "data": "",
        "encoding": "base64",
        "path": [
         "color",
         "value"
        ]
       },
       {
        "data": "AAAAAAAA8D8=",
        "encoding": "base64",
        "path": [
         "default_opacities",
         "value"
        ]
       },
       {
        "data": "",
        "encoding": "base64",
        "path": [
         "x",
         "value"
        ]
       },
       {
        "data": "",
        "encoding": "base64",
        "path": [
         "y",
         "value"
        ]
       }
      ],
      "model_module": "bqplot",
      "model_module_version": "^0.5.0",
      "model_name": "ScatterModel",
      "state": {
       "color": {
        "dtype": "float64",
        "shape": [
         0
        ],
        "type": null,
        "value": {}
       },
       "default_opacities": {
        "dtype": "float64",
        "shape": [
         1
        ],
        "type": null,
        "value": {}
       },
       "names": null,
       "scales": {
        "color": "IPY_MODEL_c023fa6a804b4f72a2128d8ea8afab84",
        "x": "IPY_MODEL_83745a85927f4d5dac815cd11de7649d",
        "y": "IPY_MODEL_8b68b0c10d27477ca36fe8d2cdaebeea"
       },
       "scales_metadata": {
        "color": {
         "dimension": "color"
        },
        "opacity": {
         "dimension": "opacity"
        },
        "rotation": {
         "dimension": "rotation"
        },
        "size": {
         "dimension": "size"
        },
        "skew": {
         "dimension": "skew"
        },
        "x": {
         "dimension": "x",
         "orientation": "horizontal"
        },
        "y": {
         "dimension": "y",
         "orientation": "vertical"
        }
       },
       "stroke": "black",
       "x": {
        "dtype": "float64",
        "shape": [
         0
        ],
        "type": null,
        "value": {}
       },
       "y": {
        "dtype": "float64",
        "shape": [
         0
        ],
        "type": null,
        "value": {}
       }
      }
     },
     "666427cd948c406e9508ca70938dc6fa": {
      "model_module": "@jupyter-widgets/controls",
      "model_module_version": "1.5.0",
      "model_name": "ButtonModel",
      "state": {
       "button_style": "success",
       "description": "Graficar",
       "disabled": true,
       "layout": "IPY_MODEL_ba7ca3f1b1c04593bd50feddf2bbf881",
       "style": "IPY_MODEL_7fdc8ff4dab54183a5f2178274e45082"
      }
     },
     "67234d1fe85f461bb01ae5514da23ee6": {
      "model_module": "@jupyter-widgets/base",
      "model_module_version": "1.2.0",
      "model_name": "LayoutModel",
      "state": {}
     },
     "695b4eb232b44c3bbb55e3163f8f494e": {
      "model_module": "bqplot",
      "model_module_version": "^0.5.0",
      "model_name": "LinearScaleModel",
      "state": {
       "stabilized": false
      }
     },
     "69e44c2ea3304fea98bdbc92bf3deec9": {
      "model_module": "@jupyter-widgets/base",
      "model_module_version": "1.2.0",
      "model_name": "LayoutModel",
      "state": {}
     },
     "69ece4a20e3549a0814e44cf140e4c2a": {
      "model_module": "@jupyter-widgets/base",
      "model_module_version": "1.2.0",
      "model_name": "LayoutModel",
      "state": {}
     },
     "6a0db6606cbd4909bfdb7c7d1628ec7f": {
      "model_module": "@jupyter-widgets/controls",
      "model_module_version": "1.5.0",
      "model_name": "ButtonStyleModel",
      "state": {}
     },
     "6b2d4c9e34674c1b8b276b784524f139": {
      "model_module": "@jupyter-widgets/base",
      "model_module_version": "1.2.0",
      "model_name": "LayoutModel",
      "state": {
       "height": "700px",
       "width": "700px"
      }
     },
     "6bb3553caf004f29ab705b2397cc8b51": {
      "model_module": "bqplot",
      "model_module_version": "^0.5.0",
      "model_name": "LinearScaleModel",
      "state": {
       "stabilized": false
      }
     },
     "6c6c0de1ff6e4eb69154b3d7bdb56b30": {
      "model_module": "@jupyter-widgets/controls",
      "model_module_version": "1.5.0",
      "model_name": "DescriptionStyleModel",
      "state": {
       "description_width": ""
      }
     },
     "6ce286e47c904374910c44dfb5267ccd": {
      "model_module": "@jupyter-widgets/controls",
      "model_module_version": "1.5.0",
      "model_name": "ButtonStyleModel",
      "state": {}
     },
     "6de222b2ce2f45779873281ecf43fd47": {
      "model_module": "@jupyter-widgets/controls",
      "model_module_version": "1.5.0",
      "model_name": "ButtonStyleModel",
      "state": {}
     },
     "6e676f1883fe44cd9b655710959f8b90": {
      "model_module": "bqplot",
      "model_module_version": "^0.5.0",
      "model_name": "OrdinalScaleModel",
      "state": {
       "_view_name": "OrdinalColorScale",
       "colors": [
        "#1f77b4",
        "#ff7f0e",
        "#2ca02c",
        "#d62728",
        "#9467bd",
        "#8c564b",
        "#e377c2",
        "#7f7f7f",
        "#bcbd22",
        "#17becf"
       ],
       "extrapolation": "constant",
       "max": null,
       "mid": null,
       "min": null,
       "scale_type": "linear",
       "scheme": "RdYlGn"
      }
     },
     "6ffc74361ae74b8bb7e12a606f77e03b": {
      "buffers": [
       {
        "data": "AAAAAAEAAAACAAAA",
        "encoding": "base64",
        "path": [
         "color",
         "value"
        ]
       },
       {
        "data": "AAAAAAAA8D8=",
        "encoding": "base64",
        "path": [
         "default_opacities",
         "value"
        ]
       },
       {
        "data": "uuiiiy76RUBkIQtZyIJFQKOLLrroIj1A",
        "encoding": "base64",
        "path": [
         "x",
         "value"
        ]
       },
       {
        "data": "F1100UWXR0A4velNb3osQLLJJpts0lNA",
        "encoding": "base64",
        "path": [
         "y",
         "value"
        ]
       }
      ],
      "model_module": "bqplot",
      "model_module_version": "^0.5.0",
      "model_name": "ScatterModel",
      "state": {
       "color": {
        "dtype": "int32",
        "shape": [
         3
        ],
        "type": null,
        "value": {}
       },
       "default_opacities": {
        "dtype": "float64",
        "shape": [
         1
        ],
        "type": null,
        "value": {}
       },
       "default_size": 400,
       "names": null,
       "scales": {
        "color": "IPY_MODEL_a08c42dbf182450cb4f1dc9ce01d78bc",
        "x": "IPY_MODEL_37763fd9c58640d6bd01593e4ffe69e9",
        "y": "IPY_MODEL_740d1eec29be4ae3b85ecbe285d729a2"
       },
       "scales_metadata": {
        "color": {
         "dimension": "color"
        },
        "opacity": {
         "dimension": "opacity"
        },
        "rotation": {
         "dimension": "rotation"
        },
        "size": {
         "dimension": "size"
        },
        "skew": {
         "dimension": "skew"
        },
        "x": {
         "dimension": "x",
         "orientation": "horizontal"
        },
        "y": {
         "dimension": "y",
         "orientation": "vertical"
        }
       },
       "stroke": "black",
       "stroke_width": 3,
       "x": {
        "dtype": "float64",
        "shape": [
         3
        ],
        "type": null,
        "value": {}
       },
       "y": {
        "dtype": "float64",
        "shape": [
         3
        ],
        "type": null,
        "value": {}
       }
      }
     },
     "7018cf63fb804560b45b6cb94e706c08": {
      "model_module": "bqplot",
      "model_module_version": "^0.5.0",
      "model_name": "LinearScaleModel",
      "state": {
       "allow_padding": false,
       "max": 1,
       "min": 0,
       "stabilized": false
      }
     },
     "70882ca702f744c0b032fe8150e0c6f6": {
      "model_module": "@jupyter-widgets/controls",
      "model_module_version": "1.5.0",
      "model_name": "SliderStyleModel",
      "state": {
       "description_width": ""
      }
     },
     "7091e32a21b844e0abf69a837fd690d1": {
      "model_module": "bqplot",
      "model_module_version": "^0.5.0",
      "model_name": "ColorAxisModel",
      "state": {
       "scale": "IPY_MODEL_e4dec3403a8f4bafb80c59e1c0337a92",
       "side": "bottom",
       "tick_values": null,
       "visible": false
      }
     },
     "70b2f688f35749dbab00e67812492750": {
      "model_module": "bqplot",
      "model_module_version": "^0.5.0",
      "model_name": "ColorAxisModel",
      "state": {
       "scale": "IPY_MODEL_e033264f283b45d5a617fcd164c6942a",
       "side": "bottom",
       "tick_values": null,
       "visible": false
      }
     },
     "7162206ce5d441639f56e8977477e1a9": {
      "model_module": "@jupyter-widgets/base",
      "model_module_version": "1.2.0",
      "model_name": "LayoutModel",
      "state": {
       "width": "80px"
      }
     },
     "71acb8bd127e44e8a7da7ec284d1e330": {
      "model_module": "@jupyter-widgets/controls",
      "model_module_version": "1.5.0",
      "model_name": "ButtonModel",
      "state": {
       "button_style": "success",
       "description": "Iniciar",
       "layout": "IPY_MODEL_bc5c432c65694da5bf5bfb9cb3422d75",
       "style": "IPY_MODEL_19c8d7ded85740dd88ea9301cf84b6ae"
      }
     },
     "71ecf4803f9b47bb86dd026002aea09d": {
      "buffers": [
       {
        "data": "AgAAAAEAAAAAAAAAAQAAAAIAAAABAAAAAAAAAAEAAAAAAAAAAQAAAAAAAAABAAAAAAAAAAEAAAAAAAAAAQAAAAIAAAABAAAAAAAAAAEAAAACAAAAAQAAAAAAAAABAAAAAAAAAAEAAAACAAAAAQAAAAAAAAABAAAAAAAAAAEAAAAAAAAAAQAAAAAAAAABAAAAAAAAAAEAAAAAAAAAAQAAAAIAAAABAAAAAgAAAAEAAAAAAAAAAQAAAAIAAAACAAAAAgAAAAIAAAACAAAAAQAAAAIAAAACAAAAAgAAAAIAAAACAAAAAgAAAAIAAAACAAAAAgAAAAEAAAACAAAAAgAAAAIAAAABAAAAAgAAAAIAAAABAAAAAgAAAAIAAAACAAAAAgAAAAIAAAACAAAAAgAAAAIAAAACAAAAAgAAAAIAAAACAAAAAgAAAAIAAAACAAAAAQAAAAIAAAACAAAAAQAAAAEAAAACAAAAAgAAAAIAAAACAAAAAgAAAAIAAAACAAAAAgAAAAIAAAACAAAAAgAAAAIAAAACAAAAAgAAAAEAAAACAAAAAgAAAAIAAAACAAAAAgAAAAIAAAACAAAAAQAAAAIAAAACAAAAAgAAAAIAAAACAAAAAgAAAAIAAAACAAAAAQAAAAIAAAACAAAAAQAAAAAAAAABAAAAAgAAAAEAAAAAAAAAAQAAAAAAAAABAAAAAgAAAAEAAAAAAAAAAQAAAAAAAAABAAAAAAAAAAEAAAAAAAAAAQAAAAIAAAABAAAAAAAAAAEAAAACAAAAAQAAAAAAAAABAAAAAAAAAAEAAAAAAAAAAQAAAAAAAAABAAAAAAAAAAEAAAAAAAAAAQAAAAIAAAABAAAAAAAAAAEAAAAAAAAAAQAAAAAAAAABAAAAAAAAAAEAAAAAAAAAAQAAAAAAAAABAAAAAAAAAAEAAAAAAAAAAQAAAAAAAAABAAAAAgAAAAEAAAAAAAAAAQAAAAIAAAABAAAAAAAAAAEAAAAAAAAAAQAAAAAAAAABAAAAAAAAAAEAAAAAAAAAAQAAAAAAAAABAAAAAAAAAAEAAAA=",
        "encoding": "base64",
        "path": [
         "color",
         "value"
        ]
       },
       {
        "data": "AAAAAAAA8D8=",
        "encoding": "base64",
        "path": [
         "default_opacities",
         "value"
        ]
       },
       {
        "data": "EwAAABUAAAAUAAAAFwAAAB8AAAAWAAAAIwAAABcAAABAAAAAHgAAAEMAAAAjAAAAOgAAABgAAAAlAAAAFgAAACMAAAAUAAAANAAAACMAAAAjAAAAGQAAAC4AAAAfAAAANgAAAB0AAAAtAAAAIwAAACgAAAAXAAAAPAAAABUAAAA1AAAAEgAAADEAAAAVAAAAKgAAAB4AAAAkAAAAFAAAAEEAAAAYAAAAMAAAAB8AAAAxAAAAGAAAADIAAAAbAAAAHQAAAB8AAAAxAAAAIQAAAB8AAAA7AAAAMgAAAC8AAAAzAAAARQAAABsAAAA1AAAARgAAABMAAABDAAAANgAAAD8AAAASAAAAKwAAAEQAAAATAAAAIAAAAEYAAAAvAAAAPAAAADwAAAA7AAAAGgAAAC0AAAAoAAAAFwAAADEAAAA5AAAAJgAAAEMAAAAuAAAAFQAAADAAAAA3AAAAFgAAACIAAAAyAAAARAAAABIAAAAwAAAAKAAAACAAAAAYAAAALwAAABsAAAAwAAAAFAAAABcAAAAxAAAAQwAAABoAAAAxAAAAFQAAAEIAAAA2AAAARAAAAEIAAABBAAAAEwAAACYAAAATAAAAEgAAABMAAAA/AAAAMQAAADMAAAAyAAAAGwAAACYAAAAoAAAAJwAAABcAAAAfAAAAKwAAACgAAAA7AAAAJgAAAC8AAAAnAAAAGQAAAB8AAAAUAAAAHQAAACwAAAAgAAAAEwAAACMAAAA5AAAAIAAAABwAAAAgAAAAGQAAABwAAAAwAAAAIAAAACIAAAAiAAAAKwAAACcAAAAsAAAAJgAAAC8AAAAbAAAAJQAAAB4AAAAiAAAAHgAAADgAAAAdAAAAEwAAAB8AAAAyAAAAJAAAACoAAAAhAAAAJAAAACAAAAAoAAAAHAAAACQAAAAkAAAANAAAAB4AAAA6AAAAGwAAADsAAAAjAAAAJQAAACAAAAAuAAAAHQAAACkAAAAeAAAANgAAABwAAAApAAAAJAAAACIAAAAgAAAAIQAAACYAAAAvAAAAIwAAAC0AAAAgAAAAIAAAAB4AAAA=",
        "encoding": "base64",
        "path": [
         "x",
         "value"
        ]
       },
       {
        "data": "JwAAAFEAAAAGAAAATQAAACgAAABMAAAABgAAAF4AAAADAAAASAAAAA4AAABjAAAADwAAAE0AAAANAAAATwAAACMAAABCAAAAHQAAAGIAAAAjAAAASQAAAAUAAABJAAAADgAAAFIAAAAgAAAAPQAAAB8AAABXAAAABAAAAEkAAAAEAAAAXAAAAA4AAABRAAAAEQAAAEkAAAAaAAAASwAAACMAAABcAAAAJAAAAD0AAAAcAAAAQQAAADcAAAAvAAAAKgAAACoAAAA0AAAAPAAAADYAAAA8AAAALQAAACkAAAAyAAAALgAAADMAAAAuAAAAOAAAADcAAAA0AAAAOwAAADMAAAA7AAAAMgAAADAAAAA7AAAALwAAADcAAAAqAAAAMQAAADgAAAAvAAAANgAAADUAAAAwAAAANAAAACoAAAAzAAAANwAAACkAAAAsAAAAOQAAAC4AAAA6AAAANwAAADwAAAAuAAAANwAAACkAAAAxAAAAKAAAACoAAAA0AAAALwAAADIAAAAqAAAAMQAAACkAAAAwAAAAOwAAADcAAAA4AAAAKgAAADIAAAAuAAAAKwAAADAAAAA0AAAANgAAACoAAAAuAAAAMAAAADIAAAArAAAAOwAAACsAAAA5AAAAOAAAACgAAAA6AAAAWwAAAB0AAABNAAAAIwAAAF8AAAALAAAASwAAAAkAAABLAAAAIgAAAEcAAAAFAAAAWAAAAAcAAABJAAAACgAAAEgAAAAFAAAAXQAAACgAAABXAAAADAAAAGEAAAAkAAAASgAAABYAAABaAAAAEQAAAFgAAAAUAAAATAAAABAAAABZAAAAAQAAAE4AAAABAAAASQAAACMAAABTAAAABQAAAF0AAAAaAAAASwAAABQAAABfAAAAGwAAAD8AAAANAAAASwAAAAoAAABcAAAADQAAAFYAAAAPAAAARQAAAA4AAABaAAAAIAAAAFYAAAAPAAAAWAAAACcAAABhAAAAGAAAAEQAAAARAAAAVQAAABcAAABFAAAACAAAAFsAAAAQAAAATwAAABwAAABKAAAAEgAAAFMAAAA=",
        "encoding": "base64",
        "path": [
         "y",
         "value"
        ]
       }
      ],
      "model_module": "bqplot",
      "model_module_version": "^0.5.0",
      "model_name": "ScatterModel",
      "state": {
       "color": {
        "dtype": "int32",
        "shape": [
         200
        ],
        "type": null,
        "value": {}
       },
       "default_opacities": {
        "dtype": "float64",
        "shape": [
         1
        ],
        "type": null,
        "value": {}
       },
       "names": null,
       "scales": {
        "color": "IPY_MODEL_d8aa3d1ca0794eb8b8db07052da2f355",
        "x": "IPY_MODEL_e91f18682f6d422d87e50f352c319423",
        "y": "IPY_MODEL_87fa020ea39f4ccba3adabc4e4eedffd"
       },
       "scales_metadata": {
        "color": {
         "dimension": "color"
        },
        "opacity": {
         "dimension": "opacity"
        },
        "rotation": {
         "dimension": "rotation"
        },
        "size": {
         "dimension": "size"
        },
        "skew": {
         "dimension": "skew"
        },
        "x": {
         "dimension": "x",
         "orientation": "horizontal"
        },
        "y": {
         "dimension": "y",
         "orientation": "vertical"
        }
       },
       "stroke": "black",
       "x": {
        "dtype": "int32",
        "shape": [
         200
        ],
        "type": null,
        "value": {}
       },
       "y": {
        "dtype": "int32",
        "shape": [
         200
        ],
        "type": null,
        "value": {}
       }
      }
     },
     "723b096e973a4841ae48a3586165fadd": {
      "model_module": "@jupyter-widgets/controls",
      "model_module_version": "1.5.0",
      "model_name": "HBoxModel",
      "state": {
       "children": [
        "IPY_MODEL_0ddf18f193ea4e2da0a602122e532acd",
        "IPY_MODEL_2d4d8d48814f47bcb4636f236cea9798"
       ],
       "layout": "IPY_MODEL_42680ed0432740fe94d7170ce2137047"
      }
     },
     "72d91376c15d4a2ebd472a2a99972b26": {
      "model_module": "@jupyter-widgets/controls",
      "model_module_version": "1.5.0",
      "model_name": "ButtonModel",
      "state": {
       "button_style": "success",
       "description": "Graficar",
       "disabled": true,
       "layout": "IPY_MODEL_a6f7dbab7f96437a9015d2106920e737",
       "style": "IPY_MODEL_49829f1cf98240cfb71a2fe404a6bfac"
      }
     },
     "72f2416557bd4a90a88ca178901d535c": {
      "model_module": "@jupyter-widgets/controls",
      "model_module_version": "1.5.0",
      "model_name": "HBoxModel",
      "state": {
       "children": [
        "IPY_MODEL_3158502e34c2422eb94e5122d0f892fc",
        "IPY_MODEL_0efe6612828148a2981355494f82c0f7"
       ],
       "layout": "IPY_MODEL_94dde10eb8244b1699b9394de648b61c"
      }
     },
     "7403586f0827469391a202000c093ebd": {
      "model_module": "@jupyter-widgets/controls",
      "model_module_version": "1.5.0",
      "model_name": "VBoxModel",
      "state": {
       "children": [
        "IPY_MODEL_3c125fac278945aa8535f6c6bfbdae83",
        "IPY_MODEL_2825cdb7e85c4c8ab92e2915cb68ac00",
        "IPY_MODEL_2d67196f35e249adb429e43871bc87ca",
        "IPY_MODEL_4e38282dbe89490b854252f2b7355082"
       ],
       "layout": "IPY_MODEL_da3bbab09ae04d719774b6c04b6480a1"
      }
     },
     "740d1eec29be4ae3b85ecbe285d729a2": {
      "model_module": "bqplot",
      "model_module_version": "^0.5.0",
      "model_name": "LinearScaleModel",
      "state": {
       "stabilized": false
      }
     },
     "74c3171ac414415c812eedba6c6709a0": {
      "model_module": "@jupyter-widgets/base",
      "model_module_version": "1.2.0",
      "model_name": "LayoutModel",
      "state": {}
     },
     "753dd1699d7b48a0b78b7d8f746f3da6": {
      "model_module": "@jupyter-widgets/base",
      "model_module_version": "1.2.0",
      "model_name": "LayoutModel",
      "state": {
       "margin": "60px 0px 0px 0px"
      }
     },
     "755964a6fe9340e58a3dc58f8c20f737": {
      "model_module": "@jupyter-widgets/controls",
      "model_module_version": "1.5.0",
      "model_name": "VBoxModel",
      "state": {
       "children": [
        "IPY_MODEL_30acba2f88304b8aacc417fdb06d1a2c",
        "IPY_MODEL_9cd2ef110ee5418488957c41ae91fa66",
        "IPY_MODEL_2703d0d31fa4419695012520cadfb31a",
        "IPY_MODEL_83694b2f783b477cb79f2e9a1c4ff6c6"
       ],
       "layout": "IPY_MODEL_37e571f49ef341da858738b4e6287365"
      }
     },
     "7581f86aea2445ccb1e7629ce53c549b": {
      "model_module": "@jupyter-widgets/controls",
      "model_module_version": "1.5.0",
      "model_name": "IntSliderModel",
      "state": {
       "description": "Núm. Clusters",
       "layout": "IPY_MODEL_1702bcf7058046c2a624cb292e8decfa",
       "max": 10,
       "min": 2,
       "style": "IPY_MODEL_57995a47bf5a494988e6589d57395f3c",
       "value": 3
      }
     },
     "76979e0ecf064ed292ee28c04d5e0562": {
      "buffers": [
       {
        "data": "AAAAAAEAAAACAAAA",
        "encoding": "base64",
        "path": [
         "color",
         "value"
        ]
       },
       {
        "data": "AAAAAAAA8D8=",
        "encoding": "base64",
        "path": [
         "default_opacities",
         "value"
        ]
       },
       {
        "data": "cQiHcAiHRUA8G/WdjXpFQBFCCCGEkD1A",
        "encoding": "base64",
        "path": [
         "x",
         "value"
        ]
       },
       {
        "data": "Pt7jPd7jR0DlCmJyBTEtQO+99957L1RA",
        "encoding": "base64",
        "path": [
         "y",
         "value"
        ]
       }
      ],
      "model_module": "bqplot",
      "model_module_version": "^0.5.0",
      "model_name": "ScatterModel",
      "state": {
       "color": {
        "dtype": "int32",
        "shape": [
         3
        ],
        "type": null,
        "value": {}
       },
       "default_opacities": {
        "dtype": "float64",
        "shape": [
         1
        ],
        "type": null,
        "value": {}
       },
       "default_size": 400,
       "names": null,
       "scales": {
        "color": "IPY_MODEL_155c6d9c401245a9bf3632cd3da77ae0",
        "x": "IPY_MODEL_bcf8661d70ee4891b0ac577638ac93c9",
        "y": "IPY_MODEL_4465b9dbb84e458caf28f388728e27ed"
       },
       "scales_metadata": {
        "color": {
         "dimension": "color"
        },
        "opacity": {
         "dimension": "opacity"
        },
        "rotation": {
         "dimension": "rotation"
        },
        "size": {
         "dimension": "size"
        },
        "skew": {
         "dimension": "skew"
        },
        "x": {
         "dimension": "x",
         "orientation": "horizontal"
        },
        "y": {
         "dimension": "y",
         "orientation": "vertical"
        }
       },
       "stroke": "black",
       "stroke_width": 3,
       "x": {
        "dtype": "float64",
        "shape": [
         3
        ],
        "type": null,
        "value": {}
       },
       "y": {
        "dtype": "float64",
        "shape": [
         3
        ],
        "type": null,
        "value": {}
       }
      }
     },
     "784f3707675b4f508e9726e8fb571575": {
      "buffers": [
       {
        "data": "AAAAAAEAAAACAAAA",
        "encoding": "base64",
        "path": [
         "color",
         "value"
        ]
       },
       {
        "data": "AAAAAAAA8D8=",
        "encoding": "base64",
        "path": [
         "default_opacities",
         "value"
        ]
       },
       {
        "data": "q6qqqqpqRUDotIFOG+g8QJka2DumBkdA",
        "encoding": "base64",
        "path": [
         "x",
         "value"
        ]
       },
       {
        "data": "q6qqqqrqLUAfhetRuB5TQJIkSZIkSUdA",
        "encoding": "base64",
        "path": [
         "y",
         "value"
        ]
       }
      ],
      "model_module": "bqplot",
      "model_module_version": "^0.5.0",
      "model_name": "ScatterModel",
      "state": {
       "color": {
        "dtype": "int32",
        "shape": [
         3
        ],
        "type": null,
        "value": {}
       },
       "default_opacities": {
        "dtype": "float64",
        "shape": [
         1
        ],
        "type": null,
        "value": {}
       },
       "default_size": 400,
       "names": null,
       "scales": {
        "color": "IPY_MODEL_d8aa3d1ca0794eb8b8db07052da2f355",
        "x": "IPY_MODEL_e91f18682f6d422d87e50f352c319423",
        "y": "IPY_MODEL_87fa020ea39f4ccba3adabc4e4eedffd"
       },
       "scales_metadata": {
        "color": {
         "dimension": "color"
        },
        "opacity": {
         "dimension": "opacity"
        },
        "rotation": {
         "dimension": "rotation"
        },
        "size": {
         "dimension": "size"
        },
        "skew": {
         "dimension": "skew"
        },
        "x": {
         "dimension": "x",
         "orientation": "horizontal"
        },
        "y": {
         "dimension": "y",
         "orientation": "vertical"
        }
       },
       "stroke": "black",
       "stroke_width": 3,
       "x": {
        "dtype": "float64",
        "shape": [
         3
        ],
        "type": null,
        "value": {}
       },
       "y": {
        "dtype": "float64",
        "shape": [
         3
        ],
        "type": null,
        "value": {}
       }
      }
     },
     "78c737e9198649b8a5338c764200dfcb": {
      "model_module": "@jupyter-widgets/base",
      "model_module_version": "1.2.0",
      "model_name": "LayoutModel",
      "state": {
       "width": "80px"
      }
     },
     "78fd58ed351e4f8daa121ad2113642a0": {
      "model_module": "@jupyter-widgets/controls",
      "model_module_version": "1.5.0",
      "model_name": "ButtonModel",
      "state": {
       "button_style": "success",
       "description": "Graficar",
       "layout": "IPY_MODEL_2b2560b1a01f4e9aad561b457cf7608d",
       "style": "IPY_MODEL_faeba7fcf1124c4f9b277959e2144448"
      }
     },
     "795292613b7c45979f9db8d7e744b437": {
      "model_module": "bqplot",
      "model_module_version": "^0.5.0",
      "model_name": "AxisModel",
      "state": {
       "label": "Score ",
       "orientation": "vertical",
       "scale": "IPY_MODEL_97ee5525d88a4d7daec48fd045a501b9",
       "side": "left",
       "tick_values": null
      }
     },
     "7957afe1eae241d5b7239d67d17643aa": {
      "model_module": "@jupyter-widgets/controls",
      "model_module_version": "1.5.0",
      "model_name": "HBoxModel",
      "state": {
       "children": [
        "IPY_MODEL_1d522a439dda4d75849685e95222f1f5",
        "IPY_MODEL_e5862a08510d4538990a6011d59bb3d4"
       ],
       "layout": "IPY_MODEL_90ec2cb1508a437ea6b2fe81927a87c7"
      }
     },
     "7a5b56460d22448e8c9792abc1c7eee6": {
      "model_module": "@jupyter-widgets/controls",
      "model_module_version": "1.5.0",
      "model_name": "HBoxModel",
      "state": {
       "children": [
        "IPY_MODEL_bd1864de374b43d1b76dc22925bca2cb",
        "IPY_MODEL_2cb2fbaca75a47fe8df9084a10f8cfd4"
       ],
       "layout": "IPY_MODEL_2f42bd8569a444138bc45e9bf51b8744"
      }
     },
     "7ab6e702d790493384192eeeb31c60c3": {
      "model_module": "@jupyter-widgets/base",
      "model_module_version": "1.2.0",
      "model_name": "LayoutModel",
      "state": {
       "width": "80px"
      }
     },
     "7bb96579e95a4bd19818e34588718845": {
      "model_module": "bqplot",
      "model_module_version": "^0.5.0",
      "model_name": "AxisModel",
      "state": {
       "label": "Edad",
       "scale": "IPY_MODEL_582365361829400aad4799f7e4bce656",
       "side": "bottom",
       "tick_values": null
      }
     },
     "7c0542bf301e42a2b44875c98b66b7d1": {
      "model_module": "@jupyter-widgets/base",
      "model_module_version": "1.2.0",
      "model_name": "LayoutModel",
      "state": {}
     },
     "7d5ea1ca4e9e426aad9f8a3621158427": {
      "model_module": "bqplot",
      "model_module_version": "^0.5.0",
      "model_name": "LinearScaleModel",
      "state": {
       "stabilized": false
      }
     },
     "7dda6938e54145fea45218d21d7bf9af": {
      "model_module": "@jupyter-widgets/base",
      "model_module_version": "1.2.0",
      "model_name": "LayoutModel",
      "state": {
       "height": "700px",
       "width": "700px"
      }
     },
     "7de9c2c6cc854333834fe7d6c4f11418": {
      "buffers": [
       {
        "data": "",
        "encoding": "base64",
        "path": [
         "color",
         "value"
        ]
       },
       {
        "data": "AAAAAAAA8D8=",
        "encoding": "base64",
        "path": [
         "default_opacities",
         "value"
        ]
       },
       {
        "data": "",
        "encoding": "base64",
        "path": [
         "x",
         "value"
        ]
       },
       {
        "data": "",
        "encoding": "base64",
        "path": [
         "y",
         "value"
        ]
       }
      ],
      "model_module": "bqplot",
      "model_module_version": "^0.5.0",
      "model_name": "ScatterModel",
      "state": {
       "color": {
        "dtype": "float64",
        "shape": [
         0
        ],
        "type": null,
        "value": {}
       },
       "default_opacities": {
        "dtype": "float64",
        "shape": [
         1
        ],
        "type": null,
        "value": {}
       },
       "default_size": 400,
       "names": null,
       "scales": {
        "color": "IPY_MODEL_b5825d0b746d4982897492eb287443cc",
        "x": "IPY_MODEL_e66e620153c34573a25190113ae500c7",
        "y": "IPY_MODEL_97ee5525d88a4d7daec48fd045a501b9"
       },
       "scales_metadata": {
        "color": {
         "dimension": "color"
        },
        "opacity": {
         "dimension": "opacity"
        },
        "rotation": {
         "dimension": "rotation"
        },
        "size": {
         "dimension": "size"
        },
        "skew": {
         "dimension": "skew"
        },
        "x": {
         "dimension": "x",
         "orientation": "horizontal"
        },
        "y": {
         "dimension": "y",
         "orientation": "vertical"
        }
       },
       "stroke": "black",
       "stroke_width": 3,
       "x": {
        "dtype": "float64",
        "shape": [
         0
        ],
        "type": null,
        "value": {}
       },
       "y": {
        "dtype": "float64",
        "shape": [
         0
        ],
        "type": null,
        "value": {}
       }
      }
     },
     "7f1ca7313e7043b7bc8cf3fc586575cc": {
      "model_module": "@jupyter-widgets/controls",
      "model_module_version": "1.5.0",
      "model_name": "SliderStyleModel",
      "state": {
       "description_width": ""
      }
     },
     "7f6c7c0de116450dac411b5ebe171e77": {
      "model_module": "@jupyter-widgets/controls",
      "model_module_version": "1.5.0",
      "model_name": "LabelModel",
      "state": {
       "layout": "IPY_MODEL_60a25e13c97d4acf8edb86b4d3594eea",
       "style": "IPY_MODEL_29ffee3a9ccf460b96653fbe6157b992",
       "value": "Iterations: 6"
      }
     },
     "7fdc8ff4dab54183a5f2178274e45082": {
      "model_module": "@jupyter-widgets/controls",
      "model_module_version": "1.5.0",
      "model_name": "ButtonStyleModel",
      "state": {}
     },
     "80353170733e4e6b9a3084096ed4f681": {
      "model_module": "@jupyter-widgets/controls",
      "model_module_version": "1.5.0",
      "model_name": "LabelModel",
      "state": {
       "layout": "IPY_MODEL_4c2d65c9aca54545b6cfaa0739d5e037",
       "style": "IPY_MODEL_6c6c0de1ff6e4eb69154b3d7bdb56b30",
       "value": "Iterations: "
      }
     },
     "80c80ffcdf214bae93ed2ffd94841722": {
      "model_module": "@jupyter-widgets/controls",
      "model_module_version": "1.5.0",
      "model_name": "ButtonStyleModel",
      "state": {}
     },
     "81c24db4c22e4beb8e24b6c5cefe1df1": {
      "model_module": "@jupyter-widgets/controls",
      "model_module_version": "1.5.0",
      "model_name": "ButtonModel",
      "state": {
       "button_style": "success",
       "description": "Iniciar",
       "layout": "IPY_MODEL_78c737e9198649b8a5338c764200dfcb",
       "style": "IPY_MODEL_f0a52d728dc944b5b8355bfb44efa791"
      }
     },
     "822b40211a884683b55611035b0c36b2": {
      "model_module": "@jupyter-widgets/controls",
      "model_module_version": "1.5.0",
      "model_name": "SliderStyleModel",
      "state": {
       "description_width": ""
      }
     },
     "8265294fbc1e487ebdf01814a1fc7e33": {
      "buffers": [
       {
        "data": "",
        "encoding": "base64",
        "path": [
         "color",
         "value"
        ]
       },
       {
        "data": "AAAAAAAA8D8=",
        "encoding": "base64",
        "path": [
         "default_opacities",
         "value"
        ]
       },
       {
        "data": "",
        "encoding": "base64",
        "path": [
         "x",
         "value"
        ]
       },
       {
        "data": "",
        "encoding": "base64",
        "path": [
         "y",
         "value"
        ]
       }
      ],
      "model_module": "bqplot",
      "model_module_version": "^0.5.0",
      "model_name": "ScatterModel",
      "state": {
       "color": {
        "dtype": "float64",
        "shape": [
         0
        ],
        "type": null,
        "value": {}
       },
       "default_opacities": {
        "dtype": "float64",
        "shape": [
         1
        ],
        "type": null,
        "value": {}
       },
       "default_size": 400,
       "names": null,
       "scales": {
        "color": "IPY_MODEL_3b02c938890f4337a7ef8cb0d2c73d7f",
        "x": "IPY_MODEL_d2d3c8f0b33d48e1b972e6468cfbd344",
        "y": "IPY_MODEL_42ee6e9d84384c9e9b04e554d10498c0"
       },
       "scales_metadata": {
        "color": {
         "dimension": "color"
        },
        "opacity": {
         "dimension": "opacity"
        },
        "rotation": {
         "dimension": "rotation"
        },
        "size": {
         "dimension": "size"
        },
        "skew": {
         "dimension": "skew"
        },
        "x": {
         "dimension": "x",
         "orientation": "horizontal"
        },
        "y": {
         "dimension": "y",
         "orientation": "vertical"
        }
       },
       "stroke": "black",
       "stroke_width": 3,
       "x": {
        "dtype": "float64",
        "shape": [
         0
        ],
        "type": null,
        "value": {}
       },
       "y": {
        "dtype": "float64",
        "shape": [
         0
        ],
        "type": null,
        "value": {}
       }
      }
     },
     "82ae217f20de4a7dbbc41b241200c45a": {
      "model_module": "@jupyter-widgets/base",
      "model_module_version": "1.2.0",
      "model_name": "LayoutModel",
      "state": {}
     },
     "82b098d72915406e804f527c728422c6": {
      "model_module": "@jupyter-widgets/base",
      "model_module_version": "1.2.0",
      "model_name": "LayoutModel",
      "state": {
       "width": "80px"
      }
     },
     "83694b2f783b477cb79f2e9a1c4ff6c6": {
      "model_module": "@jupyter-widgets/controls",
      "model_module_version": "1.5.0",
      "model_name": "LabelModel",
      "state": {
       "layout": "IPY_MODEL_55805fe633984c599fe8cac3a044e825",
       "style": "IPY_MODEL_8eba31596a3f4daca00aec45bf2039a1",
       "value": "Iterations: "
      }
     },
     "836d0c275469473cb75a23af76e6d8a6": {
      "buffers": [
       {
        "data": "",
        "encoding": "base64",
        "path": [
         "color",
         "value"
        ]
       },
       {
        "data": "AAAAAAAA8D8=",
        "encoding": "base64",
        "path": [
         "default_opacities",
         "value"
        ]
       },
       {
        "data": "",
        "encoding": "base64",
        "path": [
         "x",
         "value"
        ]
       },
       {
        "data": "",
        "encoding": "base64",
        "path": [
         "y",
         "value"
        ]
       }
      ],
      "model_module": "bqplot",
      "model_module_version": "^0.5.0",
      "model_name": "ScatterModel",
      "state": {
       "color": {
        "dtype": "float64",
        "shape": [
         0
        ],
        "type": null,
        "value": {}
       },
       "default_opacities": {
        "dtype": "float64",
        "shape": [
         1
        ],
        "type": null,
        "value": {}
       },
       "default_size": 400,
       "names": null,
       "scales": {
        "color": "IPY_MODEL_c023fa6a804b4f72a2128d8ea8afab84",
        "x": "IPY_MODEL_83745a85927f4d5dac815cd11de7649d",
        "y": "IPY_MODEL_8b68b0c10d27477ca36fe8d2cdaebeea"
       },
       "scales_metadata": {
        "color": {
         "dimension": "color"
        },
        "opacity": {
         "dimension": "opacity"
        },
        "rotation": {
         "dimension": "rotation"
        },
        "size": {
         "dimension": "size"
        },
        "skew": {
         "dimension": "skew"
        },
        "x": {
         "dimension": "x",
         "orientation": "horizontal"
        },
        "y": {
         "dimension": "y",
         "orientation": "vertical"
        }
       },
       "stroke": "black",
       "stroke_width": 3,
       "x": {
        "dtype": "float64",
        "shape": [
         0
        ],
        "type": null,
        "value": {}
       },
       "y": {
        "dtype": "float64",
        "shape": [
         0
        ],
        "type": null,
        "value": {}
       }
      }
     },
     "83745a85927f4d5dac815cd11de7649d": {
      "model_module": "bqplot",
      "model_module_version": "^0.5.0",
      "model_name": "LinearScaleModel",
      "state": {
       "stabilized": false
      }
     },
     "83840e0b364641f281684e439deb8986": {
      "model_module": "bqplot",
      "model_module_version": "^0.5.0",
      "model_name": "AxisModel",
      "state": {
       "label": "Edad",
       "scale": "IPY_MODEL_37763fd9c58640d6bd01593e4ffe69e9",
       "side": "bottom",
       "tick_values": null
      }
     },
     "83d3bd512c734228b7eac57566d59edd": {
      "model_module": "@jupyter-widgets/base",
      "model_module_version": "1.2.0",
      "model_name": "LayoutModel",
      "state": {}
     },
     "83ec24f3beb049c2a819dd154ed1ccf6": {
      "model_module": "@jupyter-widgets/controls",
      "model_module_version": "1.5.0",
      "model_name": "ButtonModel",
      "state": {
       "button_style": "success",
       "description": "Iniciar",
       "layout": "IPY_MODEL_e0865315cf8e4376846c241a9318e3c1",
       "style": "IPY_MODEL_64c2bb12aa4d44a8b1bab59d9613d337"
      }
     },
     "84533cb854b242f3ac62adbeac5eb9c3": {
      "model_module": "@jupyter-widgets/base",
      "model_module_version": "1.2.0",
      "model_name": "LayoutModel",
      "state": {
       "margin": "60px 0px 0px 0px"
      }
     },
     "84835e03d6c64bdc9f6cfd13abd60f8c": {
      "model_module": "bqplot",
      "model_module_version": "^0.5.0",
      "model_name": "AxisModel",
      "state": {
       "label": "Score ",
       "orientation": "vertical",
       "scale": "IPY_MODEL_7d5ea1ca4e9e426aad9f8a3621158427",
       "side": "left",
       "tick_values": null
      }
     },
     "84d49021fcf84ade9318d0e19b77e5ff": {
      "model_module": "@jupyter-widgets/controls",
      "model_module_version": "1.5.0",
      "model_name": "ButtonStyleModel",
      "state": {}
     },
     "8535588032c648b193f250eca18043fe": {
      "model_module": "bqplot",
      "model_module_version": "^0.5.0",
      "model_name": "LinearScaleModel",
      "state": {
       "allow_padding": false,
       "max": 1,
       "min": 0,
       "stabilized": false
      }
     },
     "86390978658844718c19dd193b1b71f0": {
      "model_module": "@jupyter-widgets/controls",
      "model_module_version": "1.5.0",
      "model_name": "LabelModel",
      "state": {
       "layout": "IPY_MODEL_261d0791fec34994a97ebe8a325c0ae5",
       "style": "IPY_MODEL_8647f6c046cf4a4f93baae018665e4fb",
       "value": "Iterations: "
      }
     },
     "8647f6c046cf4a4f93baae018665e4fb": {
      "model_module": "@jupyter-widgets/controls",
      "model_module_version": "1.5.0",
      "model_name": "DescriptionStyleModel",
      "state": {
       "description_width": ""
      }
     },
     "865813cfc9bf4aef9ecd53625f45678c": {
      "model_module": "bqplot",
      "model_module_version": "^0.5.0",
      "model_name": "LinearScaleModel",
      "state": {
       "stabilized": false
      }
     },
     "86a156c24b874b00823cf154f30489b0": {
      "model_module": "bqplot",
      "model_module_version": "^0.5.0",
      "model_name": "LinearScaleModel",
      "state": {
       "allow_padding": false,
       "max": 1,
       "min": 0,
       "stabilized": false
      }
     },
     "875a80379ae94d04994108c2fdc7fd2a": {
      "model_module": "@jupyter-widgets/controls",
      "model_module_version": "1.5.0",
      "model_name": "ButtonStyleModel",
      "state": {}
     },
     "87fa020ea39f4ccba3adabc4e4eedffd": {
      "model_module": "bqplot",
      "model_module_version": "^0.5.0",
      "model_name": "LinearScaleModel",
      "state": {
       "stabilized": false
      }
     },
     "88b8198ee8f44cd59192447d3a8876d3": {
      "model_module": "bqplot",
      "model_module_version": "^0.5.0",
      "model_name": "AxisModel",
      "state": {
       "label": "Edad",
       "scale": "IPY_MODEL_e91f18682f6d422d87e50f352c319423",
       "side": "bottom",
       "tick_values": null
      }
     },
     "88be64cd28aa42ccb0bc822811b94d7a": {
      "model_module": "@jupyter-widgets/base",
      "model_module_version": "1.2.0",
      "model_name": "LayoutModel",
      "state": {
       "margin": "60px 0px 0px 0px"
      }
     },
     "88df0fbf06bf49b1889d906f38af925f": {
      "model_module": "@jupyter-widgets/controls",
      "model_module_version": "1.5.0",
      "model_name": "HBoxModel",
      "state": {
       "children": [
        "IPY_MODEL_72d91376c15d4a2ebd472a2a99972b26",
        "IPY_MODEL_71acb8bd127e44e8a7da7ec284d1e330"
       ],
       "layout": "IPY_MODEL_0685afd3fc7c404d9aca6c62d4523c5f"
      }
     },
     "88fb133d514c47d4953a9a3c75ac40c7": {
      "model_module": "@jupyter-widgets/controls",
      "model_module_version": "1.5.0",
      "model_name": "IntSliderModel",
      "state": {
       "description": "Núm. Clusters",
       "layout": "IPY_MODEL_aa29eb70217c4c70a47da54c75b5fc7b",
       "max": 10,
       "min": 2,
       "style": "IPY_MODEL_3fb72bf09cab4d10a36b6b2b92c9b063",
       "value": 3
      }
     },
     "8967916847624529acd5a4d740a9f086": {
      "model_module": "bqplot",
      "model_module_version": "^0.5.0",
      "model_name": "AxisModel",
      "state": {
       "label": "Ingresos",
       "scale": "IPY_MODEL_e66e620153c34573a25190113ae500c7",
       "side": "bottom",
       "tick_values": null
      }
     },
     "89aeb5163fbb4c0a9fb3eab720484e3a": {
      "model_module": "bqplot",
      "model_module_version": "^0.5.0",
      "model_name": "LinearScaleModel",
      "state": {
       "allow_padding": false,
       "max": 1,
       "min": 0,
       "stabilized": false
      }
     },
     "89fd893069764bc4b3a5fa0fdcc9d151": {
      "model_module": "@jupyter-widgets/controls",
      "model_module_version": "1.5.0",
      "model_name": "IntSliderModel",
      "state": {
       "description": "Núm. Clusters",
       "layout": "IPY_MODEL_24ed17fd781a488289eb03614a5bff26",
       "max": 10,
       "min": 2,
       "style": "IPY_MODEL_bfb72de6c5a042f0bf74deeec91bbfff",
       "value": 3
      }
     },
     "8a0555d7892548f698773762aa09b48b": {
      "model_module": "@jupyter-widgets/controls",
      "model_module_version": "1.5.0",
      "model_name": "FloatSliderModel",
      "state": {
       "description": "cluster std",
       "layout": "IPY_MODEL_3ca17029fb6a43548eac7966821bf6af",
       "max": 3,
       "min": 0.5,
       "step": 0.1,
       "style": "IPY_MODEL_f338c97a09694db380b2067f9b3b0fa8",
       "value": 0.8
      }
     },
     "8a631e8d052b408fa1512f39ed23b854": {
      "buffers": [
       {
        "data": "",
        "encoding": "base64",
        "path": [
         "color",
         "value"
        ]
       },
       {
        "data": "AAAAAAAA8D8=",
        "encoding": "base64",
        "path": [
         "default_opacities",
         "value"
        ]
       },
       {
        "data": "",
        "encoding": "base64",
        "path": [
         "x",
         "value"
        ]
       },
       {
        "data": "",
        "encoding": "base64",
        "path": [
         "y",
         "value"
        ]
       }
      ],
      "model_module": "bqplot",
      "model_module_version": "^0.5.0",
      "model_name": "ScatterModel",
      "state": {
       "color": {
        "dtype": "float64",
        "shape": [
         0
        ],
        "type": null,
        "value": {}
       },
       "default_opacities": {
        "dtype": "float64",
        "shape": [
         1
        ],
        "type": null,
        "value": {}
       },
       "default_size": 400,
       "names": null,
       "scales": {
        "color": "IPY_MODEL_e033264f283b45d5a617fcd164c6942a",
        "x": "IPY_MODEL_60358897d390447dbd56fd9330e38cdd",
        "y": "IPY_MODEL_294e3f1b720643069ecc80382b57f8b6"
       },
       "scales_metadata": {
        "color": {
         "dimension": "color"
        },
        "opacity": {
         "dimension": "opacity"
        },
        "rotation": {
         "dimension": "rotation"
        },
        "size": {
         "dimension": "size"
        },
        "skew": {
         "dimension": "skew"
        },
        "x": {
         "dimension": "x",
         "orientation": "horizontal"
        },
        "y": {
         "dimension": "y",
         "orientation": "vertical"
        }
       },
       "stroke": "black",
       "stroke_width": 3,
       "x": {
        "dtype": "float64",
        "shape": [
         0
        ],
        "type": null,
        "value": {}
       },
       "y": {
        "dtype": "float64",
        "shape": [
         0
        ],
        "type": null,
        "value": {}
       }
      }
     },
     "8a95a150da6545a99f3e206881b02f7b": {
      "model_module": "bqplot",
      "model_module_version": "^0.5.0",
      "model_name": "LinearScaleModel",
      "state": {
       "allow_padding": false,
       "max": 1,
       "min": 0,
       "stabilized": false
      }
     },
     "8b68b0c10d27477ca36fe8d2cdaebeea": {
      "model_module": "bqplot",
      "model_module_version": "^0.5.0",
      "model_name": "LinearScaleModel",
      "state": {
       "stabilized": false
      }
     },
     "8b9e653820c24c2da44f2514093a31c8": {
      "model_module": "bqplot",
      "model_module_version": "^0.5.0",
      "model_name": "ColorAxisModel",
      "state": {
       "scale": "IPY_MODEL_b5825d0b746d4982897492eb287443cc",
       "side": "bottom",
       "tick_values": null,
       "visible": false
      }
     },
     "8c3a0b74136b4ae699e6a0fec3259434": {
      "model_module": "@jupyter-widgets/controls",
      "model_module_version": "1.5.0",
      "model_name": "LabelModel",
      "state": {
       "layout": "IPY_MODEL_fe99c8dfb5d64e46b2b847a505778928",
       "style": "IPY_MODEL_f6d21d99fd624a8d98591bec791c3029",
       "value": "Iterations: 20"
      }
     },
     "8c4fa5f57e2846ada9959e551ebc83e7": {
      "model_module": "bqplot",
      "model_module_version": "^0.5.0",
      "model_name": "LinearScaleModel",
      "state": {
       "stabilized": false
      }
     },
     "8d59e8565add428f91ac1b5c2e3355b0": {
      "model_module": "@jupyter-widgets/base",
      "model_module_version": "1.2.0",
      "model_name": "LayoutModel",
      "state": {
       "width": "300px"
      }
     },
     "8e1e33eaf287479e997991fc325fcc52": {
      "model_module": "@jupyter-widgets/controls",
      "model_module_version": "1.5.0",
      "model_name": "IntSliderModel",
      "state": {
       "description": "Núm. Clusters",
       "layout": "IPY_MODEL_c41c03d1e07748e7b06904be09754ca6",
       "max": 10,
       "min": 2,
       "style": "IPY_MODEL_9a7dd482b5fe4c4db2b83a8e3585ac5f",
       "value": 3
      }
     },
     "8e20462b44c94cebbfefcb17b2d4ec51": {
      "model_module": "bqplot",
      "model_module_version": "^0.5.0",
      "model_name": "FigureModel",
      "state": {
       "_dom_classes": [],
       "animation_duration": 1000,
       "axes": [
        "IPY_MODEL_f3c4445ad29f459f9d52e846b83f1311",
        "IPY_MODEL_1e0d66cbf6d342d89f1e063f233d9a76",
        "IPY_MODEL_d0d80d889d914cef800add7718cc9de9"
       ],
       "layout": "IPY_MODEL_51c1c3f8704447c688730d354bce8f98",
       "marks": [
        "IPY_MODEL_d723737ed572400a8d34e575f5cbfa87",
        "IPY_MODEL_142d8e30f3d74074bcb0f8079de3aa0e"
       ],
       "scale_x": "IPY_MODEL_2409f43dc2e3416d8f2858ab492b9385",
       "scale_y": "IPY_MODEL_3cd2c517760b4b9ebf54360fcec80a87",
       "title": "K-means clustering"
      }
     },
     "8eba31596a3f4daca00aec45bf2039a1": {
      "model_module": "@jupyter-widgets/controls",
      "model_module_version": "1.5.0",
      "model_name": "DescriptionStyleModel",
      "state": {
       "description_width": ""
      }
     },
     "8ef849154f3c4ee6a0a728d124162b07": {
      "model_module": "@jupyter-widgets/base",
      "model_module_version": "1.2.0",
      "model_name": "LayoutModel",
      "state": {
       "width": "80px"
      }
     },
     "909a34d0e9b04436b0645d044b842eed": {
      "model_module": "@jupyter-widgets/controls",
      "model_module_version": "1.5.0",
      "model_name": "HBoxModel",
      "state": {
       "children": [
        "IPY_MODEL_a9afebe56e834aa391c4a7a4ef78b48e",
        "IPY_MODEL_7403586f0827469391a202000c093ebd"
       ],
       "layout": "IPY_MODEL_046621ef88bc422ba2b53e84087b2dfd"
      }
     },
     "90ec2cb1508a437ea6b2fe81927a87c7": {
      "model_module": "@jupyter-widgets/base",
      "model_module_version": "1.2.0",
      "model_name": "LayoutModel",
      "state": {}
     },
     "91d0b291b78c4297bd9502137b7eba63": {
      "model_module": "@jupyter-widgets/controls",
      "model_module_version": "1.5.0",
      "model_name": "HBoxModel",
      "state": {
       "children": [
        "IPY_MODEL_1c964cf92a31471c9469b26d1d12a279",
        "IPY_MODEL_ac5bf8fd769142f4b925d2c6ff9b3cfa"
       ],
       "layout": "IPY_MODEL_bb2531a541124b0abd810dccf798995a"
      }
     },
     "935e39df250648c989684203dccde1bb": {
      "model_module": "@jupyter-widgets/base",
      "model_module_version": "1.2.0",
      "model_name": "LayoutModel",
      "state": {
       "margin": "60px 0px 0px 0px"
      }
     },
     "93f98d5d89254c6497ee15a7cd3f371d": {
      "model_module": "@jupyter-widgets/base",
      "model_module_version": "1.2.0",
      "model_name": "LayoutModel",
      "state": {}
     },
     "94dde10eb8244b1699b9394de648b61c": {
      "model_module": "@jupyter-widgets/base",
      "model_module_version": "1.2.0",
      "model_name": "LayoutModel",
      "state": {}
     },
     "9538dc8562574aad9930bff0e8bd67ce": {
      "model_module": "@jupyter-widgets/base",
      "model_module_version": "1.2.0",
      "model_name": "LayoutModel",
      "state": {}
     },
     "95ea69268b4c4854a65697b5f21645c5": {
      "model_module": "@jupyter-widgets/base",
      "model_module_version": "1.2.0",
      "model_name": "LayoutModel",
      "state": {
       "margin": "60px 0px 0px 0px"
      }
     },
     "96b5614a5cda4185baa426fbe9c83fb8": {
      "model_module": "@jupyter-widgets/base",
      "model_module_version": "1.2.0",
      "model_name": "LayoutModel",
      "state": {}
     },
     "96caef2efdc5457ab19f120f9ea7b5f6": {
      "model_module": "@jupyter-widgets/controls",
      "model_module_version": "1.5.0",
      "model_name": "IntSliderModel",
      "state": {
       "description": "Núm. Clusters",
       "layout": "IPY_MODEL_e2498db552084283bbbfa13c2d2b8093",
       "max": 10,
       "min": 2,
       "style": "IPY_MODEL_5ded8aedb4be465ab422387c775dd750",
       "value": 3
      }
     },
     "9718becbf50b42f983d0daf9f63921e4": {
      "model_module": "@jupyter-widgets/controls",
      "model_module_version": "1.5.0",
      "model_name": "ButtonStyleModel",
      "state": {}
     },
     "97ee5525d88a4d7daec48fd045a501b9": {
      "model_module": "bqplot",
      "model_module_version": "^0.5.0",
      "model_name": "LinearScaleModel",
      "state": {
       "stabilized": false
      }
     },
     "991155159c8248be83a458f4e69a6cb5": {
      "model_module": "bqplot",
      "model_module_version": "^0.5.0",
      "model_name": "FigureModel",
      "state": {
       "_dom_classes": [],
       "animation_duration": 1000,
       "axes": [
        "IPY_MODEL_7091e32a21b844e0abf69a837fd690d1",
        "IPY_MODEL_bad7ee41ea3b45888e869aa1f7b88c07",
        "IPY_MODEL_cb907f53e9a048d884cbfa122d3a27a5"
       ],
       "layout": "IPY_MODEL_6b2d4c9e34674c1b8b276b784524f139",
       "marks": [
        "IPY_MODEL_3813ee47029f49a6bb1bf3372be5ab6b",
        "IPY_MODEL_46de3292cca04c0f8ec40c90d4e60887"
       ],
       "scale_x": "IPY_MODEL_8a95a150da6545a99f3e206881b02f7b",
       "scale_y": "IPY_MODEL_7018cf63fb804560b45b6cb94e706c08",
       "title": "K-means clustering"
      }
     },
     "994d328150ba4a5f96ba9fe1f92e07a9": {
      "model_module": "bqplot",
      "model_module_version": "^0.5.0",
      "model_name": "FigureModel",
      "state": {
       "_dom_classes": [],
       "animation_duration": 1000,
       "axes": [
        "IPY_MODEL_0c3a155bdfe34e47823ba09091f894aa",
        "IPY_MODEL_eb47f05bf2164876a7e3ed3b96177ca9",
        "IPY_MODEL_84835e03d6c64bdc9f6cfd13abd60f8c"
       ],
       "layout": "IPY_MODEL_5c89fbd5dd044568b2b0eece0c440bc0",
       "marks": [
        "IPY_MODEL_45aa84dfef8a490c9f99580a7b582bfa",
        "IPY_MODEL_260a4f6e1be84059b20dd10d9a6ddc82"
       ],
       "scale_x": "IPY_MODEL_1f2a09feda904bcd814ccc9180563434",
       "scale_y": "IPY_MODEL_29d38ece647b4897b14bb499dfde03ee",
       "title": "K-means clustering"
      }
     },
     "9997825fe2c444708dfe2819570f9a75": {
      "model_module": "@jupyter-widgets/base",
      "model_module_version": "1.2.0",
      "model_name": "LayoutModel",
      "state": {
       "margin": "60px 0px 0px 0px"
      }
     },
     "999b389f869d47e5ad10a896bd958bfa": {
      "model_module": "@jupyter-widgets/base",
      "model_module_version": "1.2.0",
      "model_name": "LayoutModel",
      "state": {
       "width": "80px"
      }
     },
     "9a7dd482b5fe4c4db2b83a8e3585ac5f": {
      "model_module": "@jupyter-widgets/controls",
      "model_module_version": "1.5.0",
      "model_name": "SliderStyleModel",
      "state": {
       "description_width": ""
      }
     },
     "9bede410dd8f4e33a19c3300547c63ed": {
      "model_module": "@jupyter-widgets/controls",
      "model_module_version": "1.5.0",
      "model_name": "VBoxModel",
      "state": {
       "children": [
        "IPY_MODEL_af1c3eb7f0ca4b089e224000284ae28a",
        "IPY_MODEL_4d4f12f7cb5f45679383ae962e5da927",
        "IPY_MODEL_cad24cb9b23c4bab926deb0ce784a5fb",
        "IPY_MODEL_d563be7c0fb448baa2f408fcebfbd483"
       ],
       "layout": "IPY_MODEL_6567493e48d342729bd254cef829b90f"
      }
     },
     "9cc3fd2c217a4e65ba7386a4f25508f5": {
      "model_module": "@jupyter-widgets/controls",
      "model_module_version": "1.5.0",
      "model_name": "FloatSliderModel",
      "state": {
       "description": "cluster std",
       "layout": "IPY_MODEL_c3f71f66277a4c6897d4c4108242af0f",
       "max": 3,
       "min": 0.5,
       "step": 0.1,
       "style": "IPY_MODEL_7f1ca7313e7043b7bc8cf3fc586575cc",
       "value": 0.8
      }
     },
     "9cd2ef110ee5418488957c41ae91fa66": {
      "model_module": "@jupyter-widgets/controls",
      "model_module_version": "1.5.0",
      "model_name": "FloatSliderModel",
      "state": {
       "description": "cluster std",
       "layout": "IPY_MODEL_f022407a45244f51a43f9caa52ecb1e6",
       "max": 3,
       "min": 0.5,
       "step": 0.1,
       "style": "IPY_MODEL_3ab1263ddb38409f8705ddfc764e6301",
       "value": 0.8
      }
     },
     "9cdecd6011ef47cda7d6e5f01b9c2a48": {
      "model_module": "@jupyter-widgets/controls",
      "model_module_version": "1.5.0",
      "model_name": "HBoxModel",
      "state": {
       "children": [
        "IPY_MODEL_066bc0dc346749ba8c07376e858fee54",
        "IPY_MODEL_48933eb69b204ad5acbb1836036b958b"
       ],
       "layout": "IPY_MODEL_d00ad8c05dac459b88ac491413da001f"
      }
     },
     "9f1c45a646c844b58fbdc3be5d1c2512": {
      "model_module": "bqplot",
      "model_module_version": "^0.5.0",
      "model_name": "LinearScaleModel",
      "state": {
       "stabilized": false
      }
     },
     "9f92b26299c04f3b83f1c6d54b26fcaa": {
      "model_module": "@jupyter-widgets/controls",
      "model_module_version": "1.5.0",
      "model_name": "VBoxModel",
      "state": {
       "children": [
        "IPY_MODEL_b20fcb8913ec4e40bf6707a3bb2fe5d7",
        "IPY_MODEL_f7d623b0ab8041d38008453f01732e3a",
        "IPY_MODEL_2ff47f0f46aa4037a61385bb0b873a23",
        "IPY_MODEL_a29cb52c800b43b283b7966f5be5483d"
       ],
       "layout": "IPY_MODEL_753dd1699d7b48a0b78b7d8f746f3da6"
      }
     },
     "9faea658413d43ba8cbe6500631e310a": {
      "model_module": "@jupyter-widgets/controls",
      "model_module_version": "1.5.0",
      "model_name": "HBoxModel",
      "state": {
       "children": [
        "IPY_MODEL_afc87891512e456eaf87c047c06ae55b",
        "IPY_MODEL_755964a6fe9340e58a3dc58f8c20f737"
       ],
       "layout": "IPY_MODEL_46b57c95c9df4e7ea217d63614a1d8b3"
      }
     },
     "9feacc92c85144f68e36089b8a2331b3": {
      "model_module": "@jupyter-widgets/base",
      "model_module_version": "1.2.0",
      "model_name": "LayoutModel",
      "state": {
       "height": "700px",
       "width": "700px"
      }
     },
     "a08c42dbf182450cb4f1dc9ce01d78bc": {
      "model_module": "bqplot",
      "model_module_version": "^0.5.0",
      "model_name": "ColorScaleModel",
      "state": {
       "colors": [],
       "scale_type": "linear"
      }
     },
     "a0c051ce4c7443bbae0f9ba20aa481f4": {
      "buffers": [
       {
        "data": "",
        "encoding": "base64",
        "path": [
         "color",
         "value"
        ]
       },
       {
        "data": "AAAAAAAA8D8=",
        "encoding": "base64",
        "path": [
         "default_opacities",
         "value"
        ]
       },
       {
        "data": "",
        "encoding": "base64",
        "path": [
         "x",
         "value"
        ]
       },
       {
        "data": "",
        "encoding": "base64",
        "path": [
         "y",
         "value"
        ]
       }
      ],
      "model_module": "bqplot",
      "model_module_version": "^0.5.0",
      "model_name": "ScatterModel",
      "state": {
       "color": {
        "dtype": "float64",
        "shape": [
         0
        ],
        "type": null,
        "value": {}
       },
       "default_opacities": {
        "dtype": "float64",
        "shape": [
         1
        ],
        "type": null,
        "value": {}
       },
       "names": null,
       "scales": {
        "color": "IPY_MODEL_b5825d0b746d4982897492eb287443cc",
        "x": "IPY_MODEL_e66e620153c34573a25190113ae500c7",
        "y": "IPY_MODEL_97ee5525d88a4d7daec48fd045a501b9"
       },
       "scales_metadata": {
        "color": {
         "dimension": "color"
        },
        "opacity": {
         "dimension": "opacity"
        },
        "rotation": {
         "dimension": "rotation"
        },
        "size": {
         "dimension": "size"
        },
        "skew": {
         "dimension": "skew"
        },
        "x": {
         "dimension": "x",
         "orientation": "horizontal"
        },
        "y": {
         "dimension": "y",
         "orientation": "vertical"
        }
       },
       "stroke": "black",
       "x": {
        "dtype": "float64",
        "shape": [
         0
        ],
        "type": null,
        "value": {}
       },
       "y": {
        "dtype": "float64",
        "shape": [
         0
        ],
        "type": null,
        "value": {}
       }
      }
     },
     "a196a050456a4570842115a823d9fe5d": {
      "model_module": "@jupyter-widgets/controls",
      "model_module_version": "1.5.0",
      "model_name": "SliderStyleModel",
      "state": {
       "description_width": ""
      }
     },
     "a1ba1f10ce0846b2a5d1ca6f9bc391c5": {
      "model_module": "@jupyter-widgets/controls",
      "model_module_version": "1.5.0",
      "model_name": "SliderStyleModel",
      "state": {
       "description_width": ""
      }
     },
     "a25c09ee1876417d8d35947a64ecdd7d": {
      "model_module": "@jupyter-widgets/controls",
      "model_module_version": "1.5.0",
      "model_name": "SliderStyleModel",
      "state": {
       "description_width": ""
      }
     },
     "a28ce6f7286a4905ac35ab1214990aa5": {
      "model_module": "@jupyter-widgets/controls",
      "model_module_version": "1.5.0",
      "model_name": "FloatSliderModel",
      "state": {
       "description": "cluster std",
       "layout": "IPY_MODEL_9538dc8562574aad9930bff0e8bd67ce",
       "max": 3,
       "min": 0.5,
       "step": 0.1,
       "style": "IPY_MODEL_5b357bf1edce44a6ae05d30e49cc9fdc",
       "value": 0.8
      }
     },
     "a29c441e65154a4ba8d3b5a1c4ddf1c1": {
      "model_module": "bqplot",
      "model_module_version": "^0.5.0",
      "model_name": "AxisModel",
      "state": {
       "label": "Ingresos",
       "scale": "IPY_MODEL_d2d3c8f0b33d48e1b972e6468cfbd344",
       "side": "bottom",
       "tick_values": null
      }
     },
     "a29cb52c800b43b283b7966f5be5483d": {
      "model_module": "@jupyter-widgets/controls",
      "model_module_version": "1.5.0",
      "model_name": "LabelModel",
      "state": {
       "layout": "IPY_MODEL_0d3dd11aeae34fa983b27a0df747b981",
       "style": "IPY_MODEL_45b68754da7a4dbd823c0de688fa2808",
       "value": "Iterations: "
      }
     },
     "a2aef81bf8c74a518d3b89c7de71c496": {
      "model_module": "@jupyter-widgets/base",
      "model_module_version": "1.2.0",
      "model_name": "LayoutModel",
      "state": {
       "margin": "60px 0px 0px 0px"
      }
     },
     "a32ed380c28e4ec2b5f0bd6624b2b972": {
      "model_module": "bqplot",
      "model_module_version": "^0.5.0",
      "model_name": "LinearScaleModel",
      "state": {
       "allow_padding": false,
       "max": 1,
       "min": 0,
       "stabilized": false
      }
     },
     "a5efc01fa1ca472a9c60c3f45b2456f1": {
      "model_module": "bqplot",
      "model_module_version": "^0.5.0",
      "model_name": "AxisModel",
      "state": {
       "label": "Score ",
       "orientation": "vertical",
       "scale": "IPY_MODEL_87fa020ea39f4ccba3adabc4e4eedffd",
       "side": "left",
       "tick_values": null
      }
     },
     "a677ed11da6e4b9eac486b06df30d49c": {
      "model_module": "@jupyter-widgets/base",
      "model_module_version": "1.2.0",
      "model_name": "LayoutModel",
      "state": {}
     },
     "a6f7dbab7f96437a9015d2106920e737": {
      "model_module": "@jupyter-widgets/base",
      "model_module_version": "1.2.0",
      "model_name": "LayoutModel",
      "state": {
       "width": "80px"
      }
     },
     "a757efd9f3c8449a95bdef4144eb9481": {
      "model_module": "@jupyter-widgets/controls",
      "model_module_version": "1.5.0",
      "model_name": "DescriptionStyleModel",
      "state": {
       "description_width": ""
      }
     },
     "a7d9894992ef4908b2043451f0fe034a": {
      "model_module": "@jupyter-widgets/base",
      "model_module_version": "1.2.0",
      "model_name": "LayoutModel",
      "state": {
       "width": "80px"
      }
     },
     "a88f07dc89b0437c81ed26d5b15e6fc4": {
      "model_module": "@jupyter-widgets/controls",
      "model_module_version": "1.5.0",
      "model_name": "SliderStyleModel",
      "state": {
       "description_width": ""
      }
     },
     "a8926e42da6c4de2a758f77868210592": {
      "model_module": "bqplot",
      "model_module_version": "^0.5.0",
      "model_name": "ColorScaleModel",
      "state": {
       "colors": [],
       "scale_type": "linear"
      }
     },
     "a9afebe56e834aa391c4a7a4ef78b48e": {
      "model_module": "bqplot",
      "model_module_version": "^0.5.0",
      "model_name": "FigureModel",
      "state": {
       "_dom_classes": [],
       "animation_duration": 1000,
       "axes": [
        "IPY_MODEL_3d668ada448f4d03aa986d9851c2d889",
        "IPY_MODEL_adb0dafb9c4f4e15ba2a02ceca07dcc3",
        "IPY_MODEL_ce6b5a3f5fae4547a3ca5fddadccb713"
       ],
       "layout": "IPY_MODEL_03e90132a57c444c8423bb410aa4270b",
       "marks": [
        "IPY_MODEL_1bfd9d576cef40bcb41873bea38bad4c",
        "IPY_MODEL_25c05043ae854b0fbb711136d02b6dd6"
       ],
       "scale_x": "IPY_MODEL_3c093b3764fd4eb9963ffd8c3db6de42",
       "scale_y": "IPY_MODEL_23e084dd074548e19eea7473621c4992",
       "title": "K-means clustering"
      }
     },
     "aa26150400a9404e885febfc114a37b3": {
      "model_module": "bqplot",
      "model_module_version": "^0.5.0",
      "model_name": "FigureModel",
      "state": {
       "_dom_classes": [],
       "animation_duration": 1000,
       "axes": [
        "IPY_MODEL_35816636ffd74a5cb0e2de40683d4478",
        "IPY_MODEL_50bc75b8a2474c12b5747a4e75c32463",
        "IPY_MODEL_e9634f6b27cf4125849fb1c53fb95758"
       ],
       "layout": "IPY_MODEL_fc3e5d6ba5df4e2d9c95c4fcfb8dca1a",
       "marks": [
        "IPY_MODEL_ffcba3149bd049549fe1206ce8dc2ba6",
        "IPY_MODEL_48956fdd8a104645aa3fbdb2fbf8deb2"
       ],
       "scale_x": "IPY_MODEL_0c9eb73fa9bb44418d043f3c39d2f293",
       "scale_y": "IPY_MODEL_14cbfe0d629f4181bfe0120ecdee0f94",
       "title": "K-means clustering"
      }
     },
     "aa29eb70217c4c70a47da54c75b5fc7b": {
      "model_module": "@jupyter-widgets/base",
      "model_module_version": "1.2.0",
      "model_name": "LayoutModel",
      "state": {}
     },
     "aa4e4a83863042aa8c85fdf87a93499c": {
      "model_module": "@jupyter-widgets/controls",
      "model_module_version": "1.5.0",
      "model_name": "ButtonStyleModel",
      "state": {}
     },
     "abc552f81333422f81028315378fd097": {
      "model_module": "@jupyter-widgets/controls",
      "model_module_version": "1.5.0",
      "model_name": "ButtonModel",
      "state": {
       "button_style": "success",
       "description": "Iniciar",
       "layout": "IPY_MODEL_8ef849154f3c4ee6a0a728d124162b07",
       "style": "IPY_MODEL_9718becbf50b42f983d0daf9f63921e4"
      }
     },
     "ac4b966ef1074d47916fdf554ef5eeb8": {
      "model_module": "@jupyter-widgets/controls",
      "model_module_version": "1.5.0",
      "model_name": "DescriptionStyleModel",
      "state": {
       "description_width": ""
      }
     },
     "ac5bf8fd769142f4b925d2c6ff9b3cfa": {
      "model_module": "@jupyter-widgets/controls",
      "model_module_version": "1.5.0",
      "model_name": "VBoxModel",
      "state": {
       "children": [
        "IPY_MODEL_89fd893069764bc4b3a5fa0fdcc9d151",
        "IPY_MODEL_ff3bc8f34e3e41b49ba571670c58d379",
        "IPY_MODEL_28dffb2ebd764898a305889e3d42ef6c",
        "IPY_MODEL_56235139c25a418db430a37f99987624"
       ],
       "layout": "IPY_MODEL_84533cb854b242f3ac62adbeac5eb9c3"
      }
     },
     "acee8ac6ad3a4841aabd6f1e22283e79": {
      "model_module": "@jupyter-widgets/base",
      "model_module_version": "1.2.0",
      "model_name": "LayoutModel",
      "state": {
       "width": "300px"
      }
     },
     "ad576be8a588479e8d4ca21331b5506a": {
      "model_module": "@jupyter-widgets/controls",
      "model_module_version": "1.5.0",
      "model_name": "IntSliderModel",
      "state": {
       "description": "Núm. Clusters",
       "layout": "IPY_MODEL_e37c1918d2a244689bc32e65158fb923",
       "max": 10,
       "min": 2,
       "style": "IPY_MODEL_ffa12832e87b429094d3ed527252eac7",
       "value": 3
      }
     },
     "adb0dafb9c4f4e15ba2a02ceca07dcc3": {
      "model_module": "bqplot",
      "model_module_version": "^0.5.0",
      "model_name": "AxisModel",
      "state": {
       "label": "Ingresos",
       "scale": "IPY_MODEL_9f1c45a646c844b58fbdc3be5d1c2512",
       "side": "bottom",
       "tick_values": null
      }
     },
     "adb897f807274db89d7814e1f0b20e41": {
      "model_module": "@jupyter-widgets/base",
      "model_module_version": "1.2.0",
      "model_name": "LayoutModel",
      "state": {}
     },
     "adcd06ee580745ce9783c663481fa504": {
      "buffers": [
       {
        "data": "",
        "encoding": "base64",
        "path": [
         "color",
         "value"
        ]
       },
       {
        "data": "AAAAAAAA8D8=",
        "encoding": "base64",
        "path": [
         "default_opacities",
         "value"
        ]
       },
       {
        "data": "",
        "encoding": "base64",
        "path": [
         "x",
         "value"
        ]
       },
       {
        "data": "",
        "encoding": "base64",
        "path": [
         "y",
         "value"
        ]
       }
      ],
      "model_module": "bqplot",
      "model_module_version": "^0.5.0",
      "model_name": "ScatterModel",
      "state": {
       "color": {
        "dtype": "float64",
        "shape": [
         0
        ],
        "type": null,
        "value": {}
       },
       "default_opacities": {
        "dtype": "float64",
        "shape": [
         1
        ],
        "type": null,
        "value": {}
       },
       "names": null,
       "scales": {
        "color": "IPY_MODEL_3b02c938890f4337a7ef8cb0d2c73d7f",
        "x": "IPY_MODEL_d2d3c8f0b33d48e1b972e6468cfbd344",
        "y": "IPY_MODEL_42ee6e9d84384c9e9b04e554d10498c0"
       },
       "scales_metadata": {
        "color": {
         "dimension": "color"
        },
        "opacity": {
         "dimension": "opacity"
        },
        "rotation": {
         "dimension": "rotation"
        },
        "size": {
         "dimension": "size"
        },
        "skew": {
         "dimension": "skew"
        },
        "x": {
         "dimension": "x",
         "orientation": "horizontal"
        },
        "y": {
         "dimension": "y",
         "orientation": "vertical"
        }
       },
       "stroke": "black",
       "x": {
        "dtype": "float64",
        "shape": [
         0
        ],
        "type": null,
        "value": {}
       },
       "y": {
        "dtype": "float64",
        "shape": [
         0
        ],
        "type": null,
        "value": {}
       }
      }
     },
     "ae3f11d709344aa5a57f14d3ec80b98c": {
      "model_module": "@jupyter-widgets/base",
      "model_module_version": "1.2.0",
      "model_name": "LayoutModel",
      "state": {}
     },
     "ae5b5933e8d64a56bde910915d4552fe": {
      "model_module": "bqplot",
      "model_module_version": "^0.5.0",
      "model_name": "OrdinalScaleModel",
      "state": {
       "_view_name": "OrdinalColorScale",
       "colors": [
        "#1f77b4",
        "#ff7f0e",
        "#2ca02c",
        "#d62728",
        "#9467bd",
        "#8c564b",
        "#e377c2",
        "#7f7f7f",
        "#bcbd22",
        "#17becf"
       ],
       "extrapolation": "constant",
       "max": null,
       "mid": null,
       "min": null,
       "scale_type": "linear",
       "scheme": "RdYlGn"
      }
     },
     "ae8fd3ca66eb4fc2a584077dd4cd774c": {
      "model_module": "@jupyter-widgets/base",
      "model_module_version": "1.2.0",
      "model_name": "LayoutModel",
      "state": {}
     },
     "af1c3eb7f0ca4b089e224000284ae28a": {
      "model_module": "@jupyter-widgets/controls",
      "model_module_version": "1.5.0",
      "model_name": "IntSliderModel",
      "state": {
       "description": "Núm. Clusters",
       "layout": "IPY_MODEL_efc6b16a51034b62bef7b29775fd514b",
       "max": 10,
       "min": 2,
       "style": "IPY_MODEL_a25c09ee1876417d8d35947a64ecdd7d",
       "value": 3
      }
     },
     "afc87891512e456eaf87c047c06ae55b": {
      "model_module": "@jupyter-widgets/controls",
      "model_module_version": "1.5.0",
      "model_name": "VBoxModel",
      "state": {
       "children": [
        "IPY_MODEL_991155159c8248be83a458f4e69a6cb5"
       ],
       "layout": "IPY_MODEL_e4c63a0ad58b49e1b4e9668db97a179e"
      }
     },
     "b0ca7e0b81174717b8229857bd04bf61": {
      "model_module": "@jupyter-widgets/controls",
      "model_module_version": "1.5.0",
      "model_name": "VBoxModel",
      "state": {
       "children": [
        "IPY_MODEL_88fb133d514c47d4953a9a3c75ac40c7",
        "IPY_MODEL_008f71ea36a64c5aa794ae2029ef1deb",
        "IPY_MODEL_9cdecd6011ef47cda7d6e5f01b9c2a48",
        "IPY_MODEL_30fbee71e6a946389d9fb8d7a9205667"
       ],
       "layout": "IPY_MODEL_88be64cd28aa42ccb0bc822811b94d7a"
      }
     },
     "b1ff2480ffe9474a84643141ab5a813c": {
      "model_module": "@jupyter-widgets/base",
      "model_module_version": "1.2.0",
      "model_name": "LayoutModel",
      "state": {}
     },
     "b20fcb8913ec4e40bf6707a3bb2fe5d7": {
      "model_module": "@jupyter-widgets/controls",
      "model_module_version": "1.5.0",
      "model_name": "IntSliderModel",
      "state": {
       "description": "Núm. Clusters",
       "layout": "IPY_MODEL_b1ff2480ffe9474a84643141ab5a813c",
       "max": 10,
       "min": 2,
       "style": "IPY_MODEL_5a3c3d028b54436083e843a7798bbb85",
       "value": 3
      }
     },
     "b2119c48fd914b5bb2150913406fd6f6": {
      "model_module": "@jupyter-widgets/controls",
      "model_module_version": "1.5.0",
      "model_name": "ButtonModel",
      "state": {
       "button_style": "success",
       "description": "Graficar",
       "disabled": true,
       "layout": "IPY_MODEL_136f9d0a8f364a059abca90b30b3b549",
       "style": "IPY_MODEL_80c80ffcdf214bae93ed2ffd94841722"
      }
     },
     "b274c26588204e2385d4ff6e8792f1d7": {
      "model_module": "@jupyter-widgets/controls",
      "model_module_version": "1.5.0",
      "model_name": "SliderStyleModel",
      "state": {
       "description_width": ""
      }
     },
     "b2d1747455e641cf9810da4f71f9a958": {
      "model_module": "bqplot",
      "model_module_version": "^0.5.0",
      "model_name": "LinearScaleModel",
      "state": {
       "allow_padding": false,
       "max": 1,
       "min": 0,
       "stabilized": false
      }
     },
     "b41fb7ddfb82493a962361519c5c68c9": {
      "model_module": "bqplot",
      "model_module_version": "^0.5.0",
      "model_name": "OrdinalScaleModel",
      "state": {
       "_view_name": "OrdinalColorScale",
       "colors": [
        "#1f77b4",
        "#ff7f0e",
        "#2ca02c",
        "#d62728",
        "#9467bd",
        "#8c564b",
        "#e377c2",
        "#7f7f7f",
        "#bcbd22",
        "#17becf"
       ],
       "extrapolation": "constant",
       "max": null,
       "mid": null,
       "min": null,
       "scale_type": "linear",
       "scheme": "RdYlGn"
      }
     },
     "b428ae6097a147568a3e641f7a2c6600": {
      "model_module": "bqplot",
      "model_module_version": "^0.5.0",
      "model_name": "LinearScaleModel",
      "state": {
       "stabilized": false
      }
     },
     "b477e449ef5740b69b6b898f8e510e5e": {
      "model_module": "bqplot",
      "model_module_version": "^0.5.0",
      "model_name": "ColorAxisModel",
      "state": {
       "scale": "IPY_MODEL_20e1e7a9fc394a728bf644335bd797bc",
       "side": "bottom",
       "tick_values": null,
       "visible": false
      }
     },
     "b50fc122bd0044c293d929b253a0bb7e": {
      "model_module": "@jupyter-widgets/base",
      "model_module_version": "1.2.0",
      "model_name": "LayoutModel",
      "state": {}
     },
     "b5825d0b746d4982897492eb287443cc": {
      "model_module": "bqplot",
      "model_module_version": "^0.5.0",
      "model_name": "OrdinalScaleModel",
      "state": {
       "_view_name": "OrdinalColorScale",
       "colors": [
        "#1f77b4",
        "#ff7f0e",
        "#2ca02c",
        "#d62728",
        "#9467bd",
        "#8c564b",
        "#e377c2",
        "#7f7f7f",
        "#bcbd22",
        "#17becf"
       ],
       "extrapolation": "constant",
       "max": null,
       "mid": null,
       "min": null,
       "scale_type": "linear",
       "scheme": "RdYlGn"
      }
     },
     "b6673cb1620a4fbc8c20dad54d9ee814": {
      "model_module": "@jupyter-widgets/controls",
      "model_module_version": "1.5.0",
      "model_name": "HBoxModel",
      "state": {
       "children": [
        "IPY_MODEL_55e4a0bdd364425b83efe5aab61070e3",
        "IPY_MODEL_b0ca7e0b81174717b8229857bd04bf61"
       ],
       "layout": "IPY_MODEL_ae3f11d709344aa5a57f14d3ec80b98c"
      }
     },
     "b7a6d478b7a74673b5dc014f3d6a5ecb": {
      "model_module": "@jupyter-widgets/controls",
      "model_module_version": "1.5.0",
      "model_name": "FloatSliderModel",
      "state": {
       "description": "cluster std",
       "layout": "IPY_MODEL_f6dd4d08dc2649969fa83cbe45d19dac",
       "max": 3,
       "min": 0.5,
       "step": 0.1,
       "style": "IPY_MODEL_0391f7e73c084250b0a41519176ebe81",
       "value": 0.8
      }
     },
     "b8165d3736074a289b4d45f1cc6f34e7": {
      "model_module": "@jupyter-widgets/controls",
      "model_module_version": "1.5.0",
      "model_name": "ButtonStyleModel",
      "state": {}
     },
     "ba7ca3f1b1c04593bd50feddf2bbf881": {
      "model_module": "@jupyter-widgets/base",
      "model_module_version": "1.2.0",
      "model_name": "LayoutModel",
      "state": {
       "width": "80px"
      }
     },
     "bad7ee41ea3b45888e869aa1f7b88c07": {
      "model_module": "bqplot",
      "model_module_version": "^0.5.0",
      "model_name": "AxisModel",
      "state": {
       "label": "Edad",
       "scale": "IPY_MODEL_6bb3553caf004f29ab705b2397cc8b51",
       "side": "bottom",
       "tick_values": null
      }
     },
     "badbd4c347844a6eb9c0a0f61a820aad": {
      "model_module": "@jupyter-widgets/controls",
      "model_module_version": "1.5.0",
      "model_name": "VBoxModel",
      "state": {
       "children": [
        "IPY_MODEL_8e1e33eaf287479e997991fc325fcc52",
        "IPY_MODEL_9cc3fd2c217a4e65ba7386a4f25508f5",
        "IPY_MODEL_723b096e973a4841ae48a3586165fadd",
        "IPY_MODEL_7f6c7c0de116450dac411b5ebe171e77"
       ],
       "layout": "IPY_MODEL_ebb4d7c5e7ac4f23a43e11bac206cce1"
      }
     },
     "baeeaa205d284596ab142b706fc67e8b": {
      "model_module": "@jupyter-widgets/base",
      "model_module_version": "1.2.0",
      "model_name": "LayoutModel",
      "state": {
       "width": "80px"
      }
     },
     "bb2531a541124b0abd810dccf798995a": {
      "model_module": "@jupyter-widgets/base",
      "model_module_version": "1.2.0",
      "model_name": "LayoutModel",
      "state": {}
     },
     "bbdeca100bc6485897d6421016f4e595": {
      "model_module": "@jupyter-widgets/base",
      "model_module_version": "1.2.0",
      "model_name": "LayoutModel",
      "state": {
       "height": "700px",
       "width": "700px"
      }
     },
     "bc5c432c65694da5bf5bfb9cb3422d75": {
      "model_module": "@jupyter-widgets/base",
      "model_module_version": "1.2.0",
      "model_name": "LayoutModel",
      "state": {
       "width": "80px"
      }
     },
     "bcf8661d70ee4891b0ac577638ac93c9": {
      "model_module": "bqplot",
      "model_module_version": "^0.5.0",
      "model_name": "LinearScaleModel",
      "state": {
       "stabilized": false
      }
     },
     "bd1864de374b43d1b76dc22925bca2cb": {
      "model_module": "bqplot",
      "model_module_version": "^0.5.0",
      "model_name": "FigureModel",
      "state": {
       "_dom_classes": [],
       "animation_duration": 1000,
       "axes": [
        "IPY_MODEL_07c3287048e140a181fe795eb668f4c1",
        "IPY_MODEL_618412e89b554e70a68fdaa8a67a5312",
        "IPY_MODEL_d920439aade245888a5f6dd9831308b6"
       ],
       "layout": "IPY_MODEL_bbdeca100bc6485897d6421016f4e595",
       "marks": [
        "IPY_MODEL_10568bfed01f48198ad255ce147d19bc",
        "IPY_MODEL_39d6015888134629b6fbc124fac00bb5"
       ],
       "scale_x": "IPY_MODEL_b2d1747455e641cf9810da4f71f9a958",
       "scale_y": "IPY_MODEL_4c904d06e3c941e892d535599feccb46",
       "title": "K-means clustering"
      }
     },
     "bdd9fb8573ac494c8edef0d7de02fae5": {
      "model_module": "@jupyter-widgets/controls",
      "model_module_version": "1.5.0",
      "model_name": "HBoxModel",
      "state": {
       "children": [
        "IPY_MODEL_f5692f9508d943e8b369d21d40784757",
        "IPY_MODEL_abc552f81333422f81028315378fd097"
       ],
       "layout": "IPY_MODEL_82ae217f20de4a7dbbc41b241200c45a"
      }
     },
     "bde16ed250d44a5bb18ca4d7639d8826": {
      "model_module": "@jupyter-widgets/controls",
      "model_module_version": "1.5.0",
      "model_name": "VBoxModel",
      "state": {
       "children": [
        "IPY_MODEL_deb246abd10846abb0aeeec8449cc157"
       ],
       "layout": "IPY_MODEL_5ee9fd4ba87e4c96868ab98f9a5fb061"
      }
     },
     "be968b899aba4ea3aa89f694c8f8be36": {
      "model_module": "@jupyter-widgets/controls",
      "model_module_version": "1.5.0",
      "model_name": "VBoxModel",
      "state": {
       "children": [
        "IPY_MODEL_7581f86aea2445ccb1e7629ce53c549b",
        "IPY_MODEL_a28ce6f7286a4905ac35ab1214990aa5",
        "IPY_MODEL_72f2416557bd4a90a88ca178901d535c",
        "IPY_MODEL_8c3a0b74136b4ae699e6a0fec3259434"
       ],
       "layout": "IPY_MODEL_a2aef81bf8c74a518d3b89c7de71c496"
      }
     },
     "bf5c0d3ddf7d477fad3a46439b9100e5": {
      "model_module": "@jupyter-widgets/base",
      "model_module_version": "1.2.0",
      "model_name": "LayoutModel",
      "state": {
       "width": "80px"
      }
     },
     "bfb2e2a2957a416f9d965245a4926335": {
      "model_module": "@jupyter-widgets/base",
      "model_module_version": "1.2.0",
      "model_name": "LayoutModel",
      "state": {}
     },
     "bfb72de6c5a042f0bf74deeec91bbfff": {
      "model_module": "@jupyter-widgets/controls",
      "model_module_version": "1.5.0",
      "model_name": "SliderStyleModel",
      "state": {
       "description_width": ""
      }
     },
     "c023fa6a804b4f72a2128d8ea8afab84": {
      "model_module": "bqplot",
      "model_module_version": "^0.5.0",
      "model_name": "OrdinalScaleModel",
      "state": {
       "_view_name": "OrdinalColorScale",
       "colors": [
        "#1f77b4",
        "#ff7f0e",
        "#2ca02c",
        "#d62728",
        "#9467bd",
        "#8c564b",
        "#e377c2",
        "#7f7f7f",
        "#bcbd22",
        "#17becf"
       ],
       "extrapolation": "constant",
       "max": null,
       "mid": null,
       "min": null,
       "scale_type": "linear",
       "scheme": "RdYlGn"
      }
     },
     "c052a634aea940bb9a36efbd16cb9986": {
      "model_module": "bqplot",
      "model_module_version": "^0.5.0",
      "model_name": "LinearScaleModel",
      "state": {
       "stabilized": false
      }
     },
     "c0957e57d7b5405f986939f920226374": {
      "model_module": "@jupyter-widgets/controls",
      "model_module_version": "1.5.0",
      "model_name": "DescriptionStyleModel",
      "state": {
       "description_width": ""
      }
     },
     "c38d5778c02f42a59bc26017009a1e83": {
      "model_module": "@jupyter-widgets/base",
      "model_module_version": "1.2.0",
      "model_name": "LayoutModel",
      "state": {
       "width": "80px"
      }
     },
     "c3f71f66277a4c6897d4c4108242af0f": {
      "model_module": "@jupyter-widgets/base",
      "model_module_version": "1.2.0",
      "model_name": "LayoutModel",
      "state": {}
     },
     "c41c03d1e07748e7b06904be09754ca6": {
      "model_module": "@jupyter-widgets/base",
      "model_module_version": "1.2.0",
      "model_name": "LayoutModel",
      "state": {}
     },
     "c5087932cb674744938fbc67591f7360": {
      "model_module": "@jupyter-widgets/base",
      "model_module_version": "1.2.0",
      "model_name": "LayoutModel",
      "state": {}
     },
     "c65e256da561404596a32649ab7e87cb": {
      "model_module": "@jupyter-widgets/base",
      "model_module_version": "1.2.0",
      "model_name": "LayoutModel",
      "state": {}
     },
     "c6ed1b48cda2404e910ad0e79bbc6475": {
      "model_module": "@jupyter-widgets/base",
      "model_module_version": "1.2.0",
      "model_name": "LayoutModel",
      "state": {
       "width": "300px"
      }
     },
     "c7f557c00cf5401188afc3fda6a276ff": {
      "model_module": "@jupyter-widgets/base",
      "model_module_version": "1.2.0",
      "model_name": "LayoutModel",
      "state": {
       "width": "80px"
      }
     },
     "c850a37c106a4321a3bdaed99149bf5e": {
      "buffers": [
       {
        "data": "",
        "encoding": "base64",
        "path": [
         "color",
         "value"
        ]
       },
       {
        "data": "AAAAAAAA8D8=",
        "encoding": "base64",
        "path": [
         "default_opacities",
         "value"
        ]
       },
       {
        "data": "",
        "encoding": "base64",
        "path": [
         "x",
         "value"
        ]
       },
       {
        "data": "",
        "encoding": "base64",
        "path": [
         "y",
         "value"
        ]
       }
      ],
      "model_module": "bqplot",
      "model_module_version": "^0.5.0",
      "model_name": "ScatterModel",
      "state": {
       "color": {
        "dtype": "float64",
        "shape": [
         0
        ],
        "type": null,
        "value": {}
       },
       "default_opacities": {
        "dtype": "float64",
        "shape": [
         1
        ],
        "type": null,
        "value": {}
       },
       "names": null,
       "scales": {
        "color": "IPY_MODEL_e033264f283b45d5a617fcd164c6942a",
        "x": "IPY_MODEL_60358897d390447dbd56fd9330e38cdd",
        "y": "IPY_MODEL_294e3f1b720643069ecc80382b57f8b6"
       },
       "scales_metadata": {
        "color": {
         "dimension": "color"
        },
        "opacity": {
         "dimension": "opacity"
        },
        "rotation": {
         "dimension": "rotation"
        },
        "size": {
         "dimension": "size"
        },
        "skew": {
         "dimension": "skew"
        },
        "x": {
         "dimension": "x",
         "orientation": "horizontal"
        },
        "y": {
         "dimension": "y",
         "orientation": "vertical"
        }
       },
       "stroke": "black",
       "x": {
        "dtype": "float64",
        "shape": [
         0
        ],
        "type": null,
        "value": {}
       },
       "y": {
        "dtype": "float64",
        "shape": [
         0
        ],
        "type": null,
        "value": {}
       }
      }
     },
     "c8a7a8525ca243ff9dc045a16a508be0": {
      "model_module": "@jupyter-widgets/controls",
      "model_module_version": "1.5.0",
      "model_name": "FloatSliderModel",
      "state": {
       "description": "cluster std",
       "layout": "IPY_MODEL_43ef34817041499e9a874ba7a91efeec",
       "max": 3,
       "min": 0.5,
       "step": 0.1,
       "style": "IPY_MODEL_01a7fa0e24af415fbd99000dc449d6e4",
       "value": 0.8
      }
     },
     "c8ae3a0a59874213a0192716c7c776cb": {
      "model_module": "@jupyter-widgets/base",
      "model_module_version": "1.2.0",
      "model_name": "LayoutModel",
      "state": {
       "width": "80px"
      }
     },
     "c9187dd00d364d9a9c715c9ee9efcd67": {
      "model_module": "@jupyter-widgets/base",
      "model_module_version": "1.2.0",
      "model_name": "LayoutModel",
      "state": {}
     },
     "cad24cb9b23c4bab926deb0ce784a5fb": {
      "model_module": "@jupyter-widgets/controls",
      "model_module_version": "1.5.0",
      "model_name": "HBoxModel",
      "state": {
       "children": [
        "IPY_MODEL_527530ee080f460c9ce3521d8b5e797f",
        "IPY_MODEL_3cf7d99d65a644438170a6d408be88a4"
       ],
       "layout": "IPY_MODEL_2796710051d84a8d80e66ca26f9c3824"
      }
     },
     "cb6aac4d40ba448a80bcff3982ad231a": {
      "model_module": "@jupyter-widgets/controls",
      "model_module_version": "1.5.0",
      "model_name": "FloatSliderModel",
      "state": {
       "description": "cluster std",
       "layout": "IPY_MODEL_0fccf39252af4fb88250805bf0f24ecd",
       "max": 3,
       "min": 0.5,
       "step": 0.1,
       "style": "IPY_MODEL_d530a1461c324b6fb03ea53af5c725dd",
       "value": 0.8
      }
     },
     "cb907f53e9a048d884cbfa122d3a27a5": {
      "model_module": "bqplot",
      "model_module_version": "^0.5.0",
      "model_name": "AxisModel",
      "state": {
       "label": "Ingresos ",
       "orientation": "vertical",
       "scale": "IPY_MODEL_f5150e9e542f4c849c396a526b79b354",
       "side": "left",
       "tick_values": null
      }
     },
     "ce6b5a3f5fae4547a3ca5fddadccb713": {
      "model_module": "bqplot",
      "model_module_version": "^0.5.0",
      "model_name": "AxisModel",
      "state": {
       "label": "Score ",
       "orientation": "vertical",
       "scale": "IPY_MODEL_177154b8122b4207b69035b2ba6361e0",
       "side": "left",
       "tick_values": null
      }
     },
     "ce9581b6e5a84c2caa4c46857a9b6baf": {
      "model_module": "@jupyter-widgets/controls",
      "model_module_version": "1.5.0",
      "model_name": "HBoxModel",
      "state": {
       "children": [
        "IPY_MODEL_ea5989a3eea8445087836df8b8efdeda",
        "IPY_MODEL_1a267ba9d71d4115a682933c01299881"
       ],
       "layout": "IPY_MODEL_e5de530c6f524edea18941afdbcf01e6"
      }
     },
     "cfec0bf7fa3c4711a83f56fc2dd50408": {
      "model_module": "@jupyter-widgets/controls",
      "model_module_version": "1.5.0",
      "model_name": "SliderStyleModel",
      "state": {
       "description_width": ""
      }
     },
     "cffd660f0c0b4948a6756a03f0d9c380": {
      "model_module": "@jupyter-widgets/base",
      "model_module_version": "1.2.0",
      "model_name": "LayoutModel",
      "state": {
       "width": "80px"
      }
     },
     "d00ad8c05dac459b88ac491413da001f": {
      "model_module": "@jupyter-widgets/base",
      "model_module_version": "1.2.0",
      "model_name": "LayoutModel",
      "state": {}
     },
     "d02eaf1664324728813df45f8d8dd005": {
      "model_module": "bqplot",
      "model_module_version": "^0.5.0",
      "model_name": "LinearScaleModel",
      "state": {
       "allow_padding": false,
       "max": 1,
       "min": 0,
       "stabilized": false
      }
     },
     "d07d69faa9f14d2cb54ea348c0522d76": {
      "model_module": "@jupyter-widgets/controls",
      "model_module_version": "1.5.0",
      "model_name": "SliderStyleModel",
      "state": {
       "description_width": ""
      }
     },
     "d0afabd4eb794c88944427469055b69d": {
      "model_module": "@jupyter-widgets/controls",
      "model_module_version": "1.5.0",
      "model_name": "LabelModel",
      "state": {
       "layout": "IPY_MODEL_ffa57f90d33d41e58b270f36104b9b16",
       "style": "IPY_MODEL_1249b1b3390142ae98ce8e8c20392094",
       "value": "Iterations: "
      }
     },
     "d0bbadea533041c68ca9e7a7be2b7db3": {
      "model_module": "@jupyter-widgets/controls",
      "model_module_version": "1.5.0",
      "model_name": "ButtonStyleModel",
      "state": {}
     },
     "d0d80d889d914cef800add7718cc9de9": {
      "model_module": "bqplot",
      "model_module_version": "^0.5.0",
      "model_name": "AxisModel",
      "state": {
       "label": "Score ",
       "orientation": "vertical",
       "scale": "IPY_MODEL_c052a634aea940bb9a36efbd16cb9986",
       "side": "left",
       "tick_values": null
      }
     },
     "d0f66e578f5d41a2bd7c8ea127f54578": {
      "model_module": "bqplot",
      "model_module_version": "^0.5.0",
      "model_name": "OrdinalScaleModel",
      "state": {
       "_view_name": "OrdinalColorScale",
       "colors": [
        "#1f77b4",
        "#ff7f0e",
        "#2ca02c",
        "#d62728",
        "#9467bd",
        "#8c564b",
        "#e377c2",
        "#7f7f7f",
        "#bcbd22",
        "#17becf"
       ],
       "extrapolation": "constant",
       "max": null,
       "mid": null,
       "min": null,
       "scale_type": "linear",
       "scheme": "RdYlGn"
      }
     },
     "d1283fcf9f2f407cac87c8302160949c": {
      "model_module": "bqplot",
      "model_module_version": "^0.5.0",
      "model_name": "LinearScaleModel",
      "state": {
       "allow_padding": false,
       "max": 1,
       "min": 0,
       "stabilized": false
      }
     },
     "d2bf28ecc31345e1bd2f4b4438d7d305": {
      "model_module": "@jupyter-widgets/controls",
      "model_module_version": "1.5.0",
      "model_name": "ButtonStyleModel",
      "state": {}
     },
     "d2d3c8f0b33d48e1b972e6468cfbd344": {
      "model_module": "bqplot",
      "model_module_version": "^0.5.0",
      "model_name": "LinearScaleModel",
      "state": {
       "stabilized": false
      }
     },
     "d32865b4667d4e6eb6029d4db9d3f380": {
      "model_module": "@jupyter-widgets/controls",
      "model_module_version": "1.5.0",
      "model_name": "ButtonStyleModel",
      "state": {}
     },
     "d33cbd672e64498484eb1baf6cfde8df": {
      "model_module": "@jupyter-widgets/controls",
      "model_module_version": "1.5.0",
      "model_name": "ButtonStyleModel",
      "state": {}
     },
     "d45f2771606448eda69041a40bf58544": {
      "model_module": "@jupyter-widgets/controls",
      "model_module_version": "1.5.0",
      "model_name": "HBoxModel",
      "state": {
       "children": [
        "IPY_MODEL_5b116dd0f27b41a9b3f8e9880a491d71",
        "IPY_MODEL_397340e7367f4d69b64d62043cc3abc1"
       ],
       "layout": "IPY_MODEL_c9187dd00d364d9a9c715c9ee9efcd67"
      }
     },
     "d4a143d5616546e68ef4ff478470c2d5": {
      "model_module": "@jupyter-widgets/base",
      "model_module_version": "1.2.0",
      "model_name": "LayoutModel",
      "state": {}
     },
     "d530a1461c324b6fb03ea53af5c725dd": {
      "model_module": "@jupyter-widgets/controls",
      "model_module_version": "1.5.0",
      "model_name": "SliderStyleModel",
      "state": {
       "description_width": ""
      }
     },
     "d563be7c0fb448baa2f408fcebfbd483": {
      "model_module": "@jupyter-widgets/controls",
      "model_module_version": "1.5.0",
      "model_name": "LabelModel",
      "state": {
       "layout": "IPY_MODEL_8d59e8565add428f91ac1b5c2e3355b0",
       "style": "IPY_MODEL_4a192664023d4576aa3f49f930ae452e",
       "value": "Iterations: "
      }
     },
     "d723737ed572400a8d34e575f5cbfa87": {
      "buffers": [
       {
        "data": "AQAAAAAAAAABAAAAAAAAAAEAAAAAAAAAAQAAAAAAAAABAAAAAAAAAAEAAAAAAAAAAQAAAAAAAAABAAAAAAAAAAEAAAAAAAAAAQAAAAAAAAABAAAAAAAAAAEAAAAAAAAAAQAAAAAAAAABAAAAAAAAAAEAAAAAAAAAAQAAAAAAAAABAAAAAAAAAAEAAAAAAAAAAQAAAAAAAAABAAAAAAAAAAEAAAAAAAAAAQAAAAQAAAABAAAAAAAAAAQAAAAEAAAABAAAAAQAAAAEAAAABAAAAAQAAAAEAAAABAAAAAQAAAAEAAAABAAAAAQAAAAEAAAABAAAAAQAAAAEAAAABAAAAAQAAAAEAAAABAAAAAQAAAAEAAAABAAAAAQAAAAEAAAABAAAAAQAAAAEAAAABAAAAAQAAAAEAAAABAAAAAQAAAAEAAAABAAAAAQAAAAEAAAABAAAAAQAAAAEAAAABAAAAAQAAAAEAAAABAAAAAQAAAAEAAAABAAAAAQAAAAEAAAABAAAAAQAAAAEAAAABAAAAAQAAAAEAAAABAAAAAQAAAAEAAAABAAAAAQAAAAEAAAABAAAAAQAAAAEAAAABAAAAAQAAAAEAAAABAAAAAQAAAAEAAAABAAAAAQAAAAEAAAABAAAAAQAAAAEAAAAAgAAAAMAAAACAAAABAAAAAIAAAADAAAAAgAAAAMAAAACAAAAAwAAAAIAAAADAAAAAgAAAAMAAAACAAAAAwAAAAIAAAADAAAAAgAAAAQAAAACAAAAAwAAAAIAAAADAAAAAgAAAAMAAAACAAAAAwAAAAIAAAADAAAAAgAAAAMAAAACAAAAAwAAAAIAAAADAAAAAgAAAAMAAAACAAAAAwAAAAIAAAADAAAAAgAAAAMAAAACAAAAAwAAAAIAAAADAAAAAgAAAAMAAAACAAAAAwAAAAIAAAADAAAAAgAAAAMAAAACAAAAAwAAAAIAAAADAAAAAgAAAAMAAAACAAAAAwAAAAIAAAADAAAAAgAAAAMAAAACAAAAAwAAAAIAAAADAAAAAgAAAAMAAAACAAAAAwAAAAIAAAA=",
        "encoding": "base64",
        "path": [
         "color",
         "value"
        ]
       },
       {
        "data": "AAAAAAAA8D8=",
        "encoding": "base64",
        "path": [
         "default_opacities",
         "value"
        ]
       },
       {
        "data": "DwAAAA8AAAAQAAAAEAAAABEAAAARAAAAEgAAABIAAAATAAAAEwAAABMAAAATAAAAFAAAABQAAAAUAAAAFAAAABUAAAAVAAAAFwAAABcAAAAYAAAAGAAAABkAAAAZAAAAHAAAABwAAAAcAAAAHAAAAB0AAAAdAAAAHgAAAB4AAAAhAAAAIQAAACEAAAAhAAAAIgAAACIAAAAlAAAAJQAAACYAAAAmAAAAJwAAACcAAAAnAAAAJwAAACgAAAAoAAAAKAAAACgAAAAqAAAAKgAAACsAAAArAAAAKwAAACsAAAAsAAAALAAAAC4AAAAuAAAALgAAAC4AAAAvAAAALwAAADAAAAAwAAAAMAAAADAAAAAwAAAAMAAAADEAAAAxAAAAMgAAADIAAAA2AAAANgAAADYAAAA2AAAANgAAADYAAAA2AAAANgAAADYAAAA2AAAANgAAADYAAAA5AAAAOQAAADoAAAA6AAAAOwAAADsAAAA8AAAAPAAAADwAAAA8AAAAPAAAADwAAAA9AAAAPQAAAD4AAAA+AAAAPgAAAD4AAAA+AAAAPgAAAD8AAAA/AAAAPwAAAD8AAAA/AAAAPwAAAEAAAABAAAAAQQAAAEEAAABBAAAAQQAAAEMAAABDAAAAQwAAAEMAAABFAAAARQAAAEYAAABGAAAARwAAAEcAAABHAAAARwAAAEcAAABHAAAASAAAAEgAAABJAAAASQAAAEkAAABJAAAASgAAAEoAAABLAAAASwAAAEwAAABMAAAATQAAAE0AAABNAAAATQAAAE4AAABOAAAATgAAAE4AAABOAAAATgAAAE4AAABOAAAATgAAAE4AAABOAAAATgAAAE8AAABPAAAAUQAAAFEAAABVAAAAVQAAAFYAAABWAAAAVwAAAFcAAABXAAAAVwAAAFcAAABXAAAAWAAAAFgAAABYAAAAWAAAAF0AAABdAAAAYQAAAGEAAABiAAAAYgAAAGMAAABjAAAAZQAAAGUAAABnAAAAZwAAAGcAAABnAAAAcQAAAHEAAAB4AAAAeAAAAH4AAAB+AAAAiQAAAIkAAAA=",
        "encoding": "base64",
        "path": [
         "x",
         "value"
        ]
       },
       {
        "data": "JwAAAFEAAAAGAAAATQAAACgAAABMAAAABgAAAF4AAAADAAAASAAAAA4AAABjAAAADwAAAE0AAAANAAAATwAAACMAAABCAAAAHQAAAGIAAAAjAAAASQAAAAUAAABJAAAADgAAAFIAAAAgAAAAPQAAAB8AAABXAAAABAAAAEkAAAAEAAAAXAAAAA4AAABRAAAAEQAAAEkAAAAaAAAASwAAACMAAABcAAAAJAAAAD0AAAAcAAAAQQAAADcAAAAvAAAAKgAAACoAAAA0AAAAPAAAADYAAAA8AAAALQAAACkAAAAyAAAALgAAADMAAAAuAAAAOAAAADcAAAA0AAAAOwAAADMAAAA7AAAAMgAAADAAAAA7AAAALwAAADcAAAAqAAAAMQAAADgAAAAvAAAANgAAADUAAAAwAAAANAAAACoAAAAzAAAANwAAACkAAAAsAAAAOQAAAC4AAAA6AAAANwAAADwAAAAuAAAANwAAACkAAAAxAAAAKAAAACoAAAA0AAAALwAAADIAAAAqAAAAMQAAACkAAAAwAAAAOwAAADcAAAA4AAAAKgAAADIAAAAuAAAAKwAAADAAAAA0AAAANgAAACoAAAAuAAAAMAAAADIAAAArAAAAOwAAACsAAAA5AAAAOAAAACgAAAA6AAAAWwAAAB0AAABNAAAAIwAAAF8AAAALAAAASwAAAAkAAABLAAAAIgAAAEcAAAAFAAAAWAAAAAcAAABJAAAACgAAAEgAAAAFAAAAXQAAACgAAABXAAAADAAAAGEAAAAkAAAASgAAABYAAABaAAAAEQAAAFgAAAAUAAAATAAAABAAAABZAAAAAQAAAE4AAAABAAAASQAAACMAAABTAAAABQAAAF0AAAAaAAAASwAAABQAAABfAAAAGwAAAD8AAAANAAAASwAAAAoAAABcAAAADQAAAFYAAAAPAAAARQAAAA4AAABaAAAAIAAAAFYAAAAPAAAAWAAAACcAAABhAAAAGAAAAEQAAAARAAAAVQAAABcAAABFAAAACAAAAFsAAAAQAAAATwAAABwAAABKAAAAEgAAAFMAAAA=",
        "encoding": "base64",
        "path": [
         "y",
         "value"
        ]
       }
      ],
      "model_module": "bqplot",
      "model_module_version": "^0.5.0",
      "model_name": "ScatterModel",
      "state": {
       "color": {
        "dtype": "int32",
        "shape": [
         200
        ],
        "type": null,
        "value": {}
       },
       "default_opacities": {
        "dtype": "float64",
        "shape": [
         1
        ],
        "type": null,
        "value": {}
       },
       "names": null,
       "scales": {
        "color": "IPY_MODEL_b41fb7ddfb82493a962361519c5c68c9",
        "x": "IPY_MODEL_fec947c8f82242f8b2871003bb55437b",
        "y": "IPY_MODEL_c052a634aea940bb9a36efbd16cb9986"
       },
       "scales_metadata": {
        "color": {
         "dimension": "color"
        },
        "opacity": {
         "dimension": "opacity"
        },
        "rotation": {
         "dimension": "rotation"
        },
        "size": {
         "dimension": "size"
        },
        "skew": {
         "dimension": "skew"
        },
        "x": {
         "dimension": "x",
         "orientation": "horizontal"
        },
        "y": {
         "dimension": "y",
         "orientation": "vertical"
        }
       },
       "stroke": "black",
       "x": {
        "dtype": "int32",
        "shape": [
         200
        ],
        "type": null,
        "value": {}
       },
       "y": {
        "dtype": "int32",
        "shape": [
         200
        ],
        "type": null,
        "value": {}
       }
      }
     },
     "d75770cb9d514310964a24d656c0c00e": {
      "model_module": "@jupyter-widgets/controls",
      "model_module_version": "1.5.0",
      "model_name": "SliderStyleModel",
      "state": {
       "description_width": ""
      }
     },
     "d8aa3d1ca0794eb8b8db07052da2f355": {
      "model_module": "bqplot",
      "model_module_version": "^0.5.0",
      "model_name": "ColorScaleModel",
      "state": {
       "colors": [],
       "scale_type": "linear"
      }
     },
     "d920439aade245888a5f6dd9831308b6": {
      "model_module": "bqplot",
      "model_module_version": "^0.5.0",
      "model_name": "AxisModel",
      "state": {
       "label": "Score ",
       "orientation": "vertical",
       "scale": "IPY_MODEL_0b69434092254037a3c010cdc5433c5a",
       "side": "left",
       "tick_values": null
      }
     },
     "d941eda892de4597abe1c7b140558ae5": {
      "model_module": "@jupyter-widgets/controls",
      "model_module_version": "1.5.0",
      "model_name": "SliderStyleModel",
      "state": {
       "description_width": ""
      }
     },
     "d94c88cb4fea45f081dda156f438ae41": {
      "model_module": "@jupyter-widgets/controls",
      "model_module_version": "1.5.0",
      "model_name": "HBoxModel",
      "state": {
       "children": [
        "IPY_MODEL_f7db305588744bcd96963c986ec3c128",
        "IPY_MODEL_df42d95e26b2436dbd16221b1eb7c947"
       ],
       "layout": "IPY_MODEL_adb897f807274db89d7814e1f0b20e41"
      }
     },
     "da1bc06366d34f5c9eb86e2df2aa3a07": {
      "model_module": "bqplot",
      "model_module_version": "^0.5.0",
      "model_name": "FigureModel",
      "state": {
       "_dom_classes": [],
       "animation_duration": 1000,
       "axes": [
        "IPY_MODEL_00f7892d97e14eeabe5bb4171c8564b2",
        "IPY_MODEL_83840e0b364641f281684e439deb8986",
        "IPY_MODEL_2dba03f87f734d38b4036bef41cd921e"
       ],
       "layout": "IPY_MODEL_651259a3c04a4c2386f34647dc89e8f5",
       "marks": [
        "IPY_MODEL_ed48e6b65e054c918201700d421cee43",
        "IPY_MODEL_6ffc74361ae74b8bb7e12a606f77e03b"
       ],
       "scale_x": "IPY_MODEL_42993545644b4cd69c150165ca9f2c49",
       "scale_y": "IPY_MODEL_db2ac18213d54f3a9aa25c0d7efdac08",
       "title": "K-means clustering"
      }
     },
     "da3bbab09ae04d719774b6c04b6480a1": {
      "model_module": "@jupyter-widgets/base",
      "model_module_version": "1.2.0",
      "model_name": "LayoutModel",
      "state": {
       "margin": "60px 0px 0px 0px"
      }
     },
     "db2ac18213d54f3a9aa25c0d7efdac08": {
      "model_module": "bqplot",
      "model_module_version": "^0.5.0",
      "model_name": "LinearScaleModel",
      "state": {
       "allow_padding": false,
       "max": 1,
       "min": 0,
       "stabilized": false
      }
     },
     "db346f0c57474dcc911250b8a152a028": {
      "model_module": "@jupyter-widgets/base",
      "model_module_version": "1.2.0",
      "model_name": "LayoutModel",
      "state": {}
     },
     "db9bfcc866c6430ca3be7871fbb3a55b": {
      "model_module": "@jupyter-widgets/base",
      "model_module_version": "1.2.0",
      "model_name": "LayoutModel",
      "state": {}
     },
     "dc53c59677894a03a2b0209967bf82fe": {
      "model_module": "@jupyter-widgets/controls",
      "model_module_version": "1.5.0",
      "model_name": "FloatSliderModel",
      "state": {
       "description": "cluster std",
       "layout": "IPY_MODEL_646595cb49a04b58b06dd7313bd0f6bc",
       "max": 3,
       "min": 0.5,
       "step": 0.1,
       "style": "IPY_MODEL_d75770cb9d514310964a24d656c0c00e",
       "value": 0.8
      }
     },
     "dd822c89fd8c4b66ac0925dbac856d0f": {
      "model_module": "@jupyter-widgets/base",
      "model_module_version": "1.2.0",
      "model_name": "LayoutModel",
      "state": {
       "width": "80px"
      }
     },
     "deb246abd10846abb0aeeec8449cc157": {
      "model_module": "bqplot",
      "model_module_version": "^0.5.0",
      "model_name": "FigureModel",
      "state": {
       "_dom_classes": [],
       "animation_duration": 1000,
       "axes": [
        "IPY_MODEL_b477e449ef5740b69b6b898f8e510e5e",
        "IPY_MODEL_7bb96579e95a4bd19818e34588718845",
        "IPY_MODEL_4df6e98af4c14c98a657b9307e1c0129"
       ],
       "layout": "IPY_MODEL_439684f1931b42a0b2e821c69fb939e6",
       "marks": [
        "IPY_MODEL_e64417584a1847448f09954c6f2b3b97",
        "IPY_MODEL_0ff35b5501f64a8e9a673bbb861a25ed"
       ],
       "scale_x": "IPY_MODEL_41f52d1b35cd4ae1854f8d28190e1b25",
       "scale_y": "IPY_MODEL_a32ed380c28e4ec2b5f0bd6624b2b972",
       "title": "K-means clustering"
      }
     },
     "df01f1092bba4cd898e185638fb76d3c": {
      "model_module": "bqplot",
      "model_module_version": "^0.5.0",
      "model_name": "OrdinalScaleModel",
      "state": {
       "_view_name": "OrdinalColorScale",
       "colors": [
        "#1f77b4",
        "#ff7f0e",
        "#2ca02c",
        "#d62728",
        "#9467bd",
        "#8c564b",
        "#e377c2",
        "#7f7f7f",
        "#bcbd22",
        "#17becf"
       ],
       "extrapolation": "constant",
       "max": null,
       "mid": null,
       "min": null,
       "scale_type": "linear",
       "scheme": "RdYlGn"
      }
     },
     "df42d95e26b2436dbd16221b1eb7c947": {
      "model_module": "@jupyter-widgets/controls",
      "model_module_version": "1.5.0",
      "model_name": "VBoxModel",
      "state": {
       "children": [
        "IPY_MODEL_f221917d2c794eb68ba4a97b96569fc2",
        "IPY_MODEL_b7a6d478b7a74673b5dc014f3d6a5ecb",
        "IPY_MODEL_bdd9fb8573ac494c8edef0d7de02fae5",
        "IPY_MODEL_e8641ddd0baf4fa2b81e7cf555e17c8e"
       ],
       "layout": "IPY_MODEL_f8bbdf19fd1547fc951f92e744925ae7"
      }
     },
     "e03059240bfd498cbd9bf82781d2de57": {
      "model_module": "bqplot",
      "model_module_version": "^0.5.0",
      "model_name": "OrdinalScaleModel",
      "state": {
       "_view_name": "OrdinalColorScale",
       "colors": [
        "#1f77b4",
        "#ff7f0e",
        "#2ca02c",
        "#d62728",
        "#9467bd",
        "#8c564b",
        "#e377c2",
        "#7f7f7f",
        "#bcbd22",
        "#17becf"
       ],
       "extrapolation": "constant",
       "max": null,
       "mid": null,
       "min": null,
       "scale_type": "linear",
       "scheme": "RdYlGn"
      }
     },
     "e033264f283b45d5a617fcd164c6942a": {
      "model_module": "bqplot",
      "model_module_version": "^0.5.0",
      "model_name": "ColorScaleModel",
      "state": {
       "colors": [],
       "scale_type": "linear"
      }
     },
     "e0865315cf8e4376846c241a9318e3c1": {
      "model_module": "@jupyter-widgets/base",
      "model_module_version": "1.2.0",
      "model_name": "LayoutModel",
      "state": {
       "width": "80px"
      }
     },
     "e0abe734a1a04633bb42c28468fa3241": {
      "model_module": "@jupyter-widgets/controls",
      "model_module_version": "1.5.0",
      "model_name": "ButtonModel",
      "state": {
       "button_style": "success",
       "description": "Graficar",
       "disabled": true,
       "layout": "IPY_MODEL_23a52f217fc244bd909dd32b91670f4c",
       "style": "IPY_MODEL_d33cbd672e64498484eb1baf6cfde8df"
      }
     },
     "e2498db552084283bbbfa13c2d2b8093": {
      "model_module": "@jupyter-widgets/base",
      "model_module_version": "1.2.0",
      "model_name": "LayoutModel",
      "state": {}
     },
     "e37c1918d2a244689bc32e65158fb923": {
      "model_module": "@jupyter-widgets/base",
      "model_module_version": "1.2.0",
      "model_name": "LayoutModel",
      "state": {}
     },
     "e3d79ddb907d45c5a48a84f25a3953b5": {
      "model_module": "@jupyter-widgets/base",
      "model_module_version": "1.2.0",
      "model_name": "LayoutModel",
      "state": {}
     },
     "e4c63a0ad58b49e1b4e9668db97a179e": {
      "model_module": "@jupyter-widgets/base",
      "model_module_version": "1.2.0",
      "model_name": "LayoutModel",
      "state": {}
     },
     "e4dec3403a8f4bafb80c59e1c0337a92": {
      "model_module": "bqplot",
      "model_module_version": "^0.5.0",
      "model_name": "OrdinalScaleModel",
      "state": {
       "_view_name": "OrdinalColorScale",
       "colors": [
        "#1f77b4",
        "#ff7f0e",
        "#2ca02c",
        "#d62728",
        "#9467bd",
        "#8c564b",
        "#e377c2",
        "#7f7f7f",
        "#bcbd22",
        "#17becf"
       ],
       "extrapolation": "constant",
       "max": null,
       "mid": null,
       "min": null,
       "scale_type": "linear",
       "scheme": "RdYlGn"
      }
     },
     "e4e563594cf34218aaebb54aec275abf": {
      "model_module": "@jupyter-widgets/controls",
      "model_module_version": "1.5.0",
      "model_name": "ButtonStyleModel",
      "state": {}
     },
     "e4fac45383c242c5b7847bce096aee9b": {
      "model_module": "@jupyter-widgets/base",
      "model_module_version": "1.2.0",
      "model_name": "LayoutModel",
      "state": {
       "width": "300px"
      }
     },
     "e519528962bd4681a459611867269a0d": {
      "model_module": "@jupyter-widgets/controls",
      "model_module_version": "1.5.0",
      "model_name": "ButtonStyleModel",
      "state": {}
     },
     "e5862a08510d4538990a6011d59bb3d4": {
      "model_module": "@jupyter-widgets/controls",
      "model_module_version": "1.5.0",
      "model_name": "ButtonModel",
      "state": {
       "button_style": "success",
       "description": "Iniciar",
       "disabled": true,
       "layout": "IPY_MODEL_c8ae3a0a59874213a0192716c7c776cb",
       "style": "IPY_MODEL_0dea7fa3ed9642a8b5716f2c674010f1"
      }
     },
     "e5b54aa315004a64b93ba1da35f646b7": {
      "model_module": "bqplot",
      "model_module_version": "^0.5.0",
      "model_name": "LinearScaleModel",
      "state": {
       "allow_padding": false,
       "max": 1,
       "min": 0,
       "stabilized": false
      }
     },
     "e5de530c6f524edea18941afdbcf01e6": {
      "model_module": "@jupyter-widgets/base",
      "model_module_version": "1.2.0",
      "model_name": "LayoutModel",
      "state": {}
     },
     "e64417584a1847448f09954c6f2b3b97": {
      "buffers": [
       {
        "data": "",
        "encoding": "base64",
        "path": [
         "color",
         "value"
        ]
       },
       {
        "data": "AAAAAAAA8D8=",
        "encoding": "base64",
        "path": [
         "default_opacities",
         "value"
        ]
       },
       {
        "data": "",
        "encoding": "base64",
        "path": [
         "x",
         "value"
        ]
       },
       {
        "data": "",
        "encoding": "base64",
        "path": [
         "y",
         "value"
        ]
       }
      ],
      "model_module": "bqplot",
      "model_module_version": "^0.5.0",
      "model_name": "ScatterModel",
      "state": {
       "color": {
        "dtype": "float64",
        "shape": [
         0
        ],
        "type": null,
        "value": {}
       },
       "default_opacities": {
        "dtype": "float64",
        "shape": [
         1
        ],
        "type": null,
        "value": {}
       },
       "names": null,
       "scales": {
        "color": "IPY_MODEL_20e1e7a9fc394a728bf644335bd797bc",
        "x": "IPY_MODEL_582365361829400aad4799f7e4bce656",
        "y": "IPY_MODEL_219b74f3619448d283da4cdf9213c613"
       },
       "scales_metadata": {
        "color": {
         "dimension": "color"
        },
        "opacity": {
         "dimension": "opacity"
        },
        "rotation": {
         "dimension": "rotation"
        },
        "size": {
         "dimension": "size"
        },
        "skew": {
         "dimension": "skew"
        },
        "x": {
         "dimension": "x",
         "orientation": "horizontal"
        },
        "y": {
         "dimension": "y",
         "orientation": "vertical"
        }
       },
       "stroke": "black",
       "x": {
        "dtype": "float64",
        "shape": [
         0
        ],
        "type": null,
        "value": {}
       },
       "y": {
        "dtype": "float64",
        "shape": [
         0
        ],
        "type": null,
        "value": {}
       }
      }
     },
     "e66e620153c34573a25190113ae500c7": {
      "model_module": "bqplot",
      "model_module_version": "^0.5.0",
      "model_name": "LinearScaleModel",
      "state": {
       "stabilized": false
      }
     },
     "e67463c197dd480dab7fd75d43a68ee5": {
      "model_module": "@jupyter-widgets/base",
      "model_module_version": "1.2.0",
      "model_name": "LayoutModel",
      "state": {
       "height": "700px",
       "width": "700px"
      }
     },
     "e8641ddd0baf4fa2b81e7cf555e17c8e": {
      "model_module": "@jupyter-widgets/controls",
      "model_module_version": "1.5.0",
      "model_name": "LabelModel",
      "state": {
       "layout": "IPY_MODEL_f720ffc9ef7b4863952650fe4b9d2f75",
       "style": "IPY_MODEL_63300d0b46f1434e8a3e99d361c3d12b",
       "value": "Iterations: "
      }
     },
     "e91f18682f6d422d87e50f352c319423": {
      "model_module": "bqplot",
      "model_module_version": "^0.5.0",
      "model_name": "LinearScaleModel",
      "state": {
       "stabilized": false
      }
     },
     "e9634f6b27cf4125849fb1c53fb95758": {
      "model_module": "bqplot",
      "model_module_version": "^0.5.0",
      "model_name": "AxisModel",
      "state": {
       "label": "Score ",
       "orientation": "vertical",
       "scale": "IPY_MODEL_695b4eb232b44c3bbb55e3163f8f494e",
       "side": "left",
       "tick_values": null
      }
     },
     "e9b0228dcf724fdfa7fe67f9b5b60ff2": {
      "model_module": "@jupyter-widgets/base",
      "model_module_version": "1.2.0",
      "model_name": "LayoutModel",
      "state": {}
     },
     "e9fe36c23f5f4c5188b7db5089b069ec": {
      "model_module": "bqplot",
      "model_module_version": "^0.5.0",
      "model_name": "AxisModel",
      "state": {
       "label": "Ingresos ",
       "orientation": "vertical",
       "scale": "IPY_MODEL_223748be18c24624ac398c124286d007",
       "side": "left",
       "tick_values": null
      }
     },
     "ea5989a3eea8445087836df8b8efdeda": {
      "model_module": "bqplot",
      "model_module_version": "^0.5.0",
      "model_name": "FigureModel",
      "state": {
       "_dom_classes": [],
       "animation_duration": 1000,
       "axes": [
        "IPY_MODEL_70b2f688f35749dbab00e67812492750",
        "IPY_MODEL_348429b6caf54ebf80121632d96e27bb",
        "IPY_MODEL_4ec7c53ee046464ba949fcff58d18e15"
       ],
       "layout": "IPY_MODEL_f7eac26893fc483ea81ef1ad80132c95",
       "marks": [
        "IPY_MODEL_c850a37c106a4321a3bdaed99149bf5e",
        "IPY_MODEL_8a631e8d052b408fa1512f39ed23b854"
       ],
       "scale_x": "IPY_MODEL_d02eaf1664324728813df45f8d8dd005",
       "scale_y": "IPY_MODEL_89aeb5163fbb4c0a9fb3eab720484e3a",
       "title": "K-means clustering"
      }
     },
     "eb14e0454394462096f2cef188d30a65": {
      "model_module": "bqplot",
      "model_module_version": "^0.5.0",
      "model_name": "FigureModel",
      "state": {
       "_dom_classes": [],
       "animation_duration": 1000,
       "axes": [
        "IPY_MODEL_0835c70e026e41dcadab28d2bda8ff6f",
        "IPY_MODEL_5200f76246ba4657850fd93e05cf5288",
        "IPY_MODEL_4bd42f734e42405385b9686d1639b634"
       ],
       "layout": "IPY_MODEL_7dda6938e54145fea45218d21d7bf9af",
       "marks": [
        "IPY_MODEL_65fe6d08537e40b3a7edba9c5d7dfdc4",
        "IPY_MODEL_836d0c275469473cb75a23af76e6d8a6"
       ],
       "scale_x": "IPY_MODEL_241f012562e248ec950d4d1987f29646",
       "scale_y": "IPY_MODEL_e5b54aa315004a64b93ba1da35f646b7",
       "title": "K-means clustering"
      }
     },
     "eb32c5f0f2c243908c1f1ed35d7e34ad": {
      "model_module": "@jupyter-widgets/base",
      "model_module_version": "1.2.0",
      "model_name": "LayoutModel",
      "state": {}
     },
     "eb47f05bf2164876a7e3ed3b96177ca9": {
      "model_module": "bqplot",
      "model_module_version": "^0.5.0",
      "model_name": "AxisModel",
      "state": {
       "label": "Edad",
       "scale": "IPY_MODEL_0bde0b67d3f047c492a4a2ed6665e320",
       "side": "bottom",
       "tick_values": null
      }
     },
     "ebb4d7c5e7ac4f23a43e11bac206cce1": {
      "model_module": "@jupyter-widgets/base",
      "model_module_version": "1.2.0",
      "model_name": "LayoutModel",
      "state": {
       "margin": "60px 0px 0px 0px"
      }
     },
     "ed48e6b65e054c918201700d421cee43": {
      "buffers": [
       {
        "data": "AAAAAAIAAAABAAAAAgAAAAAAAAACAAAAAQAAAAIAAAABAAAAAgAAAAEAAAACAAAAAQAAAAIAAAABAAAAAgAAAAAAAAACAAAAAQAAAAIAAAAAAAAAAgAAAAEAAAACAAAAAQAAAAIAAAAAAAAAAAAAAAAAAAACAAAAAQAAAAIAAAABAAAAAgAAAAEAAAACAAAAAQAAAAIAAAABAAAAAgAAAAAAAAACAAAAAAAAAAIAAAABAAAAAgAAAAAAAAAAAAAAAAAAAAAAAAAAAAAAAAAAAAAAAAAAAAAAAAAAAAAAAAAAAAAAAAAAAAAAAAAAAAAAAAAAAAAAAAAAAAAAAAAAAAAAAAACAAAAAAAAAAAAAAACAAAAAAAAAAAAAAAAAAAAAAAAAAAAAAAAAAAAAAAAAAAAAAAAAAAAAAAAAAAAAAAAAAAAAAAAAAAAAAAAAAAAAgAAAAAAAAAAAAAAAAAAAAAAAAAAAAAAAAAAAAAAAAAAAAAAAAAAAAAAAAAAAAAAAAAAAAAAAAAAAAAAAAAAAAAAAAAAAAAAAAAAAAAAAAAAAAAAAAAAAAAAAAAAAAAAAAAAAAAAAAAAAAAAAAAAAAAAAAAAAAAAAAAAAAAAAAAAAAAAAAAAAAAAAAAAAAAAAAAAAAAAAAAAAAAAAgAAAAEAAAACAAAAAAAAAAIAAAABAAAAAgAAAAEAAAACAAAAAAAAAAIAAAABAAAAAgAAAAEAAAACAAAAAQAAAAIAAAABAAAAAgAAAAAAAAACAAAAAQAAAAIAAAAAAAAAAgAAAAEAAAACAAAAAQAAAAIAAAABAAAAAgAAAAEAAAACAAAAAQAAAAIAAAABAAAAAgAAAAAAAAACAAAAAQAAAAIAAAABAAAAAgAAAAEAAAACAAAAAQAAAAIAAAABAAAAAgAAAAEAAAACAAAAAQAAAAIAAAABAAAAAgAAAAEAAAACAAAAAAAAAAIAAAABAAAAAgAAAAAAAAACAAAAAQAAAAIAAAABAAAAAgAAAAEAAAACAAAAAQAAAAIAAAABAAAAAgAAAAEAAAACAAAAAQAAAAIAAAA=",
        "encoding": "base64",
        "path": [
         "color",
         "value"
        ]
       },
       {
        "data": "AAAAAAAA8D8=",
        "encoding": "base64",
        "path": [
         "default_opacities",
         "value"
        ]
       },
       {
        "data": "EwAAABUAAAAUAAAAFwAAAB8AAAAWAAAAIwAAABcAAABAAAAAHgAAAEMAAAAjAAAAOgAAABgAAAAlAAAAFgAAACMAAAAUAAAANAAAACMAAAAjAAAAGQAAAC4AAAAfAAAANgAAAB0AAAAtAAAAIwAAACgAAAAXAAAAPAAAABUAAAA1AAAAEgAAADEAAAAVAAAAKgAAAB4AAAAkAAAAFAAAAEEAAAAYAAAAMAAAAB8AAAAxAAAAGAAAADIAAAAbAAAAHQAAAB8AAAAxAAAAIQAAAB8AAAA7AAAAMgAAAC8AAAAzAAAARQAAABsAAAA1AAAARgAAABMAAABDAAAANgAAAD8AAAASAAAAKwAAAEQAAAATAAAAIAAAAEYAAAAvAAAAPAAAADwAAAA7AAAAGgAAAC0AAAAoAAAAFwAAADEAAAA5AAAAJgAAAEMAAAAuAAAAFQAAADAAAAA3AAAAFgAAACIAAAAyAAAARAAAABIAAAAwAAAAKAAAACAAAAAYAAAALwAAABsAAAAwAAAAFAAAABcAAAAxAAAAQwAAABoAAAAxAAAAFQAAAEIAAAA2AAAARAAAAEIAAABBAAAAEwAAACYAAAATAAAAEgAAABMAAAA/AAAAMQAAADMAAAAyAAAAGwAAACYAAAAoAAAAJwAAABcAAAAfAAAAKwAAACgAAAA7AAAAJgAAAC8AAAAnAAAAGQAAAB8AAAAUAAAAHQAAACwAAAAgAAAAEwAAACMAAAA5AAAAIAAAABwAAAAgAAAAGQAAABwAAAAwAAAAIAAAACIAAAAiAAAAKwAAACcAAAAsAAAAJgAAAC8AAAAbAAAAJQAAAB4AAAAiAAAAHgAAADgAAAAdAAAAEwAAAB8AAAAyAAAAJAAAACoAAAAhAAAAJAAAACAAAAAoAAAAHAAAACQAAAAkAAAANAAAAB4AAAA6AAAAGwAAADsAAAAjAAAAJQAAACAAAAAuAAAAHQAAACkAAAAeAAAANgAAABwAAAApAAAAJAAAACIAAAAgAAAAIQAAACYAAAAvAAAAIwAAAC0AAAAgAAAAIAAAAB4AAAA=",
        "encoding": "base64",
        "path": [
         "x",
         "value"
        ]
       },
       {
        "data": "JwAAAFEAAAAGAAAATQAAACgAAABMAAAABgAAAF4AAAADAAAASAAAAA4AAABjAAAADwAAAE0AAAANAAAATwAAACMAAABCAAAAHQAAAGIAAAAjAAAASQAAAAUAAABJAAAADgAAAFIAAAAgAAAAPQAAAB8AAABXAAAABAAAAEkAAAAEAAAAXAAAAA4AAABRAAAAEQAAAEkAAAAaAAAASwAAACMAAABcAAAAJAAAAD0AAAAcAAAAQQAAADcAAAAvAAAAKgAAACoAAAA0AAAAPAAAADYAAAA8AAAALQAAACkAAAAyAAAALgAAADMAAAAuAAAAOAAAADcAAAA0AAAAOwAAADMAAAA7AAAAMgAAADAAAAA7AAAALwAAADcAAAAqAAAAMQAAADgAAAAvAAAANgAAADUAAAAwAAAANAAAACoAAAAzAAAANwAAACkAAAAsAAAAOQAAAC4AAAA6AAAANwAAADwAAAAuAAAANwAAACkAAAAxAAAAKAAAACoAAAA0AAAALwAAADIAAAAqAAAAMQAAACkAAAAwAAAAOwAAADcAAAA4AAAAKgAAADIAAAAuAAAAKwAAADAAAAA0AAAANgAAACoAAAAuAAAAMAAAADIAAAArAAAAOwAAACsAAAA5AAAAOAAAACgAAAA6AAAAWwAAAB0AAABNAAAAIwAAAF8AAAALAAAASwAAAAkAAABLAAAAIgAAAEcAAAAFAAAAWAAAAAcAAABJAAAACgAAAEgAAAAFAAAAXQAAACgAAABXAAAADAAAAGEAAAAkAAAASgAAABYAAABaAAAAEQAAAFgAAAAUAAAATAAAABAAAABZAAAAAQAAAE4AAAABAAAASQAAACMAAABTAAAABQAAAF0AAAAaAAAASwAAABQAAABfAAAAGwAAAD8AAAANAAAASwAAAAoAAABcAAAADQAAAFYAAAAPAAAARQAAAA4AAABaAAAAIAAAAFYAAAAPAAAAWAAAACcAAABhAAAAGAAAAEQAAAARAAAAVQAAABcAAABFAAAACAAAAFsAAAAQAAAATwAAABwAAABKAAAAEgAAAFMAAAA=",
        "encoding": "base64",
        "path": [
         "y",
         "value"
        ]
       }
      ],
      "model_module": "bqplot",
      "model_module_version": "^0.5.0",
      "model_name": "ScatterModel",
      "state": {
       "color": {
        "dtype": "int32",
        "shape": [
         200
        ],
        "type": null,
        "value": {}
       },
       "default_opacities": {
        "dtype": "float64",
        "shape": [
         1
        ],
        "type": null,
        "value": {}
       },
       "names": null,
       "scales": {
        "color": "IPY_MODEL_a08c42dbf182450cb4f1dc9ce01d78bc",
        "x": "IPY_MODEL_37763fd9c58640d6bd01593e4ffe69e9",
        "y": "IPY_MODEL_740d1eec29be4ae3b85ecbe285d729a2"
       },
       "scales_metadata": {
        "color": {
         "dimension": "color"
        },
        "opacity": {
         "dimension": "opacity"
        },
        "rotation": {
         "dimension": "rotation"
        },
        "size": {
         "dimension": "size"
        },
        "skew": {
         "dimension": "skew"
        },
        "x": {
         "dimension": "x",
         "orientation": "horizontal"
        },
        "y": {
         "dimension": "y",
         "orientation": "vertical"
        }
       },
       "stroke": "black",
       "x": {
        "dtype": "int32",
        "shape": [
         200
        ],
        "type": null,
        "value": {}
       },
       "y": {
        "dtype": "int32",
        "shape": [
         200
        ],
        "type": null,
        "value": {}
       }
      }
     },
     "ed4af253038b4eeeaa1489256bb28ac0": {
      "model_module": "bqplot",
      "model_module_version": "^0.5.0",
      "model_name": "ColorAxisModel",
      "state": {
       "scale": "IPY_MODEL_3b02c938890f4337a7ef8cb0d2c73d7f",
       "side": "bottom",
       "tick_values": null,
       "visible": false
      }
     },
     "ef16a84517d44b79896841de291a952f": {
      "model_module": "@jupyter-widgets/controls",
      "model_module_version": "1.5.0",
      "model_name": "DescriptionStyleModel",
      "state": {
       "description_width": ""
      }
     },
     "efc6b16a51034b62bef7b29775fd514b": {
      "model_module": "@jupyter-widgets/base",
      "model_module_version": "1.2.0",
      "model_name": "LayoutModel",
      "state": {}
     },
     "f022407a45244f51a43f9caa52ecb1e6": {
      "model_module": "@jupyter-widgets/base",
      "model_module_version": "1.2.0",
      "model_name": "LayoutModel",
      "state": {}
     },
     "f0a52d728dc944b5b8355bfb44efa791": {
      "model_module": "@jupyter-widgets/controls",
      "model_module_version": "1.5.0",
      "model_name": "ButtonStyleModel",
      "state": {}
     },
     "f1139cd7158b4e45ae1155bae00a1118": {
      "model_module": "@jupyter-widgets/base",
      "model_module_version": "1.2.0",
      "model_name": "LayoutModel",
      "state": {}
     },
     "f221917d2c794eb68ba4a97b96569fc2": {
      "model_module": "@jupyter-widgets/controls",
      "model_module_version": "1.5.0",
      "model_name": "IntSliderModel",
      "state": {
       "description": "Núm. Clusters",
       "layout": "IPY_MODEL_c65e256da561404596a32649ab7e87cb",
       "max": 10,
       "min": 2,
       "style": "IPY_MODEL_b274c26588204e2385d4ff6e8792f1d7",
       "value": 3
      }
     },
     "f338c97a09694db380b2067f9b3b0fa8": {
      "model_module": "@jupyter-widgets/controls",
      "model_module_version": "1.5.0",
      "model_name": "SliderStyleModel",
      "state": {
       "description_width": ""
      }
     },
     "f3c4445ad29f459f9d52e846b83f1311": {
      "model_module": "bqplot",
      "model_module_version": "^0.5.0",
      "model_name": "ColorAxisModel",
      "state": {
       "scale": "IPY_MODEL_b41fb7ddfb82493a962361519c5c68c9",
       "side": "bottom",
       "tick_values": null,
       "visible": false
      }
     },
     "f447dc0b37864edda0d824c4f1250614": {
      "model_module": "@jupyter-widgets/controls",
      "model_module_version": "1.5.0",
      "model_name": "IntSliderModel",
      "state": {
       "description": "Núm. Clusters",
       "layout": "IPY_MODEL_69e44c2ea3304fea98bdbc92bf3deec9",
       "max": 10,
       "min": 2,
       "style": "IPY_MODEL_a1ba1f10ce0846b2a5d1ca6f9bc391c5",
       "value": 3
      }
     },
     "f5150e9e542f4c849c396a526b79b354": {
      "model_module": "bqplot",
      "model_module_version": "^0.5.0",
      "model_name": "LinearScaleModel",
      "state": {
       "stabilized": false
      }
     },
     "f5692f9508d943e8b369d21d40784757": {
      "model_module": "@jupyter-widgets/controls",
      "model_module_version": "1.5.0",
      "model_name": "ButtonModel",
      "state": {
       "button_style": "success",
       "description": "Graficar",
       "layout": "IPY_MODEL_bf5c0d3ddf7d477fad3a46439b9100e5",
       "style": "IPY_MODEL_5d0518a6c84842bfa020dc2178eb4bc2"
      }
     },
     "f677638d556f4b75b5dbbe52f51a2c4b": {
      "buffers": [
       {
        "data": "AgAAAAIAAAACAAAAAgAAAAIAAAACAAAAAgAAAAIAAAACAAAAAgAAAAIAAAACAAAAAgAAAAIAAAACAAAAAgAAAAIAAAACAAAAAgAAAAIAAAACAAAAAgAAAAIAAAACAAAAAgAAAAIAAAACAAAAAgAAAAIAAAACAAAAAgAAAAIAAAACAAAAAgAAAAIAAAACAAAAAgAAAAIAAAACAAAAAgAAAAIAAAACAAAAAgAAAAIAAAACAAAAAgAAAAIAAAACAAAAAgAAAAIAAAACAAAAAgAAAAIAAAACAAAAAgAAAAIAAAACAAAAAgAAAAIAAAACAAAAAgAAAAIAAAACAAAAAgAAAAIAAAACAAAAAgAAAAIAAAACAAAAAgAAAAIAAAACAAAAAgAAAAIAAAABAAAAAQAAAAEAAAABAAAAAQAAAAEAAAABAAAAAQAAAAEAAAABAAAAAQAAAAEAAAABAAAAAQAAAAEAAAABAAAAAQAAAAEAAAABAAAAAQAAAAEAAAABAAAAAQAAAAEAAAABAAAAAQAAAAEAAAABAAAAAQAAAAEAAAABAAAAAQAAAAEAAAABAAAAAQAAAAEAAAABAAAAAQAAAAEAAAABAAAAAQAAAAEAAAABAAAAAQAAAAEAAAABAAAAAQAAAAEAAAABAAAAAQAAAAEAAAABAAAAAQAAAAEAAAABAAAAAQAAAAEAAAABAAAAAQAAAAEAAAABAAAAAQAAAAEAAAABAAAAAQAAAAEAAAABAAAAAQAAAAEAAAABAAAAAQAAAAEAAAABAAAAAQAAAAEAAAABAAAAAQAAAAEAAAABAAAAAQAAAAEAAAABAAAAAQAAAAEAAAABAAAAAQAAAAEAAAABAAAAAQAAAAEAAAAAAAAAAAAAAAAAAAAAAAAAAAAAAAAAAAAAAAAAAAAAAAAAAAAAAAAAAAAAAAAAAAAAAAAAAAAAAAAAAAAAAAAAAAAAAAAAAAAAAAAAAAAAAAAAAAAAAAAAAAAAAAAAAAAAAAAAAAAAAAAAAAAAAAAAAAAAAAAAAAAAAAAAAAAAAAAAAAAAAAAAAAAAAAAAAAA=",
        "encoding": "base64",
        "path": [
         "color",
         "value"
        ]
       },
       {
        "data": "AAAAAAAA8D8=",
        "encoding": "base64",
        "path": [
         "default_opacities",
         "value"
        ]
       },
       {
        "data": "EwAAABUAAAAUAAAAFwAAAB8AAAAWAAAAIwAAABcAAABAAAAAHgAAAEMAAAAjAAAAOgAAABgAAAAlAAAAFgAAACMAAAAUAAAANAAAACMAAAAjAAAAGQAAAC4AAAAfAAAANgAAAB0AAAAtAAAAIwAAACgAAAAXAAAAPAAAABUAAAA1AAAAEgAAADEAAAAVAAAAKgAAAB4AAAAkAAAAFAAAAEEAAAAYAAAAMAAAAB8AAAAxAAAAGAAAADIAAAAbAAAAHQAAAB8AAAAxAAAAIQAAAB8AAAA7AAAAMgAAAC8AAAAzAAAARQAAABsAAAA1AAAARgAAABMAAABDAAAANgAAAD8AAAASAAAAKwAAAEQAAAATAAAAIAAAAEYAAAAvAAAAPAAAADwAAAA7AAAAGgAAAC0AAAAoAAAAFwAAADEAAAA5AAAAJgAAAEMAAAAuAAAAFQAAADAAAAA3AAAAFgAAACIAAAAyAAAARAAAABIAAAAwAAAAKAAAACAAAAAYAAAALwAAABsAAAAwAAAAFAAAABcAAAAxAAAAQwAAABoAAAAxAAAAFQAAAEIAAAA2AAAARAAAAEIAAABBAAAAEwAAACYAAAATAAAAEgAAABMAAAA/AAAAMQAAADMAAAAyAAAAGwAAACYAAAAoAAAAJwAAABcAAAAfAAAAKwAAACgAAAA7AAAAJgAAAC8AAAAnAAAAGQAAAB8AAAAUAAAAHQAAACwAAAAgAAAAEwAAACMAAAA5AAAAIAAAABwAAAAgAAAAGQAAABwAAAAwAAAAIAAAACIAAAAiAAAAKwAAACcAAAAsAAAAJgAAAC8AAAAbAAAAJQAAAB4AAAAiAAAAHgAAADgAAAAdAAAAEwAAAB8AAAAyAAAAJAAAACoAAAAhAAAAJAAAACAAAAAoAAAAHAAAACQAAAAkAAAANAAAAB4AAAA6AAAAGwAAADsAAAAjAAAAJQAAACAAAAAuAAAAHQAAACkAAAAeAAAANgAAABwAAAApAAAAJAAAACIAAAAgAAAAIQAAACYAAAAvAAAAIwAAAC0AAAAgAAAAIAAAAB4AAAA=",
        "encoding": "base64",
        "path": [
         "x",
         "value"
        ]
       },
       {
        "data": "DwAAAA8AAAAQAAAAEAAAABEAAAARAAAAEgAAABIAAAATAAAAEwAAABMAAAATAAAAFAAAABQAAAAUAAAAFAAAABUAAAAVAAAAFwAAABcAAAAYAAAAGAAAABkAAAAZAAAAHAAAABwAAAAcAAAAHAAAAB0AAAAdAAAAHgAAAB4AAAAhAAAAIQAAACEAAAAhAAAAIgAAACIAAAAlAAAAJQAAACYAAAAmAAAAJwAAACcAAAAnAAAAJwAAACgAAAAoAAAAKAAAACgAAAAqAAAAKgAAACsAAAArAAAAKwAAACsAAAAsAAAALAAAAC4AAAAuAAAALgAAAC4AAAAvAAAALwAAADAAAAAwAAAAMAAAADAAAAAwAAAAMAAAADEAAAAxAAAAMgAAADIAAAA2AAAANgAAADYAAAA2AAAANgAAADYAAAA2AAAANgAAADYAAAA2AAAANgAAADYAAAA5AAAAOQAAADoAAAA6AAAAOwAAADsAAAA8AAAAPAAAADwAAAA8AAAAPAAAADwAAAA9AAAAPQAAAD4AAAA+AAAAPgAAAD4AAAA+AAAAPgAAAD8AAAA/AAAAPwAAAD8AAAA/AAAAPwAAAEAAAABAAAAAQQAAAEEAAABBAAAAQQAAAEMAAABDAAAAQwAAAEMAAABFAAAARQAAAEYAAABGAAAARwAAAEcAAABHAAAARwAAAEcAAABHAAAASAAAAEgAAABJAAAASQAAAEkAAABJAAAASgAAAEoAAABLAAAASwAAAEwAAABMAAAATQAAAE0AAABNAAAATQAAAE4AAABOAAAATgAAAE4AAABOAAAATgAAAE4AAABOAAAATgAAAE4AAABOAAAATgAAAE8AAABPAAAAUQAAAFEAAABVAAAAVQAAAFYAAABWAAAAVwAAAFcAAABXAAAAVwAAAFcAAABXAAAAWAAAAFgAAABYAAAAWAAAAF0AAABdAAAAYQAAAGEAAABiAAAAYgAAAGMAAABjAAAAZQAAAGUAAABnAAAAZwAAAGcAAABnAAAAcQAAAHEAAAB4AAAAeAAAAH4AAAB+AAAAiQAAAIkAAAA=",
        "encoding": "base64",
        "path": [
         "y",
         "value"
        ]
       }
      ],
      "model_module": "bqplot",
      "model_module_version": "^0.5.0",
      "model_name": "ScatterModel",
      "state": {
       "color": {
        "dtype": "int32",
        "shape": [
         200
        ],
        "type": null,
        "value": {}
       },
       "default_opacities": {
        "dtype": "float64",
        "shape": [
         1
        ],
        "type": null,
        "value": {}
       },
       "names": null,
       "scales": {
        "color": "IPY_MODEL_df01f1092bba4cd898e185638fb76d3c",
        "x": "IPY_MODEL_b428ae6097a147568a3e641f7a2c6600",
        "y": "IPY_MODEL_223748be18c24624ac398c124286d007"
       },
       "scales_metadata": {
        "color": {
         "dimension": "color"
        },
        "opacity": {
         "dimension": "opacity"
        },
        "rotation": {
         "dimension": "rotation"
        },
        "size": {
         "dimension": "size"
        },
        "skew": {
         "dimension": "skew"
        },
        "x": {
         "dimension": "x",
         "orientation": "horizontal"
        },
        "y": {
         "dimension": "y",
         "orientation": "vertical"
        }
       },
       "stroke": "black",
       "x": {
        "dtype": "int32",
        "shape": [
         200
        ],
        "type": null,
        "value": {}
       },
       "y": {
        "dtype": "int32",
        "shape": [
         200
        ],
        "type": null,
        "value": {}
       }
      }
     },
     "f6d21d99fd624a8d98591bec791c3029": {
      "model_module": "@jupyter-widgets/controls",
      "model_module_version": "1.5.0",
      "model_name": "DescriptionStyleModel",
      "state": {
       "description_width": ""
      }
     },
     "f6dd4d08dc2649969fa83cbe45d19dac": {
      "model_module": "@jupyter-widgets/base",
      "model_module_version": "1.2.0",
      "model_name": "LayoutModel",
      "state": {}
     },
     "f6f73e7d6f464458acdbb2fd4c6a941b": {
      "model_module": "@jupyter-widgets/base",
      "model_module_version": "1.2.0",
      "model_name": "LayoutModel",
      "state": {
       "height": "700px",
       "width": "700px"
      }
     },
     "f720ffc9ef7b4863952650fe4b9d2f75": {
      "model_module": "@jupyter-widgets/base",
      "model_module_version": "1.2.0",
      "model_name": "LayoutModel",
      "state": {
       "width": "300px"
      }
     },
     "f7d623b0ab8041d38008453f01732e3a": {
      "model_module": "@jupyter-widgets/controls",
      "model_module_version": "1.5.0",
      "model_name": "FloatSliderModel",
      "state": {
       "description": "cluster std",
       "layout": "IPY_MODEL_bfb2e2a2957a416f9d965245a4926335",
       "max": 3,
       "min": 0.5,
       "step": 0.1,
       "style": "IPY_MODEL_a88f07dc89b0437c81ed26d5b15e6fc4",
       "value": 0.8
      }
     },
     "f7db305588744bcd96963c986ec3c128": {
      "model_module": "bqplot",
      "model_module_version": "^0.5.0",
      "model_name": "FigureModel",
      "state": {
       "_dom_classes": [],
       "animation_duration": 1000,
       "axes": [
        "IPY_MODEL_ed4af253038b4eeeaa1489256bb28ac0",
        "IPY_MODEL_a29c441e65154a4ba8d3b5a1c4ddf1c1",
        "IPY_MODEL_55d8e3dbd7b34f10aebd4470683b70d9"
       ],
       "layout": "IPY_MODEL_29e1aa64fe834d63a4782a7b4c6ae036",
       "marks": [
        "IPY_MODEL_adcd06ee580745ce9783c663481fa504",
        "IPY_MODEL_8265294fbc1e487ebdf01814a1fc7e33"
       ],
       "scale_x": "IPY_MODEL_1a033e7f80f147dca2c3e9eed7f3fb90",
       "scale_y": "IPY_MODEL_35eb87d0c9a6447f9921bab4a4518458",
       "title": "K-means clustering"
      }
     },
     "f7eac26893fc483ea81ef1ad80132c95": {
      "model_module": "@jupyter-widgets/base",
      "model_module_version": "1.2.0",
      "model_name": "LayoutModel",
      "state": {
       "height": "700px",
       "width": "700px"
      }
     },
     "f7f89de86cb64396bc354cde00c36b9b": {
      "model_module": "@jupyter-widgets/base",
      "model_module_version": "1.2.0",
      "model_name": "LayoutModel",
      "state": {
       "margin": "60px 0px 0px 0px"
      }
     },
     "f8bbdf19fd1547fc951f92e744925ae7": {
      "model_module": "@jupyter-widgets/base",
      "model_module_version": "1.2.0",
      "model_name": "LayoutModel",
      "state": {
       "margin": "60px 0px 0px 0px"
      }
     },
     "f8c65cccf2fe4f2fbf94971803a92adc": {
      "model_module": "@jupyter-widgets/controls",
      "model_module_version": "1.5.0",
      "model_name": "VBoxModel",
      "state": {
       "children": [
        "IPY_MODEL_eb14e0454394462096f2cef188d30a65"
       ],
       "layout": "IPY_MODEL_1ab75d6fb84047868dc5ec1e2af624a6"
      }
     },
     "faa0460ac40d4a9395109221f89837d0": {
      "model_module": "@jupyter-widgets/controls",
      "model_module_version": "1.5.0",
      "model_name": "VBoxModel",
      "state": {
       "children": [
        "IPY_MODEL_5ca26c5cc20d461cbadf42eacd4d682b",
        "IPY_MODEL_c8a7a8525ca243ff9dc045a16a508be0",
        "IPY_MODEL_350396d815754b1093693092b4da17a7",
        "IPY_MODEL_5f8bcedf9f654206a402abb50b2da4d7"
       ],
       "layout": "IPY_MODEL_95ea69268b4c4854a65697b5f21645c5"
      }
     },
     "faeba7fcf1124c4f9b277959e2144448": {
      "model_module": "@jupyter-widgets/controls",
      "model_module_version": "1.5.0",
      "model_name": "ButtonStyleModel",
      "state": {}
     },
     "fb49f79e276c4345bf2e90e46a9cef4c": {
      "model_module": "@jupyter-widgets/controls",
      "model_module_version": "1.5.0",
      "model_name": "SliderStyleModel",
      "state": {
       "description_width": ""
      }
     },
     "fc3e5d6ba5df4e2d9c95c4fcfb8dca1a": {
      "model_module": "@jupyter-widgets/base",
      "model_module_version": "1.2.0",
      "model_name": "LayoutModel",
      "state": {
       "height": "700px",
       "width": "700px"
      }
     },
     "fe38ce1c96d649bca77916d8adf4f79a": {
      "model_module": "@jupyter-widgets/base",
      "model_module_version": "1.2.0",
      "model_name": "LayoutModel",
      "state": {
       "width": "300px"
      }
     },
     "fe99c8dfb5d64e46b2b847a505778928": {
      "model_module": "@jupyter-widgets/base",
      "model_module_version": "1.2.0",
      "model_name": "LayoutModel",
      "state": {
       "width": "300px"
      }
     },
     "fec947c8f82242f8b2871003bb55437b": {
      "model_module": "bqplot",
      "model_module_version": "^0.5.0",
      "model_name": "LinearScaleModel",
      "state": {
       "stabilized": false
      }
     },
     "ff3bc8f34e3e41b49ba571670c58d379": {
      "model_module": "@jupyter-widgets/controls",
      "model_module_version": "1.5.0",
      "model_name": "FloatSliderModel",
      "state": {
       "description": "cluster std",
       "layout": "IPY_MODEL_3172013a94124a139f60568e3e7258a3",
       "max": 3,
       "min": 0.5,
       "step": 0.1,
       "style": "IPY_MODEL_d07d69faa9f14d2cb54ea348c0522d76",
       "value": 0.8
      }
     },
     "ff3e17d96e7043f8952c229fba4628ed": {
      "model_module": "@jupyter-widgets/controls",
      "model_module_version": "1.5.0",
      "model_name": "SliderStyleModel",
      "state": {
       "description_width": ""
      }
     },
     "ffa12832e87b429094d3ed527252eac7": {
      "model_module": "@jupyter-widgets/controls",
      "model_module_version": "1.5.0",
      "model_name": "SliderStyleModel",
      "state": {
       "description_width": ""
      }
     },
     "ffa57f90d33d41e58b270f36104b9b16": {
      "model_module": "@jupyter-widgets/base",
      "model_module_version": "1.2.0",
      "model_name": "LayoutModel",
      "state": {
       "width": "300px"
      }
     },
     "ffcba3149bd049549fe1206ce8dc2ba6": {
      "buffers": [
       {
        "data": "",
        "encoding": "base64",
        "path": [
         "color",
         "value"
        ]
       },
       {
        "data": "AAAAAAAA8D8=",
        "encoding": "base64",
        "path": [
         "default_opacities",
         "value"
        ]
       },
       {
        "data": "",
        "encoding": "base64",
        "path": [
         "x",
         "value"
        ]
       },
       {
        "data": "",
        "encoding": "base64",
        "path": [
         "y",
         "value"
        ]
       }
      ],
      "model_module": "bqplot",
      "model_module_version": "^0.5.0",
      "model_name": "ScatterModel",
      "state": {
       "color": {
        "dtype": "float64",
        "shape": [
         0
        ],
        "type": null,
        "value": {}
       },
       "default_opacities": {
        "dtype": "float64",
        "shape": [
         1
        ],
        "type": null,
        "value": {}
       },
       "names": null,
       "scales": {
        "color": "IPY_MODEL_6069388738534ad0aecfe473086930e0",
        "x": "IPY_MODEL_865813cfc9bf4aef9ecd53625f45678c",
        "y": "IPY_MODEL_695b4eb232b44c3bbb55e3163f8f494e"
       },
       "scales_metadata": {
        "color": {
         "dimension": "color"
        },
        "opacity": {
         "dimension": "opacity"
        },
        "rotation": {
         "dimension": "rotation"
        },
        "size": {
         "dimension": "size"
        },
        "skew": {
         "dimension": "skew"
        },
        "x": {
         "dimension": "x",
         "orientation": "horizontal"
        },
        "y": {
         "dimension": "y",
         "orientation": "vertical"
        }
       },
       "stroke": "black",
       "x": {
        "dtype": "float64",
        "shape": [
         0
        ],
        "type": null,
        "value": {}
       },
       "y": {
        "dtype": "float64",
        "shape": [
         0
        ],
        "type": null,
        "value": {}
       }
      }
     }
    },
    "version_major": 2,
    "version_minor": 0
   }
  }
 },
 "nbformat": 4,
 "nbformat_minor": 2
}
